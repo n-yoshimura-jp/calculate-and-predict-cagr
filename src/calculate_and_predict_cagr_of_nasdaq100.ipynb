{
 "cells": [
  {
   "cell_type": "markdown",
   "id": "d58db9ed-5340-4204-8684-5552489800d9",
   "metadata": {},
   "source": [
    "# 米国株(NASDAQ100)の年平均成長率を計算する"
   ]
  },
  {
   "cell_type": "code",
   "execution_count": 1,
   "id": "522c7997-4fcb-4329-b1cf-89a6385590f6",
   "metadata": {
    "tags": []
   },
   "outputs": [],
   "source": [
    "# ライブラリをインポート\n",
    "import os\n",
    "from pprint import pprint\n",
    "import datetime\n",
    "import warnings\n",
    "\n",
    "import yfinance as yf\n",
    "import pandas as pd\n",
    "import numpy as np\n",
    "import requests\n",
    "import plotly.express as px"
   ]
  },
  {
   "cell_type": "code",
   "execution_count": 2,
   "id": "98c757c7-4cfa-4988-9310-0c47db484363",
   "metadata": {},
   "outputs": [],
   "source": [
    "# 警告を無効にする場合\n",
    "warnings.filterwarnings(\"ignore\")"
   ]
  },
  {
   "cell_type": "code",
   "execution_count": 3,
   "id": "710e15b0-5f95-4bee-8cba-f20a914c7ddb",
   "metadata": {
    "tags": []
   },
   "outputs": [],
   "source": [
    "# 米国株の全期間のCAGR(年平均成長率)を計算する関数\n",
    "def calc_us_symbol_cagr_all_periods(symbol):\n",
    "    # df_stock = yf.download(symbol)\n",
    "\n",
    "    df_stock = yf.download(symbol, auto_adjust=False, period=\"max\")\n",
    "    \n",
    "    start_date = df_stock.index[0]\n",
    "    current_date = df_stock.index[-1]\n",
    "    difference_in_days = (current_date - start_date).days\n",
    "    years_listed = difference_in_days / 365\n",
    "    \n",
    "    initial_close_price = df_stock[\"Close\"].iloc[0, 0]\n",
    "    current_close_price = df_stock[\"Close\"].iloc[-1, 0]\n",
    "    \n",
    "    current_volume = df_stock[\"Volume\"].iloc[-1, 0]\n",
    "    \n",
    "    cagr = ((current_close_price / initial_close_price) ** (1 / years_listed) - 1) * 100\n",
    "    rounded_cagr = round(cagr, 2)\n",
    "    \n",
    "    dict_data = {\n",
    "        \"symbol\": symbol, \n",
    "        \"start_date\": start_date.strftime(\"%Y-%m-%d\"), \n",
    "        \"current_date\": current_date.strftime(\"%Y-%m-%d\"), \n",
    "        \"years_listed\": years_listed, \n",
    "        \"initial_close_price\": initial_close_price, \n",
    "        \"current_close_price\": current_close_price, \n",
    "        \"current_volume\": current_volume, \n",
    "        \"cagr\": cagr\n",
    "    }\n",
    "    \n",
    "    return dict_data"
   ]
  },
  {
   "cell_type": "code",
   "execution_count": 4,
   "id": "78b8736f-5ad4-4d9f-a9c0-bcb612fa243e",
   "metadata": {
    "collapsed": true,
    "jupyter": {
     "outputs_hidden": true
    }
   },
   "outputs": [
    {
     "name": "stdout",
     "output_type": "stream",
     "text": [
      "NASDAQ 100銘柄数: 101\n",
      "\n",
      "シンボル一覧:\n",
      "ADBE\n",
      "AMD\n",
      "ABNB\n",
      "GOOGL\n",
      "GOOG\n",
      "AMZN\n",
      "AEP\n",
      "AMGN\n",
      "ADI\n",
      "AAPL\n",
      "AMAT\n",
      "APP\n",
      "ARM\n",
      "ASML\n",
      "AZN\n",
      "TEAM\n",
      "ADSK\n",
      "ADP\n",
      "AXON\n",
      "BKR\n",
      "BIIB\n",
      "BKNG\n",
      "AVGO\n",
      "CDNS\n",
      "CDW\n",
      "CHTR\n",
      "CTAS\n",
      "CSCO\n",
      "CCEP\n",
      "CTSH\n",
      "CMCSA\n",
      "CEG\n",
      "CPRT\n",
      "CSGP\n",
      "COST\n",
      "CRWD\n",
      "CSX\n",
      "DDOG\n",
      "DXCM\n",
      "FANG\n",
      "DASH\n",
      "EA\n",
      "EXC\n",
      "FAST\n",
      "FTNT\n",
      "GEHC\n",
      "GILD\n",
      "GFS\n",
      "HON\n",
      "IDXX\n",
      "INTC\n",
      "INTU\n",
      "ISRG\n",
      "KDP\n",
      "KLAC\n",
      "KHC\n",
      "LRCX\n",
      "LIN\n",
      "LULU\n",
      "MAR\n",
      "MRVL\n",
      "MELI\n",
      "META\n",
      "MCHP\n",
      "MU\n",
      "MSFT\n",
      "MSTR\n",
      "MDLZ\n",
      "MNST\n",
      "NFLX\n",
      "NVDA\n",
      "NXPI\n",
      "ORLY\n",
      "ODFL\n",
      "ON\n",
      "PCAR\n",
      "PLTR\n",
      "PANW\n",
      "PAYX\n",
      "PYPL\n",
      "PDD\n",
      "PEP\n",
      "QCOM\n",
      "REGN\n",
      "ROP\n",
      "ROST\n",
      "SHOP\n",
      "SBUX\n",
      "SNPS\n",
      "TMUS\n",
      "TTWO\n",
      "TSLA\n",
      "TXN\n",
      "TRI\n",
      "TTD\n",
      "VRSK\n",
      "VRTX\n",
      "WBD\n",
      "WDAY\n",
      "XEL\n",
      "ZS\n"
     ]
    }
   ],
   "source": [
    "# WikipediaからNASDAQ 100の銘柄リストを取得\n",
    "url = \"https://en.wikipedia.org/wiki/Nasdaq-100\"\n",
    "headers = {\"User-Agent\": \"Mozilla/5.0\"}\n",
    "response = requests.get(url, headers=headers)\n",
    "\n",
    "# HTMLテーブルを解析\n",
    "tables = pd.read_html(response.content)\n",
    "df = tables[4]\n",
    "\n",
    "# ティッカーシンボルのリストを抽出（ハイフンをドットに置換）\n",
    "symbols = [ticker.replace('-', '.') for ticker in df['Ticker'].tolist()]\n",
    "\n",
    "# 結果を表示\n",
    "print(f\"NASDAQ 100銘柄数: {len(symbols)}\")\n",
    "print(\"\\nシンボル一覧:\")\n",
    "for symbol in symbols:\n",
    "    print(symbol)"
   ]
  },
  {
   "cell_type": "code",
   "execution_count": 5,
   "id": "1bcf6e81-ca05-44b0-8bed-023c383fd1f6",
   "metadata": {
    "tags": []
   },
   "outputs": [],
   "source": [
    "# CAGR(年平均成長率)を追加するリスト\n",
    "cagr_list = []"
   ]
  },
  {
   "cell_type": "code",
   "execution_count": 6,
   "id": "cbac0b48-d7a7-422a-95ac-e8179de166d5",
   "metadata": {
    "collapsed": true,
    "jupyter": {
     "outputs_hidden": true
    },
    "tags": []
   },
   "outputs": [
    {
     "name": "stderr",
     "output_type": "stream",
     "text": [
      "[*********************100%***********************]  1 of 1 completed\n"
     ]
    },
    {
     "name": "stdout",
     "output_type": "stream",
     "text": [
      "{'symbol': 'ADBE', 'start_date': '1986-08-13', 'current_date': '2025-10-24', 'years_listed': 39.224657534246575, 'initial_close_price': np.float64(0.2109380066394806), 'current_close_price': np.float64(356.2900085449219), 'current_volume': np.int64(412902), 'cagr': np.float64(20.861010270245252)}\n"
     ]
    },
    {
     "name": "stderr",
     "output_type": "stream",
     "text": [
      "[*********************100%***********************]  1 of 1 completed\n"
     ]
    },
    {
     "name": "stdout",
     "output_type": "stream",
     "text": [
      "{'symbol': 'AMD', 'start_date': '1980-03-17', 'current_date': '2025-10-24', 'years_listed': 45.635616438356166, 'initial_close_price': np.float64(3.1458330154418945), 'current_close_price': np.float64(249.9600067138672), 'current_volume': np.int64(23900332), 'cagr': np.float64(10.061924637737318)}\n"
     ]
    },
    {
     "name": "stderr",
     "output_type": "stream",
     "text": [
      "[*********************100%***********************]  1 of 1 completed\n"
     ]
    },
    {
     "name": "stdout",
     "output_type": "stream",
     "text": [
      "{'symbol': 'ABNB', 'start_date': '2020-12-10', 'current_date': '2025-10-24', 'years_listed': 4.873972602739726, 'initial_close_price': np.float64(144.7100067138672), 'current_close_price': np.float64(128.03500366210938), 'current_volume': np.int64(524039), 'cagr': np.float64(-2.4805897983889214)}\n"
     ]
    },
    {
     "name": "stderr",
     "output_type": "stream",
     "text": [
      "[*********************100%***********************]  1 of 1 completed\n"
     ]
    },
    {
     "name": "stdout",
     "output_type": "stream",
     "text": [
      "{'symbol': 'GOOGL', 'start_date': '2004-08-19', 'current_date': '2025-10-24', 'years_listed': 21.194520547945206, 'initial_close_price': np.float64(2.5110108852386475), 'current_close_price': np.float64(260.2149963378906), 'current_volume': np.int64(7965603), 'cagr': np.float64(24.478562875033806)}\n"
     ]
    },
    {
     "name": "stderr",
     "output_type": "stream",
     "text": [
      "[*********************100%***********************]  1 of 1 completed\n"
     ]
    },
    {
     "name": "stdout",
     "output_type": "stream",
     "text": [
      "{'symbol': 'GOOG', 'start_date': '2004-08-19', 'current_date': '2025-10-23', 'years_listed': 21.19178082191781, 'initial_close_price': np.float64(2.4991331100463867), 'current_close_price': np.float64(253.72999572753906), 'current_volume': np.int64(13186600), 'cagr': np.float64(24.361749826548973)}\n"
     ]
    },
    {
     "name": "stderr",
     "output_type": "stream",
     "text": [
      "[*********************100%***********************]  1 of 1 completed\n"
     ]
    },
    {
     "name": "stdout",
     "output_type": "stream",
     "text": [
      "{'symbol': 'AMZN', 'start_date': '1997-05-15', 'current_date': '2025-10-24', 'years_listed': 28.46301369863014, 'initial_close_price': np.float64(0.09791699796915054), 'current_close_price': np.float64(223.86000061035156), 'current_volume': np.int64(9037802), 'cagr': np.float64(31.225115036876616)}\n"
     ]
    },
    {
     "name": "stderr",
     "output_type": "stream",
     "text": [
      "[*********************100%***********************]  1 of 1 completed\n"
     ]
    },
    {
     "name": "stdout",
     "output_type": "stream",
     "text": [
      "{'symbol': 'AEP', 'start_date': '1962-01-02', 'current_date': '2025-10-24', 'years_listed': 63.85205479452055, 'initial_close_price': np.float64(34.3125), 'current_close_price': np.float64(116.27999877929688), 'current_volume': np.int64(187957), 'cagr': np.float64(1.9298211830264034)}\n"
     ]
    },
    {
     "name": "stderr",
     "output_type": "stream",
     "text": [
      "[*********************100%***********************]  1 of 1 completed\n"
     ]
    },
    {
     "name": "stdout",
     "output_type": "stream",
     "text": [
      "{'symbol': 'AMGN', 'start_date': '1983-06-17', 'current_date': '2025-10-24', 'years_listed': 42.38356164383562, 'initial_close_price': np.float64(0.34375), 'current_close_price': np.float64(293.94000244140625), 'current_volume': np.int64(157232), 'cagr': np.float64(17.267627983320754)}\n"
     ]
    },
    {
     "name": "stderr",
     "output_type": "stream",
     "text": [
      "[*********************100%***********************]  1 of 1 completed\n"
     ]
    },
    {
     "name": "stdout",
     "output_type": "stream",
     "text": [
      "{'symbol': 'ADI', 'start_date': '1980-03-17', 'current_date': '2025-10-24', 'years_listed': 45.635616438356166, 'initial_close_price': np.float64(0.7279999852180481), 'current_close_price': np.float64(241.02999877929688), 'current_volume': np.int64(334011), 'cagr': np.float64(13.558254111720647)}\n"
     ]
    },
    {
     "name": "stderr",
     "output_type": "stream",
     "text": [
      "[*********************100%***********************]  1 of 1 completed\n"
     ]
    },
    {
     "name": "stdout",
     "output_type": "stream",
     "text": [
      "{'symbol': 'AAPL', 'start_date': '1980-12-12', 'current_date': '2025-10-24', 'years_listed': 44.895890410958906, 'initial_close_price': np.float64(0.1283479928970337), 'current_close_price': np.float64(260.8599853515625), 'current_volume': np.int64(6525281), 'cagr': np.float64(18.490078266000754)}\n"
     ]
    },
    {
     "name": "stderr",
     "output_type": "stream",
     "text": [
      "[*********************100%***********************]  1 of 1 completed\n"
     ]
    },
    {
     "name": "stdout",
     "output_type": "stream",
     "text": [
      "{'symbol': 'AMAT', 'start_date': '1980-03-17', 'current_date': '2025-10-24', 'years_listed': 45.635616438356166, 'initial_close_price': np.float64(0.09548600018024445), 'current_close_price': np.float64(229.5399932861328), 'current_volume': np.int64(1127590), 'cagr': np.float64(18.6001089736505)}\n"
     ]
    },
    {
     "name": "stderr",
     "output_type": "stream",
     "text": [
      "[*********************100%***********************]  1 of 1 completed\n"
     ]
    },
    {
     "name": "stdout",
     "output_type": "stream",
     "text": [
      "{'symbol': 'APP', 'start_date': '2021-04-15', 'current_date': '2025-10-24', 'years_listed': 4.528767123287671, 'initial_close_price': np.float64(65.19999694824219), 'current_close_price': np.float64(626.2100219726562), 'current_volume': np.int64(1316275), 'cagr': np.float64(64.79361285167862)}\n"
     ]
    },
    {
     "name": "stderr",
     "output_type": "stream",
     "text": [
      "[*********************100%***********************]  1 of 1 completed\n"
     ]
    },
    {
     "name": "stdout",
     "output_type": "stream",
     "text": [
      "{'symbol': 'ARM', 'start_date': '2023-09-14', 'current_date': '2025-10-24', 'years_listed': 2.1123287671232878, 'initial_close_price': np.float64(63.59000015258789), 'current_close_price': np.float64(171.8800048828125), 'current_volume': np.int64(853059), 'cagr': np.float64(60.116552546378955)}\n"
     ]
    },
    {
     "name": "stderr",
     "output_type": "stream",
     "text": [
      "[*********************100%***********************]  1 of 1 completed\n"
     ]
    },
    {
     "name": "stdout",
     "output_type": "stream",
     "text": [
      "{'symbol': 'ASML', 'start_date': '1995-03-15', 'current_date': '2025-10-24', 'years_listed': 30.632876712328766, 'initial_close_price': np.float64(2.739448070526123), 'current_close_price': np.float64(1042.199951171875), 'current_volume': np.int64(252768), 'cagr': np.float64(21.40389955784783)}\n"
     ]
    },
    {
     "name": "stderr",
     "output_type": "stream",
     "text": [
      "[*********************100%***********************]  1 of 1 completed\n"
     ]
    },
    {
     "name": "stdout",
     "output_type": "stream",
     "text": [
      "{'symbol': 'AZN', 'start_date': '1993-05-12', 'current_date': '2025-10-24', 'years_listed': 32.47397260273973, 'initial_close_price': np.float64(5.0416669845581055), 'current_close_price': np.float64(83.13050079345703), 'current_volume': np.int64(386750), 'cagr': np.float64(9.013906158169283)}\n"
     ]
    },
    {
     "name": "stderr",
     "output_type": "stream",
     "text": [
      "[*********************100%***********************]  1 of 1 completed\n"
     ]
    },
    {
     "name": "stdout",
     "output_type": "stream",
     "text": [
      "{'symbol': 'TEAM', 'start_date': '2015-12-09', 'current_date': '2025-10-24', 'years_listed': 9.882191780821918, 'initial_close_price': np.float64(21.0), 'current_close_price': np.float64(166.64999389648438), 'current_volume': np.int64(293254), 'cagr': np.float64(23.319291514492303)}\n"
     ]
    },
    {
     "name": "stderr",
     "output_type": "stream",
     "text": [
      "[*********************100%***********************]  1 of 1 completed\n"
     ]
    },
    {
     "name": "stdout",
     "output_type": "stream",
     "text": [
      "{'symbol': 'ADSK', 'start_date': '1985-06-28', 'current_date': '2025-10-24', 'years_listed': 40.35068493150685, 'initial_close_price': np.float64(0.5), 'current_close_price': np.float64(312.79998779296875), 'current_volume': np.int64(124951), 'cagr': np.float64(17.300498475929025)}\n"
     ]
    },
    {
     "name": "stderr",
     "output_type": "stream",
     "text": [
      "[*********************100%***********************]  1 of 1 completed\n"
     ]
    },
    {
     "name": "stdout",
     "output_type": "stream",
     "text": [
      "{'symbol': 'ADP', 'start_date': '1980-03-17', 'current_date': '2025-10-24', 'years_listed': 45.635616438356166, 'initial_close_price': np.float64(0.8178470134735107), 'current_close_price': np.float64(281.5249938964844), 'current_volume': np.int64(83398), 'cagr': np.float64(13.655156599975538)}\n"
     ]
    },
    {
     "name": "stderr",
     "output_type": "stream",
     "text": [
      "[*********************100%***********************]  1 of 1 completed\n"
     ]
    },
    {
     "name": "stdout",
     "output_type": "stream",
     "text": [
      "{'symbol': 'AXON', 'start_date': '2001-06-19', 'current_date': '2025-10-24', 'years_listed': 24.364383561643837, 'initial_close_price': np.float64(0.46000000834465027), 'current_close_price': np.float64(734.9600219726562), 'current_volume': np.int64(49189), 'cagr': np.float64(35.35775700174262)}\n"
     ]
    },
    {
     "name": "stderr",
     "output_type": "stream",
     "text": [
      "[*********************100%***********************]  1 of 1 completed\n"
     ]
    },
    {
     "name": "stdout",
     "output_type": "stream",
     "text": [
      "{'symbol': 'BKR', 'start_date': '1987-04-06', 'current_date': '2025-10-24', 'years_listed': 38.57808219178082, 'initial_close_price': np.float64(18.625), 'current_close_price': np.float64(48.130001068115234), 'current_volume': np.int64(1764094), 'cagr': np.float64(2.491517518182085)}\n"
     ]
    },
    {
     "name": "stderr",
     "output_type": "stream",
     "text": [
      "[*********************100%***********************]  1 of 1 completed\n"
     ]
    },
    {
     "name": "stdout",
     "output_type": "stream",
     "text": [
      "{'symbol': 'BIIB', 'start_date': '1991-09-17', 'current_date': '2025-10-24', 'years_listed': 34.12602739726027, 'initial_close_price': np.float64(3.125), 'current_close_price': np.float64(151.2050018310547), 'current_volume': np.int64(206017), 'cagr': np.float64(12.03855133122753)}\n"
     ]
    },
    {
     "name": "stderr",
     "output_type": "stream",
     "text": [
      "[*********************100%***********************]  1 of 1 completed\n"
     ]
    },
    {
     "name": "stdout",
     "output_type": "stream",
     "text": [
      "{'symbol': 'BKNG', 'start_date': '1999-03-31', 'current_date': '2025-10-24', 'years_listed': 26.586301369863012, 'initial_close_price': np.float64(497.25), 'current_close_price': np.float64(5113.4501953125), 'current_volume': np.int64(31677), 'cagr': np.float64(9.161615140705592)}\n"
     ]
    },
    {
     "name": "stderr",
     "output_type": "stream",
     "text": [
      "[*********************100%***********************]  1 of 1 completed\n"
     ]
    },
    {
     "name": "stdout",
     "output_type": "stream",
     "text": [
      "{'symbol': 'AVGO', 'start_date': '2009-08-06', 'current_date': '2025-10-24', 'years_listed': 16.22739726027397, 'initial_close_price': np.float64(1.6180000305175781), 'current_close_price': np.float64(353.2099914550781), 'current_volume': np.int64(3338042), 'cagr': np.float64(39.36133744367858)}\n"
     ]
    },
    {
     "name": "stderr",
     "output_type": "stream",
     "text": [
      "[*********************100%***********************]  1 of 1 completed\n"
     ]
    },
    {
     "name": "stdout",
     "output_type": "stream",
     "text": [
      "{'symbol': 'CDNS', 'start_date': '1987-06-10', 'current_date': '2025-10-24', 'years_listed': 38.4, 'initial_close_price': np.float64(2.0), 'current_close_price': np.float64(345.0851135253906), 'current_volume': np.int64(221082), 'cagr': np.float64(14.354301629693422)}\n"
     ]
    },
    {
     "name": "stderr",
     "output_type": "stream",
     "text": [
      "[*********************100%***********************]  1 of 1 completed\n"
     ]
    },
    {
     "name": "stdout",
     "output_type": "stream",
     "text": [
      "{'symbol': 'CDW', 'start_date': '2013-06-27', 'current_date': '2025-10-24', 'years_listed': 12.334246575342465, 'initial_close_price': np.float64(18.3700008392334), 'current_close_price': np.float64(159.67999267578125), 'current_volume': np.int64(172217), 'cagr': np.float64(19.162870454208214)}\n"
     ]
    },
    {
     "name": "stderr",
     "output_type": "stream",
     "text": [
      "[*********************100%***********************]  1 of 1 completed\n"
     ]
    },
    {
     "name": "stdout",
     "output_type": "stream",
     "text": [
      "{'symbol': 'CHTR', 'start_date': '2010-01-05', 'current_date': '2025-10-24', 'years_listed': 15.810958904109588, 'initial_close_price': np.float64(35.0), 'current_close_price': np.float64(246.04010009765625), 'current_volume': np.int64(196944), 'cagr': np.float64(13.127061824621888)}\n"
     ]
    },
    {
     "name": "stderr",
     "output_type": "stream",
     "text": [
      "[*********************100%***********************]  1 of 1 completed\n"
     ]
    },
    {
     "name": "stdout",
     "output_type": "stream",
     "text": [
      "{'symbol': 'CTAS', 'start_date': '1983-08-19', 'current_date': '2025-10-24', 'years_listed': 42.21095890410959, 'initial_close_price': np.float64(0.2378470003604889), 'current_close_price': np.float64(191.5299072265625), 'current_volume': np.int64(105980), 'cagr': np.float64(17.177231789968417)}\n"
     ]
    },
    {
     "name": "stderr",
     "output_type": "stream",
     "text": [
      "[*********************100%***********************]  1 of 1 completed\n"
     ]
    },
    {
     "name": "stdout",
     "output_type": "stream",
     "text": [
      "{'symbol': 'CSCO', 'start_date': '1990-02-16', 'current_date': '2025-10-24', 'years_listed': 35.70958904109589, 'initial_close_price': np.float64(0.07725699990987778), 'current_close_price': np.float64(70.45500183105469), 'current_volume': np.int64(2036403), 'cagr': np.float64(21.029202718888172)}\n"
     ]
    },
    {
     "name": "stderr",
     "output_type": "stream",
     "text": [
      "[*********************100%***********************]  1 of 1 completed\n"
     ]
    },
    {
     "name": "stdout",
     "output_type": "stream",
     "text": [
      "{'symbol': 'CCEP', 'start_date': '1986-11-24', 'current_date': '2025-10-24', 'years_listed': 38.942465753424656, 'initial_close_price': np.float64(5.3333330154418945), 'current_close_price': np.float64(91.31999969482422), 'current_volume': np.int64(119143), 'cagr': np.float64(7.566406127277969)}\n"
     ]
    },
    {
     "name": "stderr",
     "output_type": "stream",
     "text": [
      "[*********************100%***********************]  1 of 1 completed\n"
     ]
    },
    {
     "name": "stdout",
     "output_type": "stream",
     "text": [
      "{'symbol': 'CTSH', 'start_date': '1998-06-19', 'current_date': '2025-10-24', 'years_listed': 27.367123287671234, 'initial_close_price': np.float64(0.20833300054073334), 'current_close_price': np.float64(68.12999725341797), 'current_volume': np.int64(403122), 'cagr': np.float64(23.56152297518266)}\n"
     ]
    },
    {
     "name": "stderr",
     "output_type": "stream",
     "text": [
      "[*********************100%***********************]  1 of 1 completed\n"
     ]
    },
    {
     "name": "stdout",
     "output_type": "stream",
     "text": [
      "{'symbol': 'CMCSA', 'start_date': '1980-03-17', 'current_date': '2025-10-24', 'years_listed': 45.635616438356166, 'initial_close_price': np.float64(0.09754599630832672), 'current_close_price': np.float64(29.450000762939453), 'current_volume': np.int64(2445352), 'cagr': np.float64(13.32893278013949)}\n"
     ]
    },
    {
     "name": "stderr",
     "output_type": "stream",
     "text": [
      "[*********************100%***********************]  1 of 1 completed\n"
     ]
    },
    {
     "name": "stdout",
     "output_type": "stream",
     "text": [
      "{'symbol': 'CEG', 'start_date': '2022-01-19', 'current_date': '2025-10-24', 'years_listed': 3.7643835616438355, 'initial_close_price': np.float64(42.0), 'current_close_price': np.float64(385.8949890136719), 'current_volume': np.int64(740464), 'cagr': np.float64(80.25079116218252)}\n"
     ]
    },
    {
     "name": "stderr",
     "output_type": "stream",
     "text": [
      "[*********************100%***********************]  1 of 1 completed\n"
     ]
    },
    {
     "name": "stdout",
     "output_type": "stream",
     "text": [
      "{'symbol': 'CPRT', 'start_date': '1994-03-17', 'current_date': '2025-10-24', 'years_listed': 31.627397260273973, 'initial_close_price': np.float64(0.1523440033197403), 'current_close_price': np.float64(44.790000915527344), 'current_volume': np.int64(540650), 'cagr': np.float64(19.68641464595833)}\n"
     ]
    },
    {
     "name": "stderr",
     "output_type": "stream",
     "text": [
      "[*********************100%***********************]  1 of 1 completed\n"
     ]
    },
    {
     "name": "stdout",
     "output_type": "stream",
     "text": [
      "{'symbol': 'CSGP', 'start_date': '1998-07-01', 'current_date': '2025-10-24', 'years_listed': 27.334246575342465, 'initial_close_price': np.float64(0.918749988079071), 'current_close_price': np.float64(77.83000183105469), 'current_volume': np.int64(157126), 'cagr': np.float64(17.633870909604354)}\n"
     ]
    },
    {
     "name": "stderr",
     "output_type": "stream",
     "text": [
      "[*********************100%***********************]  1 of 1 completed\n"
     ]
    },
    {
     "name": "stdout",
     "output_type": "stream",
     "text": [
      "{'symbol': 'COST', 'start_date': '1986-07-09', 'current_date': '2025-10-24', 'years_listed': 39.320547945205476, 'initial_close_price': np.float64(11.0), 'current_close_price': np.float64(938.6900024414062), 'current_volume': np.int64(291756), 'cagr': np.float64(11.97278418833234)}\n"
     ]
    },
    {
     "name": "stderr",
     "output_type": "stream",
     "text": [
      "[*********************100%***********************]  1 of 1 completed\n"
     ]
    },
    {
     "name": "stdout",
     "output_type": "stream",
     "text": [
      "{'symbol': 'CRWD', 'start_date': '2019-06-12', 'current_date': '2025-10-24', 'years_listed': 6.372602739726028, 'initial_close_price': np.float64(58.0), 'current_close_price': np.float64(533.6099853515625), 'current_volume': np.int64(825015), 'cagr': np.float64(41.65781923582757)}\n"
     ]
    },
    {
     "name": "stderr",
     "output_type": "stream",
     "text": [
      "[*********************100%***********************]  1 of 1 completed\n"
     ]
    },
    {
     "name": "stdout",
     "output_type": "stream",
     "text": [
      "{'symbol': 'CSX', 'start_date': '1980-11-03', 'current_date': '2025-10-24', 'years_listed': 45.0027397260274, 'initial_close_price': np.float64(0.39120399951934814), 'current_close_price': np.float64(35.75), 'current_volume': np.int64(1094758), 'cagr': np.float64(10.553449344854782)}\n"
     ]
    },
    {
     "name": "stderr",
     "output_type": "stream",
     "text": [
      "[*********************100%***********************]  1 of 1 completed\n"
     ]
    },
    {
     "name": "stdout",
     "output_type": "stream",
     "text": [
      "{'symbol': 'DDOG', 'start_date': '2019-09-19', 'current_date': '2025-10-24', 'years_listed': 6.101369863013699, 'initial_close_price': np.float64(37.54999923706055), 'current_close_price': np.float64(158.58999633789062), 'current_volume': np.int64(315186), 'cagr': np.float64(26.63248950497623)}\n"
     ]
    },
    {
     "name": "stderr",
     "output_type": "stream",
     "text": [
      "[*********************100%***********************]  1 of 1 completed\n"
     ]
    },
    {
     "name": "stdout",
     "output_type": "stream",
     "text": [
      "{'symbol': 'DXCM', 'start_date': '2005-04-14', 'current_date': '2025-10-24', 'years_listed': 20.542465753424658, 'initial_close_price': np.float64(2.934999942779541), 'current_close_price': np.float64(71.63999938964844), 'current_volume': np.int64(464268), 'cagr': np.float64(16.827564375091697)}\n"
     ]
    },
    {
     "name": "stderr",
     "output_type": "stream",
     "text": [
      "[*********************100%***********************]  1 of 1 completed\n"
     ]
    },
    {
     "name": "stdout",
     "output_type": "stream",
     "text": [
      "{'symbol': 'FANG', 'start_date': '2012-10-12', 'current_date': '2025-10-24', 'years_listed': 13.04109589041096, 'initial_close_price': np.float64(17.5), 'current_close_price': np.float64(147.55999755859375), 'current_volume': np.int64(148136), 'cagr': np.float64(17.760863128632476)}\n"
     ]
    },
    {
     "name": "stderr",
     "output_type": "stream",
     "text": [
      "[*********************100%***********************]  1 of 1 completed\n"
     ]
    },
    {
     "name": "stdout",
     "output_type": "stream",
     "text": [
      "{'symbol': 'DASH', 'start_date': '2020-12-09', 'current_date': '2025-10-24', 'years_listed': 4.876712328767123, 'initial_close_price': np.float64(189.50999450683594), 'current_close_price': np.float64(257.92498779296875), 'current_volume': np.int64(435971), 'cagr': np.float64(6.524397550216432)}\n"
     ]
    },
    {
     "name": "stderr",
     "output_type": "stream",
     "text": [
      "[*********************100%***********************]  1 of 1 completed\n"
     ]
    },
    {
     "name": "stdout",
     "output_type": "stream",
     "text": [
      "{'symbol': 'EA', 'start_date': '1989-09-20', 'current_date': '2025-10-24', 'years_listed': 36.11780821917808, 'initial_close_price': np.float64(0.515625), 'current_close_price': np.float64(200.6999969482422), 'current_volume': np.int64(251572), 'cagr': np.float64(17.95481836549442)}\n"
     ]
    },
    {
     "name": "stderr",
     "output_type": "stream",
     "text": [
      "[*********************100%***********************]  1 of 1 completed\n"
     ]
    },
    {
     "name": "stdout",
     "output_type": "stream",
     "text": [
      "{'symbol': 'EXC', 'start_date': '1973-05-02', 'current_date': '2025-10-23', 'years_listed': 52.512328767123286, 'initial_close_price': np.float64(7.979671955108643), 'current_close_price': np.float64(47.599998474121094), 'current_volume': np.int64(11512700), 'cagr': np.float64(3.459477778254305)}\n"
     ]
    },
    {
     "name": "stderr",
     "output_type": "stream",
     "text": [
      "[*********************100%***********************]  1 of 1 completed\n"
     ]
    },
    {
     "name": "stdout",
     "output_type": "stream",
     "text": [
      "{'symbol': 'FAST', 'start_date': '1987-08-20', 'current_date': '2025-10-24', 'years_listed': 38.205479452054796, 'initial_close_price': np.float64(0.0315760001540184), 'current_close_price': np.float64(43.005001068115234), 'current_volume': np.int64(522738), 'cagr': np.float64(20.790938213489653)}\n"
     ]
    },
    {
     "name": "stderr",
     "output_type": "stream",
     "text": [
      "[*********************100%***********************]  1 of 1 completed\n"
     ]
    },
    {
     "name": "stdout",
     "output_type": "stream",
     "text": [
      "{'symbol': 'FTNT', 'start_date': '2009-11-18', 'current_date': '2025-10-24', 'years_listed': 15.942465753424658, 'initial_close_price': np.float64(1.6619999408721924), 'current_close_price': np.float64(85.43000030517578), 'current_volume': np.int64(425926), 'cagr': np.float64(28.033061792891445)}\n"
     ]
    },
    {
     "name": "stderr",
     "output_type": "stream",
     "text": [
      "[*********************100%***********************]  1 of 1 completed\n"
     ]
    },
    {
     "name": "stdout",
     "output_type": "stream",
     "text": [
      "{'symbol': 'GEHC', 'start_date': '2022-12-15', 'current_date': '2025-10-24', 'years_listed': 2.8602739726027395, 'initial_close_price': np.float64(60.0), 'current_close_price': np.float64(77.93389892578125), 'current_volume': np.int64(237338), 'cagr': np.float64(9.574068751879473)}\n"
     ]
    },
    {
     "name": "stderr",
     "output_type": "stream",
     "text": [
      "[*********************100%***********************]  1 of 1 completed\n"
     ]
    },
    {
     "name": "stdout",
     "output_type": "stream",
     "text": [
      "{'symbol': 'GILD', 'start_date': '1992-01-22', 'current_date': '2025-10-24', 'years_listed': 33.778082191780825, 'initial_close_price': np.float64(0.6328129768371582), 'current_close_price': np.float64(120.0376968383789), 'current_volume': np.int64(960416), 'cagr': np.float64(16.79962093657874)}\n"
     ]
    },
    {
     "name": "stderr",
     "output_type": "stream",
     "text": [
      "[*********************100%***********************]  1 of 1 completed\n"
     ]
    },
    {
     "name": "stdout",
     "output_type": "stream",
     "text": [
      "{'symbol': 'GFS', 'start_date': '2021-10-28', 'current_date': '2025-10-24', 'years_listed': 3.9917808219178084, 'initial_close_price': np.float64(46.400001525878906), 'current_close_price': np.float64(35.61000061035156), 'current_volume': np.int64(288385), 'cagr': np.float64(-6.4154131544344235)}\n"
     ]
    },
    {
     "name": "stderr",
     "output_type": "stream",
     "text": [
      "[*********************100%***********************]  1 of 1 completed\n"
     ]
    },
    {
     "name": "stdout",
     "output_type": "stream",
     "text": [
      "{'symbol': 'HON', 'start_date': '1962-01-02', 'current_date': '2025-10-24', 'years_listed': 63.85205479452055, 'initial_close_price': np.float64(8.310028076171875), 'current_close_price': np.float64(216.61000061035156), 'current_volume': np.int64(793415), 'cagr': np.float64(5.239179653031667)}\n"
     ]
    },
    {
     "name": "stderr",
     "output_type": "stream",
     "text": [
      "[*********************100%***********************]  1 of 1 completed\n"
     ]
    },
    {
     "name": "stdout",
     "output_type": "stream",
     "text": [
      "{'symbol': 'IDXX', 'start_date': '1991-06-21', 'current_date': '2025-10-24', 'years_listed': 34.367123287671234, 'initial_close_price': np.float64(0.9453129768371582), 'current_close_price': np.float64(648.5999755859375), 'current_volume': np.int64(35221), 'cagr': np.float64(20.929540908144652)}\n"
     ]
    },
    {
     "name": "stderr",
     "output_type": "stream",
     "text": [
      "[*********************100%***********************]  1 of 1 completed\n"
     ]
    },
    {
     "name": "stdout",
     "output_type": "stream",
     "text": [
      "{'symbol': 'INTC', 'start_date': '1980-03-17', 'current_date': '2025-10-24', 'years_listed': 45.635616438356166, 'initial_close_price': np.float64(0.32552099227905273), 'current_close_price': np.float64(38.765899658203125), 'current_volume': np.int64(97620247), 'cagr': np.float64(11.042173774277387)}\n"
     ]
    },
    {
     "name": "stderr",
     "output_type": "stream",
     "text": [
      "[*********************100%***********************]  1 of 1 completed\n"
     ]
    },
    {
     "name": "stdout",
     "output_type": "stream",
     "text": [
      "{'symbol': 'INTU', 'start_date': '1993-03-12', 'current_date': '2025-10-24', 'years_listed': 32.64109589041096, 'initial_close_price': np.float64(2.6458330154418945), 'current_close_price': np.float64(684.760009765625), 'current_volume': np.int64(157210), 'cagr': np.float64(18.556256443125974)}\n"
     ]
    },
    {
     "name": "stderr",
     "output_type": "stream",
     "text": [
      "[*********************100%***********************]  1 of 1 completed\n"
     ]
    },
    {
     "name": "stdout",
     "output_type": "stream",
     "text": [
      "{'symbol': 'ISRG', 'start_date': '2000-06-16', 'current_date': '2025-10-24', 'years_listed': 25.372602739726027, 'initial_close_price': np.float64(2.027777910232544), 'current_close_price': np.float64(548.510009765625), 'current_volume': np.int64(742036), 'cagr': np.float64(24.697541254681443)}\n"
     ]
    },
    {
     "name": "stderr",
     "output_type": "stream",
     "text": [
      "[*********************100%***********************]  1 of 1 completed\n"
     ]
    },
    {
     "name": "stdout",
     "output_type": "stream",
     "text": [
      "{'symbol': 'KDP', 'start_date': '2008-05-07', 'current_date': '2025-10-24', 'years_listed': 17.476712328767125, 'initial_close_price': np.float64(25.5), 'current_close_price': np.float64(27.53499984741211), 'current_volume': np.int64(995527), 'cagr': np.float64(0.440290864113968)}\n"
     ]
    },
    {
     "name": "stderr",
     "output_type": "stream",
     "text": [
      "[*********************100%***********************]  1 of 1 completed\n"
     ]
    },
    {
     "name": "stdout",
     "output_type": "stream",
     "text": [
      "{'symbol': 'KLAC', 'start_date': '1980-10-08', 'current_date': '2025-10-24', 'years_listed': 45.07397260273972, 'initial_close_price': np.float64(1.15625), 'current_close_price': np.float64(1186.280029296875), 'current_volume': np.int64(142375), 'cagr': np.float64(16.62839695496714)}\n"
     ]
    },
    {
     "name": "stderr",
     "output_type": "stream",
     "text": [
      "[*********************100%***********************]  1 of 1 completed\n"
     ]
    },
    {
     "name": "stdout",
     "output_type": "stream",
     "text": [
      "{'symbol': 'KHC', 'start_date': '2015-07-06', 'current_date': '2025-10-24', 'years_listed': 10.30958904109589, 'initial_close_price': np.float64(72.95999908447266), 'current_close_price': np.float64(25.360000610351562), 'current_volume': np.int64(822682), 'cagr': np.float64(-9.742231449956185)}\n"
     ]
    },
    {
     "name": "stderr",
     "output_type": "stream",
     "text": [
      "[*********************100%***********************]  1 of 1 completed\n"
     ]
    },
    {
     "name": "stdout",
     "output_type": "stream",
     "text": [
      "{'symbol': 'LRCX', 'start_date': '1984-05-04', 'current_date': '2025-10-24', 'years_listed': 41.5013698630137, 'initial_close_price': np.float64(0.2222220003604889), 'current_close_price': np.float64(151.7449951171875), 'current_volume': np.int64(2475906), 'cagr': np.float64(17.029349114766347)}\n"
     ]
    },
    {
     "name": "stderr",
     "output_type": "stream",
     "text": [
      "[*********************100%***********************]  1 of 1 completed\n"
     ]
    },
    {
     "name": "stdout",
     "output_type": "stream",
     "text": [
      "{'symbol': 'LIN', 'start_date': '1992-06-17', 'current_date': '2025-10-24', 'years_listed': 33.37534246575343, 'initial_close_price': np.float64(7.9375), 'current_close_price': np.float64(448.385009765625), 'current_volume': np.int64(182253), 'cagr': np.float64(12.847739770743448)}\n"
     ]
    },
    {
     "name": "stderr",
     "output_type": "stream",
     "text": [
      "[*********************100%***********************]  1 of 1 completed\n"
     ]
    },
    {
     "name": "stdout",
     "output_type": "stream",
     "text": [
      "{'symbol': 'LULU', 'start_date': '2007-07-27', 'current_date': '2025-10-24', 'years_listed': 18.257534246575343, 'initial_close_price': np.float64(14.0), 'current_close_price': np.float64(180.25), 'current_volume': np.int64(527333), 'cagr': np.float64(15.02254548856381)}\n"
     ]
    },
    {
     "name": "stderr",
     "output_type": "stream",
     "text": [
      "[*********************100%***********************]  1 of 1 completed\n"
     ]
    },
    {
     "name": "stdout",
     "output_type": "stream",
     "text": [
      "{'symbol': 'MAR', 'start_date': '1998-03-23', 'current_date': '2025-10-24', 'years_listed': 27.60821917808219, 'initial_close_price': np.float64(16.779876708984375), 'current_close_price': np.float64(270.93499755859375), 'current_volume': np.int64(161029), 'cagr': np.float64(10.600693731352596)}\n"
     ]
    },
    {
     "name": "stderr",
     "output_type": "stream",
     "text": [
      "[*********************100%***********************]  1 of 1 completed\n"
     ]
    },
    {
     "name": "stdout",
     "output_type": "stream",
     "text": [
      "{'symbol': 'MRVL', 'start_date': '2000-06-30', 'current_date': '2025-10-24', 'years_listed': 25.334246575342465, 'initial_close_price': np.float64(14.25), 'current_close_price': np.float64(84.31999969482422), 'current_volume': np.int64(2006297), 'cagr': np.float64(7.26972170315312)}\n"
     ]
    },
    {
     "name": "stderr",
     "output_type": "stream",
     "text": [
      "[*********************100%***********************]  1 of 1 completed\n"
     ]
    },
    {
     "name": "stdout",
     "output_type": "stream",
     "text": [
      "{'symbol': 'MELI', 'start_date': '2007-08-10', 'current_date': '2025-10-24', 'years_listed': 18.21917808219178, 'initial_close_price': np.float64(28.5), 'current_close_price': np.float64(2170.735107421875), 'current_volume': np.int64(57779), 'cagr': np.float64(26.848308269328513)}\n"
     ]
    },
    {
     "name": "stderr",
     "output_type": "stream",
     "text": [
      "[*********************100%***********************]  1 of 1 completed\n"
     ]
    },
    {
     "name": "stdout",
     "output_type": "stream",
     "text": [
      "{'symbol': 'META', 'start_date': '2012-05-18', 'current_date': '2025-10-24', 'years_listed': 13.443835616438356, 'initial_close_price': np.float64(38.22999954223633), 'current_close_price': np.float64(735.7216796875), 'current_volume': np.int64(2162779), 'cagr': np.float64(24.60384996988685)}\n"
     ]
    },
    {
     "name": "stderr",
     "output_type": "stream",
     "text": [
      "[*********************100%***********************]  1 of 1 completed\n"
     ]
    },
    {
     "name": "stdout",
     "output_type": "stream",
     "text": [
      "{'symbol': 'MCHP', 'start_date': '1993-03-19', 'current_date': '2025-10-24', 'years_listed': 32.62191780821918, 'initial_close_price': np.float64(0.32647499442100525), 'current_close_price': np.float64(64.12750244140625), 'current_volume': np.int64(1107334), 'cagr': np.float64(17.56989347893687)}\n"
     ]
    },
    {
     "name": "stderr",
     "output_type": "stream",
     "text": [
      "[*********************100%***********************]  1 of 1 completed\n"
     ]
    },
    {
     "name": "stdout",
     "output_type": "stream",
     "text": [
      "{'symbol': 'MU', 'start_date': '1984-06-01', 'current_date': '2025-10-23', 'years_listed': 41.42191780821918, 'initial_close_price': np.float64(1.412500023841858), 'current_close_price': np.float64(206.7100067138672), 'current_volume': np.int64(19359100), 'cagr': np.float64(12.791408707459805)}\n"
     ]
    },
    {
     "name": "stderr",
     "output_type": "stream",
     "text": [
      "[*********************100%***********************]  1 of 1 completed\n"
     ]
    },
    {
     "name": "stdout",
     "output_type": "stream",
     "text": [
      "{'symbol': 'MSFT', 'start_date': '1986-03-13', 'current_date': '2025-10-24', 'years_listed': 39.64383561643836, 'initial_close_price': np.float64(0.09722200036048889), 'current_close_price': np.float64(523.0999755859375), 'current_volume': np.int64(3039806), 'cagr': np.float64(24.196242220730756)}\n"
     ]
    },
    {
     "name": "stderr",
     "output_type": "stream",
     "text": [
      "[*********************100%***********************]  1 of 1 completed\n"
     ]
    },
    {
     "name": "stdout",
     "output_type": "stream",
     "text": [
      "{'symbol': 'MSTR', 'start_date': '1998-06-11', 'current_date': '2025-10-24', 'years_listed': 27.389041095890413, 'initial_close_price': np.float64(10.5625), 'current_close_price': np.float64(290.7449951171875), 'current_volume': np.int64(2086028), 'cagr': np.float64(12.866870046260171)}\n"
     ]
    },
    {
     "name": "stderr",
     "output_type": "stream",
     "text": [
      "[*********************100%***********************]  1 of 1 completed\n"
     ]
    },
    {
     "name": "stdout",
     "output_type": "stream",
     "text": [
      "{'symbol': 'MDLZ', 'start_date': '2001-06-13', 'current_date': '2025-10-24', 'years_listed': 24.38082191780822, 'initial_close_price': np.float64(31.25), 'current_close_price': np.float64(61.27000045776367), 'current_volume': np.int64(582756), 'cagr': np.float64(2.7999598948757587)}\n"
     ]
    },
    {
     "name": "stderr",
     "output_type": "stream",
     "text": [
      "[*********************100%***********************]  1 of 1 completed\n"
     ]
    },
    {
     "name": "stdout",
     "output_type": "stream",
     "text": [
      "{'symbol': 'MNST', 'start_date': '1985-12-09', 'current_date': '2025-10-24', 'years_listed': 39.9013698630137, 'initial_close_price': np.float64(0.08138000220060349), 'current_close_price': np.float64(69.83000183105469), 'current_volume': np.int64(319541), 'cagr': np.float64(18.44572473115713)}\n"
     ]
    },
    {
     "name": "stderr",
     "output_type": "stream",
     "text": [
      "[*********************100%***********************]  1 of 1 completed\n"
     ]
    },
    {
     "name": "stdout",
     "output_type": "stream",
     "text": [
      "{'symbol': 'NFLX', 'start_date': '2002-05-23', 'current_date': '2025-10-24', 'years_listed': 23.438356164383563, 'initial_close_price': np.float64(1.1964290142059326), 'current_close_price': np.float64(1110.31005859375), 'current_volume': np.int64(1653906), 'cagr': np.float64(33.84777454775178)}\n"
     ]
    },
    {
     "name": "stderr",
     "output_type": "stream",
     "text": [
      "[*********************100%***********************]  1 of 1 completed\n"
     ]
    },
    {
     "name": "stdout",
     "output_type": "stream",
     "text": [
      "{'symbol': 'NVDA', 'start_date': '1999-01-22', 'current_date': '2025-10-24', 'years_listed': 26.77260273972603, 'initial_close_price': np.float64(0.041016001254320145), 'current_close_price': np.float64(184.38499450683594), 'current_volume': np.int64(34530377), 'cagr': np.float64(36.910560944556956)}\n"
     ]
    },
    {
     "name": "stderr",
     "output_type": "stream",
     "text": [
      "[*********************100%***********************]  1 of 1 completed\n"
     ]
    },
    {
     "name": "stdout",
     "output_type": "stream",
     "text": [
      "{'symbol': 'NXPI', 'start_date': '2010-08-06', 'current_date': '2025-10-24', 'years_listed': 15.227397260273973, 'initial_close_price': np.float64(14.0), 'current_close_price': np.float64(220.6199951171875), 'current_volume': np.int64(374712), 'cagr': np.float64(19.851163223821146)}\n"
     ]
    },
    {
     "name": "stderr",
     "output_type": "stream",
     "text": [
      "[*********************100%***********************]  1 of 1 completed\n"
     ]
    },
    {
     "name": "stdout",
     "output_type": "stream",
     "text": [
      "{'symbol': 'ORLY', 'start_date': '1993-04-23', 'current_date': '2025-10-24', 'years_listed': 32.52602739726027, 'initial_close_price': np.float64(0.16041700541973114), 'current_close_price': np.float64(98.7300033569336), 'current_volume': np.int64(1058251), 'cagr': np.float64(21.829601977872603)}\n"
     ]
    },
    {
     "name": "stderr",
     "output_type": "stream",
     "text": [
      "[*********************100%***********************]  1 of 1 completed\n"
     ]
    },
    {
     "name": "stdout",
     "output_type": "stream",
     "text": [
      "{'symbol': 'ODFL', 'start_date': '1991-10-24', 'current_date': '2025-10-24', 'years_listed': 34.02465753424657, 'initial_close_price': np.float64(0.5706449747085571), 'current_close_price': np.float64(137.14500427246094), 'current_volume': np.int64(145744), 'cagr': np.float64(17.48250414746737)}\n"
     ]
    },
    {
     "name": "stderr",
     "output_type": "stream",
     "text": [
      "[*********************100%***********************]  1 of 1 completed\n"
     ]
    },
    {
     "name": "stdout",
     "output_type": "stream",
     "text": [
      "{'symbol': 'ON', 'start_date': '2000-05-02', 'current_date': '2025-10-24', 'years_listed': 25.495890410958904, 'initial_close_price': np.float64(24.0), 'current_close_price': np.float64(50.849998474121094), 'current_volume': np.int64(1325253), 'cagr': np.float64(2.988682044411828)}\n"
     ]
    },
    {
     "name": "stderr",
     "output_type": "stream",
     "text": [
      "[*********************100%***********************]  1 of 1 completed\n"
     ]
    },
    {
     "name": "stdout",
     "output_type": "stream",
     "text": [
      "{'symbol': 'PCAR', 'start_date': '1980-03-17', 'current_date': '2025-10-24', 'years_listed': 45.635616438356166, 'initial_close_price': np.float64(0.8342689871788025), 'current_close_price': np.float64(100.19999694824219), 'current_volume': np.int64(388068), 'cagr': np.float64(11.062853932765826)}\n"
     ]
    },
    {
     "name": "stderr",
     "output_type": "stream",
     "text": [
      "[*********************100%***********************]  1 of 1 completed\n"
     ]
    },
    {
     "name": "stdout",
     "output_type": "stream",
     "text": [
      "{'symbol': 'PLTR', 'start_date': '2020-09-30', 'current_date': '2025-10-24', 'years_listed': 5.068493150684931, 'initial_close_price': np.float64(9.5), 'current_close_price': np.float64(185.08999633789062), 'current_volume': np.int64(13201159), 'cagr': np.float64(79.65789320032157)}\n"
     ]
    },
    {
     "name": "stderr",
     "output_type": "stream",
     "text": [
      "[*********************100%***********************]  1 of 1 completed\n"
     ]
    },
    {
     "name": "stdout",
     "output_type": "stream",
     "text": [
      "{'symbol': 'PANW', 'start_date': '2012-07-20', 'current_date': '2025-10-24', 'years_listed': 13.271232876712329, 'initial_close_price': np.float64(8.854999542236328), 'current_close_price': np.float64(217.4149932861328), 'current_volume': np.int64(554717), 'cagr': np.float64(27.275680125175185)}\n"
     ]
    },
    {
     "name": "stderr",
     "output_type": "stream",
     "text": [
      "[*********************100%***********************]  1 of 1 completed\n"
     ]
    },
    {
     "name": "stdout",
     "output_type": "stream",
     "text": [
      "{'symbol': 'PAYX', 'start_date': '1983-08-26', 'current_date': '2025-10-24', 'years_listed': 42.19178082191781, 'initial_close_price': np.float64(0.20809799432754517), 'current_close_price': np.float64(125.13999938964844), 'current_volume': np.int64(200257), 'cagr': np.float64(16.377479997548107)}\n"
     ]
    },
    {
     "name": "stderr",
     "output_type": "stream",
     "text": [
      "[*********************100%***********************]  1 of 1 completed\n"
     ]
    },
    {
     "name": "stdout",
     "output_type": "stream",
     "text": [
      "{'symbol': 'PYPL', 'start_date': '2015-07-06', 'current_date': '2025-10-24', 'years_listed': 10.30958904109589, 'initial_close_price': np.float64(36.709999084472656), 'current_close_price': np.float64(70.81500244140625), 'current_volume': np.int64(1738550), 'cagr': np.float64(6.580372375978549)}\n"
     ]
    },
    {
     "name": "stderr",
     "output_type": "stream",
     "text": [
      "[*********************100%***********************]  1 of 1 completed\n"
     ]
    },
    {
     "name": "stdout",
     "output_type": "stream",
     "text": [
      "{'symbol': 'PDD', 'start_date': '2018-07-26', 'current_date': '2025-10-24', 'years_listed': 7.252054794520548, 'initial_close_price': np.float64(26.700000762939453), 'current_close_price': np.float64(134.125), 'current_volume': np.int64(1737792), 'cagr': np.float64(24.928650009089104)}\n"
     ]
    },
    {
     "name": "stderr",
     "output_type": "stream",
     "text": [
      "[*********************100%***********************]  1 of 1 completed\n"
     ]
    },
    {
     "name": "stdout",
     "output_type": "stream",
     "text": [
      "{'symbol': 'PEP', 'start_date': '1972-06-01', 'current_date': '2025-10-24', 'years_listed': 53.43287671232877, 'initial_close_price': np.float64(1.6018520593643188), 'current_close_price': np.float64(152.0399932861328), 'current_volume': np.int64(679742), 'cagr': np.float64(8.894506258586766)}\n"
     ]
    },
    {
     "name": "stderr",
     "output_type": "stream",
     "text": [
      "[*********************100%***********************]  1 of 1 completed\n"
     ]
    },
    {
     "name": "stdout",
     "output_type": "stream",
     "text": [
      "{'symbol': 'QCOM', 'start_date': '1991-12-13', 'current_date': '2025-10-24', 'years_listed': 33.88767123287671, 'initial_close_price': np.float64(0.5625), 'current_close_price': np.float64(169.69500732421875), 'current_volume': np.int64(923380), 'cagr': np.float64(18.350358027022786)}\n"
     ]
    },
    {
     "name": "stderr",
     "output_type": "stream",
     "text": [
      "[*********************100%***********************]  1 of 1 completed\n"
     ]
    },
    {
     "name": "stdout",
     "output_type": "stream",
     "text": [
      "{'symbol': 'REGN', 'start_date': '1991-04-02', 'current_date': '2025-10-24', 'years_listed': 34.586301369863016, 'initial_close_price': np.float64(21.125), 'current_close_price': np.float64(580.4000244140625), 'current_volume': np.int64(149136), 'cagr': np.float64(10.053552049721892)}\n"
     ]
    },
    {
     "name": "stderr",
     "output_type": "stream",
     "text": [
      "[*********************100%***********************]  1 of 1 completed\n"
     ]
    },
    {
     "name": "stdout",
     "output_type": "stream",
     "text": [
      "{'symbol': 'ROP', 'start_date': '1992-02-13', 'current_date': '2025-10-24', 'years_listed': 33.71780821917808, 'initial_close_price': np.float64(2.046875), 'current_close_price': np.float64(479.93499755859375), 'current_volume': np.int64(161588), 'cagr': np.float64(17.5687682194837)}\n"
     ]
    },
    {
     "name": "stderr",
     "output_type": "stream",
     "text": [
      "[*********************100%***********************]  1 of 1 completed\n"
     ]
    },
    {
     "name": "stdout",
     "output_type": "stream",
     "text": [
      "{'symbol': 'ROST', 'start_date': '1985-08-08', 'current_date': '2025-10-24', 'years_listed': 40.23835616438356, 'initial_close_price': np.float64(0.5546879768371582), 'current_close_price': np.float64(157.2949981689453), 'current_volume': np.int64(176796), 'cagr': np.float64(15.067701566311055)}\n"
     ]
    },
    {
     "name": "stderr",
     "output_type": "stream",
     "text": [
      "[*********************100%***********************]  1 of 1 completed\n"
     ]
    },
    {
     "name": "stdout",
     "output_type": "stream",
     "text": [
      "{'symbol': 'SHOP', 'start_date': '2015-05-20', 'current_date': '2025-10-24', 'years_listed': 10.438356164383562, 'initial_close_price': np.float64(1.7000000476837158), 'current_close_price': np.float64(172.47000122070312), 'current_volume': np.int64(1652249), 'cagr': np.float64(55.668666442971485)}\n"
     ]
    },
    {
     "name": "stderr",
     "output_type": "stream",
     "text": [
      "[*********************100%***********************]  1 of 1 completed\n"
     ]
    },
    {
     "name": "stdout",
     "output_type": "stream",
     "text": [
      "{'symbol': 'SBUX', 'start_date': '1992-06-26', 'current_date': '2025-10-24', 'years_listed': 33.35068493150685, 'initial_close_price': np.float64(0.3359380066394806), 'current_close_price': np.float64(86.08999633789062), 'current_volume': np.int64(932187), 'cagr': np.float64(18.092743138823874)}\n"
     ]
    },
    {
     "name": "stderr",
     "output_type": "stream",
     "text": [
      "[*********************100%***********************]  1 of 1 completed\n"
     ]
    },
    {
     "name": "stdout",
     "output_type": "stream",
     "text": [
      "{'symbol': 'SNPS', 'start_date': '1992-02-26', 'current_date': '2025-10-24', 'years_listed': 33.68219178082192, 'initial_close_price': np.float64(7.875), 'current_close_price': np.float64(464.1099853515625), 'current_volume': np.int64(164285), 'cagr': np.float64(12.865450611388042)}\n"
     ]
    },
    {
     "name": "stderr",
     "output_type": "stream",
     "text": [
      "[*********************100%***********************]  1 of 1 completed\n"
     ]
    },
    {
     "name": "stdout",
     "output_type": "stream",
     "text": [
      "{'symbol': 'TMUS', 'start_date': '2007-04-19', 'current_date': '2025-10-24', 'years_listed': 18.528767123287672, 'initial_close_price': np.float64(54.79999923706055), 'current_close_price': np.float64(217.33999633789062), 'current_volume': np.int64(1140571), 'cagr': np.float64(7.7192992530375815)}\n"
     ]
    },
    {
     "name": "stderr",
     "output_type": "stream",
     "text": [
      "[*********************100%***********************]  1 of 1 completed\n"
     ]
    },
    {
     "name": "stdout",
     "output_type": "stream",
     "text": [
      "{'symbol': 'TTWO', 'start_date': '1997-04-15', 'current_date': '2025-10-24', 'years_listed': 28.545205479452054, 'initial_close_price': np.float64(3.9166669845581055), 'current_close_price': np.float64(256.25750732421875), 'current_volume': np.int64(154317), 'cagr': np.float64(15.773717843052193)}\n"
     ]
    },
    {
     "name": "stderr",
     "output_type": "stream",
     "text": [
      "[*********************100%***********************]  1 of 1 completed\n"
     ]
    },
    {
     "name": "stdout",
     "output_type": "stream",
     "text": [
      "{'symbol': 'TSLA', 'start_date': '2010-06-29', 'current_date': '2025-10-24', 'years_listed': 15.331506849315069, 'initial_close_price': np.float64(1.5926669836044312), 'current_close_price': np.float64(442.05999755859375), 'current_volume': np.int64(25863969), 'cagr': np.float64(44.33388570716379)}\n"
     ]
    },
    {
     "name": "stderr",
     "output_type": "stream",
     "text": [
      "[*********************100%***********************]  1 of 1 completed\n"
     ]
    },
    {
     "name": "stdout",
     "output_type": "stream",
     "text": [
      "{'symbol': 'TXN', 'start_date': '1972-06-01', 'current_date': '2025-10-24', 'years_listed': 53.43287671232877, 'initial_close_price': np.float64(1.7018229961395264), 'current_close_price': np.float64(170.22999572753906), 'current_volume': np.int64(1278641), 'cagr': np.float64(9.001485481927162)}\n"
     ]
    },
    {
     "name": "stderr",
     "output_type": "stream",
     "text": [
      "[*********************100%***********************]  1 of 1 completed\n"
     ]
    },
    {
     "name": "stdout",
     "output_type": "stream",
     "text": [
      "{'symbol': 'TRI', 'start_date': '2002-06-12', 'current_date': '2025-10-24', 'years_listed': 23.383561643835616, 'initial_close_price': np.float64(32.08722686767578), 'current_close_price': np.float64(162.7050018310547), 'current_volume': np.int64(59776), 'cagr': np.float64(7.189519391347532)}\n"
     ]
    },
    {
     "name": "stderr",
     "output_type": "stream",
     "text": [
      "[*********************100%***********************]  1 of 1 completed\n"
     ]
    },
    {
     "name": "stdout",
     "output_type": "stream",
     "text": [
      "{'symbol': 'TTD', 'start_date': '2016-09-21', 'current_date': '2025-10-24', 'years_listed': 9.095890410958905, 'initial_close_price': np.float64(3.009999990463257), 'current_close_price': np.float64(54.619998931884766), 'current_volume': np.int64(1225531), 'cagr': np.float64(37.52781427162761)}\n"
     ]
    },
    {
     "name": "stderr",
     "output_type": "stream",
     "text": [
      "[*********************100%***********************]  1 of 1 completed\n"
     ]
    },
    {
     "name": "stdout",
     "output_type": "stream",
     "text": [
      "{'symbol': 'VRSK', 'start_date': '2009-10-07', 'current_date': '2025-10-24', 'years_listed': 16.057534246575344, 'initial_close_price': np.float64(27.219999313354492), 'current_close_price': np.float64(235.6699981689453), 'current_volume': np.int64(132640), 'cagr': np.float64(14.387505377438181)}\n"
     ]
    },
    {
     "name": "stderr",
     "output_type": "stream",
     "text": [
      "[*********************100%***********************]  1 of 1 completed\n"
     ]
    },
    {
     "name": "stdout",
     "output_type": "stream",
     "text": [
      "{'symbol': 'VRTX', 'start_date': '1991-07-24', 'current_date': '2025-10-24', 'years_listed': 34.276712328767125, 'initial_close_price': np.float64(4.5), 'current_close_price': np.float64(424.5799865722656), 'current_volume': np.int64(94438), 'cagr': np.float64(14.185751387151635)}\n"
     ]
    },
    {
     "name": "stderr",
     "output_type": "stream",
     "text": [
      "[*********************100%***********************]  1 of 1 completed\n"
     ]
    },
    {
     "name": "stdout",
     "output_type": "stream",
     "text": [
      "{'symbol': 'WBD', 'start_date': '2005-07-08', 'current_date': '2025-10-24', 'years_listed': 20.30958904109589, 'initial_close_price': np.float64(7.094454765319824), 'current_close_price': np.float64(21.204099655151367), 'current_volume': np.int64(7619002), 'cagr': np.float64(5.538915229122732)}\n"
     ]
    },
    {
     "name": "stderr",
     "output_type": "stream",
     "text": [
      "[*********************100%***********************]  1 of 1 completed\n"
     ]
    },
    {
     "name": "stdout",
     "output_type": "stream",
     "text": [
      "{'symbol': 'WDAY', 'start_date': '2012-10-12', 'current_date': '2025-10-24', 'years_listed': 13.04109589041096, 'initial_close_price': np.float64(48.689998626708984), 'current_close_price': np.float64(246.52000427246094), 'current_volume': np.int64(107372), 'cagr': np.float64(13.243899771247447)}\n"
     ]
    },
    {
     "name": "stderr",
     "output_type": "stream",
     "text": [
      "[*********************100%***********************]  1 of 1 completed\n"
     ]
    },
    {
     "name": "stdout",
     "output_type": "stream",
     "text": [
      "{'symbol': 'XEL', 'start_date': '1973-02-21', 'current_date': '2025-10-24', 'years_listed': 52.706849315068496, 'initial_close_price': np.float64(7.25), 'current_close_price': np.float64(80.7699966430664), 'current_volume': np.int64(307120), 'cagr': np.float64(4.679809206606111)}\n"
     ]
    },
    {
     "name": "stderr",
     "output_type": "stream",
     "text": [
      "[*********************100%***********************]  1 of 1 completed"
     ]
    },
    {
     "name": "stdout",
     "output_type": "stream",
     "text": [
      "{'symbol': 'ZS', 'start_date': '2018-03-16', 'current_date': '2025-10-24', 'years_listed': 7.6136986301369864, 'initial_close_price': np.float64(33.0), 'current_close_price': np.float64(325.44000244140625), 'current_volume': np.int64(357149), 'cagr': np.float64(35.06676798554569)}\n"
     ]
    },
    {
     "name": "stderr",
     "output_type": "stream",
     "text": [
      "\n"
     ]
    }
   ],
   "source": [
    "# CAGR(年平均成長率)を計算\n",
    "for symbol in symbols:\n",
    "    try:\n",
    "        result = calc_us_symbol_cagr_all_periods(symbol)\n",
    "        cagr_list.append(result)\n",
    "        print(result)\n",
    "    except Exception as e:\n",
    "        print(f\"{symbol} error: {e}\")"
   ]
  },
  {
   "cell_type": "code",
   "execution_count": 7,
   "id": "10721750-9ad5-4795-91a7-31ef4ed68090",
   "metadata": {
    "collapsed": true,
    "jupyter": {
     "outputs_hidden": true
    },
    "tags": []
   },
   "outputs": [
    {
     "name": "stdout",
     "output_type": "stream",
     "text": [
      "Number of data: 101\n",
      "[{'cagr': np.float64(20.861010270245252),\n",
      "  'current_close_price': np.float64(356.2900085449219),\n",
      "  'current_date': '2025-10-24',\n",
      "  'current_volume': np.int64(412902),\n",
      "  'initial_close_price': np.float64(0.2109380066394806),\n",
      "  'start_date': '1986-08-13',\n",
      "  'symbol': 'ADBE',\n",
      "  'years_listed': 39.224657534246575},\n",
      " {'cagr': np.float64(10.061924637737318),\n",
      "  'current_close_price': np.float64(249.9600067138672),\n",
      "  'current_date': '2025-10-24',\n",
      "  'current_volume': np.int64(23900332),\n",
      "  'initial_close_price': np.float64(3.1458330154418945),\n",
      "  'start_date': '1980-03-17',\n",
      "  'symbol': 'AMD',\n",
      "  'years_listed': 45.635616438356166},\n",
      " {'cagr': np.float64(-2.4805897983889214),\n",
      "  'current_close_price': np.float64(128.03500366210938),\n",
      "  'current_date': '2025-10-24',\n",
      "  'current_volume': np.int64(524039),\n",
      "  'initial_close_price': np.float64(144.7100067138672),\n",
      "  'start_date': '2020-12-10',\n",
      "  'symbol': 'ABNB',\n",
      "  'years_listed': 4.873972602739726},\n",
      " {'cagr': np.float64(24.478562875033806),\n",
      "  'current_close_price': np.float64(260.2149963378906),\n",
      "  'current_date': '2025-10-24',\n",
      "  'current_volume': np.int64(7965603),\n",
      "  'initial_close_price': np.float64(2.5110108852386475),\n",
      "  'start_date': '2004-08-19',\n",
      "  'symbol': 'GOOGL',\n",
      "  'years_listed': 21.194520547945206},\n",
      " {'cagr': np.float64(24.361749826548973),\n",
      "  'current_close_price': np.float64(253.72999572753906),\n",
      "  'current_date': '2025-10-23',\n",
      "  'current_volume': np.int64(13186600),\n",
      "  'initial_close_price': np.float64(2.4991331100463867),\n",
      "  'start_date': '2004-08-19',\n",
      "  'symbol': 'GOOG',\n",
      "  'years_listed': 21.19178082191781},\n",
      " {'cagr': np.float64(31.225115036876616),\n",
      "  'current_close_price': np.float64(223.86000061035156),\n",
      "  'current_date': '2025-10-24',\n",
      "  'current_volume': np.int64(9037802),\n",
      "  'initial_close_price': np.float64(0.09791699796915054),\n",
      "  'start_date': '1997-05-15',\n",
      "  'symbol': 'AMZN',\n",
      "  'years_listed': 28.46301369863014},\n",
      " {'cagr': np.float64(1.9298211830264034),\n",
      "  'current_close_price': np.float64(116.27999877929688),\n",
      "  'current_date': '2025-10-24',\n",
      "  'current_volume': np.int64(187957),\n",
      "  'initial_close_price': np.float64(34.3125),\n",
      "  'start_date': '1962-01-02',\n",
      "  'symbol': 'AEP',\n",
      "  'years_listed': 63.85205479452055},\n",
      " {'cagr': np.float64(17.267627983320754),\n",
      "  'current_close_price': np.float64(293.94000244140625),\n",
      "  'current_date': '2025-10-24',\n",
      "  'current_volume': np.int64(157232),\n",
      "  'initial_close_price': np.float64(0.34375),\n",
      "  'start_date': '1983-06-17',\n",
      "  'symbol': 'AMGN',\n",
      "  'years_listed': 42.38356164383562},\n",
      " {'cagr': np.float64(13.558254111720647),\n",
      "  'current_close_price': np.float64(241.02999877929688),\n",
      "  'current_date': '2025-10-24',\n",
      "  'current_volume': np.int64(334011),\n",
      "  'initial_close_price': np.float64(0.7279999852180481),\n",
      "  'start_date': '1980-03-17',\n",
      "  'symbol': 'ADI',\n",
      "  'years_listed': 45.635616438356166},\n",
      " {'cagr': np.float64(18.490078266000754),\n",
      "  'current_close_price': np.float64(260.8599853515625),\n",
      "  'current_date': '2025-10-24',\n",
      "  'current_volume': np.int64(6525281),\n",
      "  'initial_close_price': np.float64(0.1283479928970337),\n",
      "  'start_date': '1980-12-12',\n",
      "  'symbol': 'AAPL',\n",
      "  'years_listed': 44.895890410958906},\n",
      " {'cagr': np.float64(18.6001089736505),\n",
      "  'current_close_price': np.float64(229.5399932861328),\n",
      "  'current_date': '2025-10-24',\n",
      "  'current_volume': np.int64(1127590),\n",
      "  'initial_close_price': np.float64(0.09548600018024445),\n",
      "  'start_date': '1980-03-17',\n",
      "  'symbol': 'AMAT',\n",
      "  'years_listed': 45.635616438356166},\n",
      " {'cagr': np.float64(64.79361285167862),\n",
      "  'current_close_price': np.float64(626.2100219726562),\n",
      "  'current_date': '2025-10-24',\n",
      "  'current_volume': np.int64(1316275),\n",
      "  'initial_close_price': np.float64(65.19999694824219),\n",
      "  'start_date': '2021-04-15',\n",
      "  'symbol': 'APP',\n",
      "  'years_listed': 4.528767123287671},\n",
      " {'cagr': np.float64(60.116552546378955),\n",
      "  'current_close_price': np.float64(171.8800048828125),\n",
      "  'current_date': '2025-10-24',\n",
      "  'current_volume': np.int64(853059),\n",
      "  'initial_close_price': np.float64(63.59000015258789),\n",
      "  'start_date': '2023-09-14',\n",
      "  'symbol': 'ARM',\n",
      "  'years_listed': 2.1123287671232878},\n",
      " {'cagr': np.float64(21.40389955784783),\n",
      "  'current_close_price': np.float64(1042.199951171875),\n",
      "  'current_date': '2025-10-24',\n",
      "  'current_volume': np.int64(252768),\n",
      "  'initial_close_price': np.float64(2.739448070526123),\n",
      "  'start_date': '1995-03-15',\n",
      "  'symbol': 'ASML',\n",
      "  'years_listed': 30.632876712328766},\n",
      " {'cagr': np.float64(9.013906158169283),\n",
      "  'current_close_price': np.float64(83.13050079345703),\n",
      "  'current_date': '2025-10-24',\n",
      "  'current_volume': np.int64(386750),\n",
      "  'initial_close_price': np.float64(5.0416669845581055),\n",
      "  'start_date': '1993-05-12',\n",
      "  'symbol': 'AZN',\n",
      "  'years_listed': 32.47397260273973},\n",
      " {'cagr': np.float64(23.319291514492303),\n",
      "  'current_close_price': np.float64(166.64999389648438),\n",
      "  'current_date': '2025-10-24',\n",
      "  'current_volume': np.int64(293254),\n",
      "  'initial_close_price': np.float64(21.0),\n",
      "  'start_date': '2015-12-09',\n",
      "  'symbol': 'TEAM',\n",
      "  'years_listed': 9.882191780821918},\n",
      " {'cagr': np.float64(17.300498475929025),\n",
      "  'current_close_price': np.float64(312.79998779296875),\n",
      "  'current_date': '2025-10-24',\n",
      "  'current_volume': np.int64(124951),\n",
      "  'initial_close_price': np.float64(0.5),\n",
      "  'start_date': '1985-06-28',\n",
      "  'symbol': 'ADSK',\n",
      "  'years_listed': 40.35068493150685},\n",
      " {'cagr': np.float64(13.655156599975538),\n",
      "  'current_close_price': np.float64(281.5249938964844),\n",
      "  'current_date': '2025-10-24',\n",
      "  'current_volume': np.int64(83398),\n",
      "  'initial_close_price': np.float64(0.8178470134735107),\n",
      "  'start_date': '1980-03-17',\n",
      "  'symbol': 'ADP',\n",
      "  'years_listed': 45.635616438356166},\n",
      " {'cagr': np.float64(35.35775700174262),\n",
      "  'current_close_price': np.float64(734.9600219726562),\n",
      "  'current_date': '2025-10-24',\n",
      "  'current_volume': np.int64(49189),\n",
      "  'initial_close_price': np.float64(0.46000000834465027),\n",
      "  'start_date': '2001-06-19',\n",
      "  'symbol': 'AXON',\n",
      "  'years_listed': 24.364383561643837},\n",
      " {'cagr': np.float64(2.491517518182085),\n",
      "  'current_close_price': np.float64(48.130001068115234),\n",
      "  'current_date': '2025-10-24',\n",
      "  'current_volume': np.int64(1764094),\n",
      "  'initial_close_price': np.float64(18.625),\n",
      "  'start_date': '1987-04-06',\n",
      "  'symbol': 'BKR',\n",
      "  'years_listed': 38.57808219178082},\n",
      " {'cagr': np.float64(12.03855133122753),\n",
      "  'current_close_price': np.float64(151.2050018310547),\n",
      "  'current_date': '2025-10-24',\n",
      "  'current_volume': np.int64(206017),\n",
      "  'initial_close_price': np.float64(3.125),\n",
      "  'start_date': '1991-09-17',\n",
      "  'symbol': 'BIIB',\n",
      "  'years_listed': 34.12602739726027},\n",
      " {'cagr': np.float64(9.161615140705592),\n",
      "  'current_close_price': np.float64(5113.4501953125),\n",
      "  'current_date': '2025-10-24',\n",
      "  'current_volume': np.int64(31677),\n",
      "  'initial_close_price': np.float64(497.25),\n",
      "  'start_date': '1999-03-31',\n",
      "  'symbol': 'BKNG',\n",
      "  'years_listed': 26.586301369863012},\n",
      " {'cagr': np.float64(39.36133744367858),\n",
      "  'current_close_price': np.float64(353.2099914550781),\n",
      "  'current_date': '2025-10-24',\n",
      "  'current_volume': np.int64(3338042),\n",
      "  'initial_close_price': np.float64(1.6180000305175781),\n",
      "  'start_date': '2009-08-06',\n",
      "  'symbol': 'AVGO',\n",
      "  'years_listed': 16.22739726027397},\n",
      " {'cagr': np.float64(14.354301629693422),\n",
      "  'current_close_price': np.float64(345.0851135253906),\n",
      "  'current_date': '2025-10-24',\n",
      "  'current_volume': np.int64(221082),\n",
      "  'initial_close_price': np.float64(2.0),\n",
      "  'start_date': '1987-06-10',\n",
      "  'symbol': 'CDNS',\n",
      "  'years_listed': 38.4},\n",
      " {'cagr': np.float64(19.162870454208214),\n",
      "  'current_close_price': np.float64(159.67999267578125),\n",
      "  'current_date': '2025-10-24',\n",
      "  'current_volume': np.int64(172217),\n",
      "  'initial_close_price': np.float64(18.3700008392334),\n",
      "  'start_date': '2013-06-27',\n",
      "  'symbol': 'CDW',\n",
      "  'years_listed': 12.334246575342465},\n",
      " {'cagr': np.float64(13.127061824621888),\n",
      "  'current_close_price': np.float64(246.04010009765625),\n",
      "  'current_date': '2025-10-24',\n",
      "  'current_volume': np.int64(196944),\n",
      "  'initial_close_price': np.float64(35.0),\n",
      "  'start_date': '2010-01-05',\n",
      "  'symbol': 'CHTR',\n",
      "  'years_listed': 15.810958904109588},\n",
      " {'cagr': np.float64(17.177231789968417),\n",
      "  'current_close_price': np.float64(191.5299072265625),\n",
      "  'current_date': '2025-10-24',\n",
      "  'current_volume': np.int64(105980),\n",
      "  'initial_close_price': np.float64(0.2378470003604889),\n",
      "  'start_date': '1983-08-19',\n",
      "  'symbol': 'CTAS',\n",
      "  'years_listed': 42.21095890410959},\n",
      " {'cagr': np.float64(21.029202718888172),\n",
      "  'current_close_price': np.float64(70.45500183105469),\n",
      "  'current_date': '2025-10-24',\n",
      "  'current_volume': np.int64(2036403),\n",
      "  'initial_close_price': np.float64(0.07725699990987778),\n",
      "  'start_date': '1990-02-16',\n",
      "  'symbol': 'CSCO',\n",
      "  'years_listed': 35.70958904109589},\n",
      " {'cagr': np.float64(7.566406127277969),\n",
      "  'current_close_price': np.float64(91.31999969482422),\n",
      "  'current_date': '2025-10-24',\n",
      "  'current_volume': np.int64(119143),\n",
      "  'initial_close_price': np.float64(5.3333330154418945),\n",
      "  'start_date': '1986-11-24',\n",
      "  'symbol': 'CCEP',\n",
      "  'years_listed': 38.942465753424656},\n",
      " {'cagr': np.float64(23.56152297518266),\n",
      "  'current_close_price': np.float64(68.12999725341797),\n",
      "  'current_date': '2025-10-24',\n",
      "  'current_volume': np.int64(403122),\n",
      "  'initial_close_price': np.float64(0.20833300054073334),\n",
      "  'start_date': '1998-06-19',\n",
      "  'symbol': 'CTSH',\n",
      "  'years_listed': 27.367123287671234},\n",
      " {'cagr': np.float64(13.32893278013949),\n",
      "  'current_close_price': np.float64(29.450000762939453),\n",
      "  'current_date': '2025-10-24',\n",
      "  'current_volume': np.int64(2445352),\n",
      "  'initial_close_price': np.float64(0.09754599630832672),\n",
      "  'start_date': '1980-03-17',\n",
      "  'symbol': 'CMCSA',\n",
      "  'years_listed': 45.635616438356166},\n",
      " {'cagr': np.float64(80.25079116218252),\n",
      "  'current_close_price': np.float64(385.8949890136719),\n",
      "  'current_date': '2025-10-24',\n",
      "  'current_volume': np.int64(740464),\n",
      "  'initial_close_price': np.float64(42.0),\n",
      "  'start_date': '2022-01-19',\n",
      "  'symbol': 'CEG',\n",
      "  'years_listed': 3.7643835616438355},\n",
      " {'cagr': np.float64(19.68641464595833),\n",
      "  'current_close_price': np.float64(44.790000915527344),\n",
      "  'current_date': '2025-10-24',\n",
      "  'current_volume': np.int64(540650),\n",
      "  'initial_close_price': np.float64(0.1523440033197403),\n",
      "  'start_date': '1994-03-17',\n",
      "  'symbol': 'CPRT',\n",
      "  'years_listed': 31.627397260273973},\n",
      " {'cagr': np.float64(17.633870909604354),\n",
      "  'current_close_price': np.float64(77.83000183105469),\n",
      "  'current_date': '2025-10-24',\n",
      "  'current_volume': np.int64(157126),\n",
      "  'initial_close_price': np.float64(0.918749988079071),\n",
      "  'start_date': '1998-07-01',\n",
      "  'symbol': 'CSGP',\n",
      "  'years_listed': 27.334246575342465},\n",
      " {'cagr': np.float64(11.97278418833234),\n",
      "  'current_close_price': np.float64(938.6900024414062),\n",
      "  'current_date': '2025-10-24',\n",
      "  'current_volume': np.int64(291756),\n",
      "  'initial_close_price': np.float64(11.0),\n",
      "  'start_date': '1986-07-09',\n",
      "  'symbol': 'COST',\n",
      "  'years_listed': 39.320547945205476},\n",
      " {'cagr': np.float64(41.65781923582757),\n",
      "  'current_close_price': np.float64(533.6099853515625),\n",
      "  'current_date': '2025-10-24',\n",
      "  'current_volume': np.int64(825015),\n",
      "  'initial_close_price': np.float64(58.0),\n",
      "  'start_date': '2019-06-12',\n",
      "  'symbol': 'CRWD',\n",
      "  'years_listed': 6.372602739726028},\n",
      " {'cagr': np.float64(10.553449344854782),\n",
      "  'current_close_price': np.float64(35.75),\n",
      "  'current_date': '2025-10-24',\n",
      "  'current_volume': np.int64(1094758),\n",
      "  'initial_close_price': np.float64(0.39120399951934814),\n",
      "  'start_date': '1980-11-03',\n",
      "  'symbol': 'CSX',\n",
      "  'years_listed': 45.0027397260274},\n",
      " {'cagr': np.float64(26.63248950497623),\n",
      "  'current_close_price': np.float64(158.58999633789062),\n",
      "  'current_date': '2025-10-24',\n",
      "  'current_volume': np.int64(315186),\n",
      "  'initial_close_price': np.float64(37.54999923706055),\n",
      "  'start_date': '2019-09-19',\n",
      "  'symbol': 'DDOG',\n",
      "  'years_listed': 6.101369863013699},\n",
      " {'cagr': np.float64(16.827564375091697),\n",
      "  'current_close_price': np.float64(71.63999938964844),\n",
      "  'current_date': '2025-10-24',\n",
      "  'current_volume': np.int64(464268),\n",
      "  'initial_close_price': np.float64(2.934999942779541),\n",
      "  'start_date': '2005-04-14',\n",
      "  'symbol': 'DXCM',\n",
      "  'years_listed': 20.542465753424658},\n",
      " {'cagr': np.float64(17.760863128632476),\n",
      "  'current_close_price': np.float64(147.55999755859375),\n",
      "  'current_date': '2025-10-24',\n",
      "  'current_volume': np.int64(148136),\n",
      "  'initial_close_price': np.float64(17.5),\n",
      "  'start_date': '2012-10-12',\n",
      "  'symbol': 'FANG',\n",
      "  'years_listed': 13.04109589041096},\n",
      " {'cagr': np.float64(6.524397550216432),\n",
      "  'current_close_price': np.float64(257.92498779296875),\n",
      "  'current_date': '2025-10-24',\n",
      "  'current_volume': np.int64(435971),\n",
      "  'initial_close_price': np.float64(189.50999450683594),\n",
      "  'start_date': '2020-12-09',\n",
      "  'symbol': 'DASH',\n",
      "  'years_listed': 4.876712328767123},\n",
      " {'cagr': np.float64(17.95481836549442),\n",
      "  'current_close_price': np.float64(200.6999969482422),\n",
      "  'current_date': '2025-10-24',\n",
      "  'current_volume': np.int64(251572),\n",
      "  'initial_close_price': np.float64(0.515625),\n",
      "  'start_date': '1989-09-20',\n",
      "  'symbol': 'EA',\n",
      "  'years_listed': 36.11780821917808},\n",
      " {'cagr': np.float64(3.459477778254305),\n",
      "  'current_close_price': np.float64(47.599998474121094),\n",
      "  'current_date': '2025-10-23',\n",
      "  'current_volume': np.int64(11512700),\n",
      "  'initial_close_price': np.float64(7.979671955108643),\n",
      "  'start_date': '1973-05-02',\n",
      "  'symbol': 'EXC',\n",
      "  'years_listed': 52.512328767123286},\n",
      " {'cagr': np.float64(20.790938213489653),\n",
      "  'current_close_price': np.float64(43.005001068115234),\n",
      "  'current_date': '2025-10-24',\n",
      "  'current_volume': np.int64(522738),\n",
      "  'initial_close_price': np.float64(0.0315760001540184),\n",
      "  'start_date': '1987-08-20',\n",
      "  'symbol': 'FAST',\n",
      "  'years_listed': 38.205479452054796},\n",
      " {'cagr': np.float64(28.033061792891445),\n",
      "  'current_close_price': np.float64(85.43000030517578),\n",
      "  'current_date': '2025-10-24',\n",
      "  'current_volume': np.int64(425926),\n",
      "  'initial_close_price': np.float64(1.6619999408721924),\n",
      "  'start_date': '2009-11-18',\n",
      "  'symbol': 'FTNT',\n",
      "  'years_listed': 15.942465753424658},\n",
      " {'cagr': np.float64(9.574068751879473),\n",
      "  'current_close_price': np.float64(77.93389892578125),\n",
      "  'current_date': '2025-10-24',\n",
      "  'current_volume': np.int64(237338),\n",
      "  'initial_close_price': np.float64(60.0),\n",
      "  'start_date': '2022-12-15',\n",
      "  'symbol': 'GEHC',\n",
      "  'years_listed': 2.8602739726027395},\n",
      " {'cagr': np.float64(16.79962093657874),\n",
      "  'current_close_price': np.float64(120.0376968383789),\n",
      "  'current_date': '2025-10-24',\n",
      "  'current_volume': np.int64(960416),\n",
      "  'initial_close_price': np.float64(0.6328129768371582),\n",
      "  'start_date': '1992-01-22',\n",
      "  'symbol': 'GILD',\n",
      "  'years_listed': 33.778082191780825},\n",
      " {'cagr': np.float64(-6.4154131544344235),\n",
      "  'current_close_price': np.float64(35.61000061035156),\n",
      "  'current_date': '2025-10-24',\n",
      "  'current_volume': np.int64(288385),\n",
      "  'initial_close_price': np.float64(46.400001525878906),\n",
      "  'start_date': '2021-10-28',\n",
      "  'symbol': 'GFS',\n",
      "  'years_listed': 3.9917808219178084},\n",
      " {'cagr': np.float64(5.239179653031667),\n",
      "  'current_close_price': np.float64(216.61000061035156),\n",
      "  'current_date': '2025-10-24',\n",
      "  'current_volume': np.int64(793415),\n",
      "  'initial_close_price': np.float64(8.310028076171875),\n",
      "  'start_date': '1962-01-02',\n",
      "  'symbol': 'HON',\n",
      "  'years_listed': 63.85205479452055},\n",
      " {'cagr': np.float64(20.929540908144652),\n",
      "  'current_close_price': np.float64(648.5999755859375),\n",
      "  'current_date': '2025-10-24',\n",
      "  'current_volume': np.int64(35221),\n",
      "  'initial_close_price': np.float64(0.9453129768371582),\n",
      "  'start_date': '1991-06-21',\n",
      "  'symbol': 'IDXX',\n",
      "  'years_listed': 34.367123287671234},\n",
      " {'cagr': np.float64(11.042173774277387),\n",
      "  'current_close_price': np.float64(38.765899658203125),\n",
      "  'current_date': '2025-10-24',\n",
      "  'current_volume': np.int64(97620247),\n",
      "  'initial_close_price': np.float64(0.32552099227905273),\n",
      "  'start_date': '1980-03-17',\n",
      "  'symbol': 'INTC',\n",
      "  'years_listed': 45.635616438356166},\n",
      " {'cagr': np.float64(18.556256443125974),\n",
      "  'current_close_price': np.float64(684.760009765625),\n",
      "  'current_date': '2025-10-24',\n",
      "  'current_volume': np.int64(157210),\n",
      "  'initial_close_price': np.float64(2.6458330154418945),\n",
      "  'start_date': '1993-03-12',\n",
      "  'symbol': 'INTU',\n",
      "  'years_listed': 32.64109589041096},\n",
      " {'cagr': np.float64(24.697541254681443),\n",
      "  'current_close_price': np.float64(548.510009765625),\n",
      "  'current_date': '2025-10-24',\n",
      "  'current_volume': np.int64(742036),\n",
      "  'initial_close_price': np.float64(2.027777910232544),\n",
      "  'start_date': '2000-06-16',\n",
      "  'symbol': 'ISRG',\n",
      "  'years_listed': 25.372602739726027},\n",
      " {'cagr': np.float64(0.440290864113968),\n",
      "  'current_close_price': np.float64(27.53499984741211),\n",
      "  'current_date': '2025-10-24',\n",
      "  'current_volume': np.int64(995527),\n",
      "  'initial_close_price': np.float64(25.5),\n",
      "  'start_date': '2008-05-07',\n",
      "  'symbol': 'KDP',\n",
      "  'years_listed': 17.476712328767125},\n",
      " {'cagr': np.float64(16.62839695496714),\n",
      "  'current_close_price': np.float64(1186.280029296875),\n",
      "  'current_date': '2025-10-24',\n",
      "  'current_volume': np.int64(142375),\n",
      "  'initial_close_price': np.float64(1.15625),\n",
      "  'start_date': '1980-10-08',\n",
      "  'symbol': 'KLAC',\n",
      "  'years_listed': 45.07397260273972},\n",
      " {'cagr': np.float64(-9.742231449956185),\n",
      "  'current_close_price': np.float64(25.360000610351562),\n",
      "  'current_date': '2025-10-24',\n",
      "  'current_volume': np.int64(822682),\n",
      "  'initial_close_price': np.float64(72.95999908447266),\n",
      "  'start_date': '2015-07-06',\n",
      "  'symbol': 'KHC',\n",
      "  'years_listed': 10.30958904109589},\n",
      " {'cagr': np.float64(17.029349114766347),\n",
      "  'current_close_price': np.float64(151.7449951171875),\n",
      "  'current_date': '2025-10-24',\n",
      "  'current_volume': np.int64(2475906),\n",
      "  'initial_close_price': np.float64(0.2222220003604889),\n",
      "  'start_date': '1984-05-04',\n",
      "  'symbol': 'LRCX',\n",
      "  'years_listed': 41.5013698630137},\n",
      " {'cagr': np.float64(12.847739770743448),\n",
      "  'current_close_price': np.float64(448.385009765625),\n",
      "  'current_date': '2025-10-24',\n",
      "  'current_volume': np.int64(182253),\n",
      "  'initial_close_price': np.float64(7.9375),\n",
      "  'start_date': '1992-06-17',\n",
      "  'symbol': 'LIN',\n",
      "  'years_listed': 33.37534246575343},\n",
      " {'cagr': np.float64(15.02254548856381),\n",
      "  'current_close_price': np.float64(180.25),\n",
      "  'current_date': '2025-10-24',\n",
      "  'current_volume': np.int64(527333),\n",
      "  'initial_close_price': np.float64(14.0),\n",
      "  'start_date': '2007-07-27',\n",
      "  'symbol': 'LULU',\n",
      "  'years_listed': 18.257534246575343},\n",
      " {'cagr': np.float64(10.600693731352596),\n",
      "  'current_close_price': np.float64(270.93499755859375),\n",
      "  'current_date': '2025-10-24',\n",
      "  'current_volume': np.int64(161029),\n",
      "  'initial_close_price': np.float64(16.779876708984375),\n",
      "  'start_date': '1998-03-23',\n",
      "  'symbol': 'MAR',\n",
      "  'years_listed': 27.60821917808219},\n",
      " {'cagr': np.float64(7.26972170315312),\n",
      "  'current_close_price': np.float64(84.31999969482422),\n",
      "  'current_date': '2025-10-24',\n",
      "  'current_volume': np.int64(2006297),\n",
      "  'initial_close_price': np.float64(14.25),\n",
      "  'start_date': '2000-06-30',\n",
      "  'symbol': 'MRVL',\n",
      "  'years_listed': 25.334246575342465},\n",
      " {'cagr': np.float64(26.848308269328513),\n",
      "  'current_close_price': np.float64(2170.735107421875),\n",
      "  'current_date': '2025-10-24',\n",
      "  'current_volume': np.int64(57779),\n",
      "  'initial_close_price': np.float64(28.5),\n",
      "  'start_date': '2007-08-10',\n",
      "  'symbol': 'MELI',\n",
      "  'years_listed': 18.21917808219178},\n",
      " {'cagr': np.float64(24.60384996988685),\n",
      "  'current_close_price': np.float64(735.7216796875),\n",
      "  'current_date': '2025-10-24',\n",
      "  'current_volume': np.int64(2162779),\n",
      "  'initial_close_price': np.float64(38.22999954223633),\n",
      "  'start_date': '2012-05-18',\n",
      "  'symbol': 'META',\n",
      "  'years_listed': 13.443835616438356},\n",
      " {'cagr': np.float64(17.56989347893687),\n",
      "  'current_close_price': np.float64(64.12750244140625),\n",
      "  'current_date': '2025-10-24',\n",
      "  'current_volume': np.int64(1107334),\n",
      "  'initial_close_price': np.float64(0.32647499442100525),\n",
      "  'start_date': '1993-03-19',\n",
      "  'symbol': 'MCHP',\n",
      "  'years_listed': 32.62191780821918},\n",
      " {'cagr': np.float64(12.791408707459805),\n",
      "  'current_close_price': np.float64(206.7100067138672),\n",
      "  'current_date': '2025-10-23',\n",
      "  'current_volume': np.int64(19359100),\n",
      "  'initial_close_price': np.float64(1.412500023841858),\n",
      "  'start_date': '1984-06-01',\n",
      "  'symbol': 'MU',\n",
      "  'years_listed': 41.42191780821918},\n",
      " {'cagr': np.float64(24.196242220730756),\n",
      "  'current_close_price': np.float64(523.0999755859375),\n",
      "  'current_date': '2025-10-24',\n",
      "  'current_volume': np.int64(3039806),\n",
      "  'initial_close_price': np.float64(0.09722200036048889),\n",
      "  'start_date': '1986-03-13',\n",
      "  'symbol': 'MSFT',\n",
      "  'years_listed': 39.64383561643836},\n",
      " {'cagr': np.float64(12.866870046260171),\n",
      "  'current_close_price': np.float64(290.7449951171875),\n",
      "  'current_date': '2025-10-24',\n",
      "  'current_volume': np.int64(2086028),\n",
      "  'initial_close_price': np.float64(10.5625),\n",
      "  'start_date': '1998-06-11',\n",
      "  'symbol': 'MSTR',\n",
      "  'years_listed': 27.389041095890413},\n",
      " {'cagr': np.float64(2.7999598948757587),\n",
      "  'current_close_price': np.float64(61.27000045776367),\n",
      "  'current_date': '2025-10-24',\n",
      "  'current_volume': np.int64(582756),\n",
      "  'initial_close_price': np.float64(31.25),\n",
      "  'start_date': '2001-06-13',\n",
      "  'symbol': 'MDLZ',\n",
      "  'years_listed': 24.38082191780822},\n",
      " {'cagr': np.float64(18.44572473115713),\n",
      "  'current_close_price': np.float64(69.83000183105469),\n",
      "  'current_date': '2025-10-24',\n",
      "  'current_volume': np.int64(319541),\n",
      "  'initial_close_price': np.float64(0.08138000220060349),\n",
      "  'start_date': '1985-12-09',\n",
      "  'symbol': 'MNST',\n",
      "  'years_listed': 39.9013698630137},\n",
      " {'cagr': np.float64(33.84777454775178),\n",
      "  'current_close_price': np.float64(1110.31005859375),\n",
      "  'current_date': '2025-10-24',\n",
      "  'current_volume': np.int64(1653906),\n",
      "  'initial_close_price': np.float64(1.1964290142059326),\n",
      "  'start_date': '2002-05-23',\n",
      "  'symbol': 'NFLX',\n",
      "  'years_listed': 23.438356164383563},\n",
      " {'cagr': np.float64(36.910560944556956),\n",
      "  'current_close_price': np.float64(184.38499450683594),\n",
      "  'current_date': '2025-10-24',\n",
      "  'current_volume': np.int64(34530377),\n",
      "  'initial_close_price': np.float64(0.041016001254320145),\n",
      "  'start_date': '1999-01-22',\n",
      "  'symbol': 'NVDA',\n",
      "  'years_listed': 26.77260273972603},\n",
      " {'cagr': np.float64(19.851163223821146),\n",
      "  'current_close_price': np.float64(220.6199951171875),\n",
      "  'current_date': '2025-10-24',\n",
      "  'current_volume': np.int64(374712),\n",
      "  'initial_close_price': np.float64(14.0),\n",
      "  'start_date': '2010-08-06',\n",
      "  'symbol': 'NXPI',\n",
      "  'years_listed': 15.227397260273973},\n",
      " {'cagr': np.float64(21.829601977872603),\n",
      "  'current_close_price': np.float64(98.7300033569336),\n",
      "  'current_date': '2025-10-24',\n",
      "  'current_volume': np.int64(1058251),\n",
      "  'initial_close_price': np.float64(0.16041700541973114),\n",
      "  'start_date': '1993-04-23',\n",
      "  'symbol': 'ORLY',\n",
      "  'years_listed': 32.52602739726027},\n",
      " {'cagr': np.float64(17.48250414746737),\n",
      "  'current_close_price': np.float64(137.14500427246094),\n",
      "  'current_date': '2025-10-24',\n",
      "  'current_volume': np.int64(145744),\n",
      "  'initial_close_price': np.float64(0.5706449747085571),\n",
      "  'start_date': '1991-10-24',\n",
      "  'symbol': 'ODFL',\n",
      "  'years_listed': 34.02465753424657},\n",
      " {'cagr': np.float64(2.988682044411828),\n",
      "  'current_close_price': np.float64(50.849998474121094),\n",
      "  'current_date': '2025-10-24',\n",
      "  'current_volume': np.int64(1325253),\n",
      "  'initial_close_price': np.float64(24.0),\n",
      "  'start_date': '2000-05-02',\n",
      "  'symbol': 'ON',\n",
      "  'years_listed': 25.495890410958904},\n",
      " {'cagr': np.float64(11.062853932765826),\n",
      "  'current_close_price': np.float64(100.19999694824219),\n",
      "  'current_date': '2025-10-24',\n",
      "  'current_volume': np.int64(388068),\n",
      "  'initial_close_price': np.float64(0.8342689871788025),\n",
      "  'start_date': '1980-03-17',\n",
      "  'symbol': 'PCAR',\n",
      "  'years_listed': 45.635616438356166},\n",
      " {'cagr': np.float64(79.65789320032157),\n",
      "  'current_close_price': np.float64(185.08999633789062),\n",
      "  'current_date': '2025-10-24',\n",
      "  'current_volume': np.int64(13201159),\n",
      "  'initial_close_price': np.float64(9.5),\n",
      "  'start_date': '2020-09-30',\n",
      "  'symbol': 'PLTR',\n",
      "  'years_listed': 5.068493150684931},\n",
      " {'cagr': np.float64(27.275680125175185),\n",
      "  'current_close_price': np.float64(217.4149932861328),\n",
      "  'current_date': '2025-10-24',\n",
      "  'current_volume': np.int64(554717),\n",
      "  'initial_close_price': np.float64(8.854999542236328),\n",
      "  'start_date': '2012-07-20',\n",
      "  'symbol': 'PANW',\n",
      "  'years_listed': 13.271232876712329},\n",
      " {'cagr': np.float64(16.377479997548107),\n",
      "  'current_close_price': np.float64(125.13999938964844),\n",
      "  'current_date': '2025-10-24',\n",
      "  'current_volume': np.int64(200257),\n",
      "  'initial_close_price': np.float64(0.20809799432754517),\n",
      "  'start_date': '1983-08-26',\n",
      "  'symbol': 'PAYX',\n",
      "  'years_listed': 42.19178082191781},\n",
      " {'cagr': np.float64(6.580372375978549),\n",
      "  'current_close_price': np.float64(70.81500244140625),\n",
      "  'current_date': '2025-10-24',\n",
      "  'current_volume': np.int64(1738550),\n",
      "  'initial_close_price': np.float64(36.709999084472656),\n",
      "  'start_date': '2015-07-06',\n",
      "  'symbol': 'PYPL',\n",
      "  'years_listed': 10.30958904109589},\n",
      " {'cagr': np.float64(24.928650009089104),\n",
      "  'current_close_price': np.float64(134.125),\n",
      "  'current_date': '2025-10-24',\n",
      "  'current_volume': np.int64(1737792),\n",
      "  'initial_close_price': np.float64(26.700000762939453),\n",
      "  'start_date': '2018-07-26',\n",
      "  'symbol': 'PDD',\n",
      "  'years_listed': 7.252054794520548},\n",
      " {'cagr': np.float64(8.894506258586766),\n",
      "  'current_close_price': np.float64(152.0399932861328),\n",
      "  'current_date': '2025-10-24',\n",
      "  'current_volume': np.int64(679742),\n",
      "  'initial_close_price': np.float64(1.6018520593643188),\n",
      "  'start_date': '1972-06-01',\n",
      "  'symbol': 'PEP',\n",
      "  'years_listed': 53.43287671232877},\n",
      " {'cagr': np.float64(18.350358027022786),\n",
      "  'current_close_price': np.float64(169.69500732421875),\n",
      "  'current_date': '2025-10-24',\n",
      "  'current_volume': np.int64(923380),\n",
      "  'initial_close_price': np.float64(0.5625),\n",
      "  'start_date': '1991-12-13',\n",
      "  'symbol': 'QCOM',\n",
      "  'years_listed': 33.88767123287671},\n",
      " {'cagr': np.float64(10.053552049721892),\n",
      "  'current_close_price': np.float64(580.4000244140625),\n",
      "  'current_date': '2025-10-24',\n",
      "  'current_volume': np.int64(149136),\n",
      "  'initial_close_price': np.float64(21.125),\n",
      "  'start_date': '1991-04-02',\n",
      "  'symbol': 'REGN',\n",
      "  'years_listed': 34.586301369863016},\n",
      " {'cagr': np.float64(17.5687682194837),\n",
      "  'current_close_price': np.float64(479.93499755859375),\n",
      "  'current_date': '2025-10-24',\n",
      "  'current_volume': np.int64(161588),\n",
      "  'initial_close_price': np.float64(2.046875),\n",
      "  'start_date': '1992-02-13',\n",
      "  'symbol': 'ROP',\n",
      "  'years_listed': 33.71780821917808},\n",
      " {'cagr': np.float64(15.067701566311055),\n",
      "  'current_close_price': np.float64(157.2949981689453),\n",
      "  'current_date': '2025-10-24',\n",
      "  'current_volume': np.int64(176796),\n",
      "  'initial_close_price': np.float64(0.5546879768371582),\n",
      "  'start_date': '1985-08-08',\n",
      "  'symbol': 'ROST',\n",
      "  'years_listed': 40.23835616438356},\n",
      " {'cagr': np.float64(55.668666442971485),\n",
      "  'current_close_price': np.float64(172.47000122070312),\n",
      "  'current_date': '2025-10-24',\n",
      "  'current_volume': np.int64(1652249),\n",
      "  'initial_close_price': np.float64(1.7000000476837158),\n",
      "  'start_date': '2015-05-20',\n",
      "  'symbol': 'SHOP',\n",
      "  'years_listed': 10.438356164383562},\n",
      " {'cagr': np.float64(18.092743138823874),\n",
      "  'current_close_price': np.float64(86.08999633789062),\n",
      "  'current_date': '2025-10-24',\n",
      "  'current_volume': np.int64(932187),\n",
      "  'initial_close_price': np.float64(0.3359380066394806),\n",
      "  'start_date': '1992-06-26',\n",
      "  'symbol': 'SBUX',\n",
      "  'years_listed': 33.35068493150685},\n",
      " {'cagr': np.float64(12.865450611388042),\n",
      "  'current_close_price': np.float64(464.1099853515625),\n",
      "  'current_date': '2025-10-24',\n",
      "  'current_volume': np.int64(164285),\n",
      "  'initial_close_price': np.float64(7.875),\n",
      "  'start_date': '1992-02-26',\n",
      "  'symbol': 'SNPS',\n",
      "  'years_listed': 33.68219178082192},\n",
      " {'cagr': np.float64(7.7192992530375815),\n",
      "  'current_close_price': np.float64(217.33999633789062),\n",
      "  'current_date': '2025-10-24',\n",
      "  'current_volume': np.int64(1140571),\n",
      "  'initial_close_price': np.float64(54.79999923706055),\n",
      "  'start_date': '2007-04-19',\n",
      "  'symbol': 'TMUS',\n",
      "  'years_listed': 18.528767123287672},\n",
      " {'cagr': np.float64(15.773717843052193),\n",
      "  'current_close_price': np.float64(256.25750732421875),\n",
      "  'current_date': '2025-10-24',\n",
      "  'current_volume': np.int64(154317),\n",
      "  'initial_close_price': np.float64(3.9166669845581055),\n",
      "  'start_date': '1997-04-15',\n",
      "  'symbol': 'TTWO',\n",
      "  'years_listed': 28.545205479452054},\n",
      " {'cagr': np.float64(44.33388570716379),\n",
      "  'current_close_price': np.float64(442.05999755859375),\n",
      "  'current_date': '2025-10-24',\n",
      "  'current_volume': np.int64(25863969),\n",
      "  'initial_close_price': np.float64(1.5926669836044312),\n",
      "  'start_date': '2010-06-29',\n",
      "  'symbol': 'TSLA',\n",
      "  'years_listed': 15.331506849315069},\n",
      " {'cagr': np.float64(9.001485481927162),\n",
      "  'current_close_price': np.float64(170.22999572753906),\n",
      "  'current_date': '2025-10-24',\n",
      "  'current_volume': np.int64(1278641),\n",
      "  'initial_close_price': np.float64(1.7018229961395264),\n",
      "  'start_date': '1972-06-01',\n",
      "  'symbol': 'TXN',\n",
      "  'years_listed': 53.43287671232877},\n",
      " {'cagr': np.float64(7.189519391347532),\n",
      "  'current_close_price': np.float64(162.7050018310547),\n",
      "  'current_date': '2025-10-24',\n",
      "  'current_volume': np.int64(59776),\n",
      "  'initial_close_price': np.float64(32.08722686767578),\n",
      "  'start_date': '2002-06-12',\n",
      "  'symbol': 'TRI',\n",
      "  'years_listed': 23.383561643835616},\n",
      " {'cagr': np.float64(37.52781427162761),\n",
      "  'current_close_price': np.float64(54.619998931884766),\n",
      "  'current_date': '2025-10-24',\n",
      "  'current_volume': np.int64(1225531),\n",
      "  'initial_close_price': np.float64(3.009999990463257),\n",
      "  'start_date': '2016-09-21',\n",
      "  'symbol': 'TTD',\n",
      "  'years_listed': 9.095890410958905},\n",
      " {'cagr': np.float64(14.387505377438181),\n",
      "  'current_close_price': np.float64(235.6699981689453),\n",
      "  'current_date': '2025-10-24',\n",
      "  'current_volume': np.int64(132640),\n",
      "  'initial_close_price': np.float64(27.219999313354492),\n",
      "  'start_date': '2009-10-07',\n",
      "  'symbol': 'VRSK',\n",
      "  'years_listed': 16.057534246575344},\n",
      " {'cagr': np.float64(14.185751387151635),\n",
      "  'current_close_price': np.float64(424.5799865722656),\n",
      "  'current_date': '2025-10-24',\n",
      "  'current_volume': np.int64(94438),\n",
      "  'initial_close_price': np.float64(4.5),\n",
      "  'start_date': '1991-07-24',\n",
      "  'symbol': 'VRTX',\n",
      "  'years_listed': 34.276712328767125},\n",
      " {'cagr': np.float64(5.538915229122732),\n",
      "  'current_close_price': np.float64(21.204099655151367),\n",
      "  'current_date': '2025-10-24',\n",
      "  'current_volume': np.int64(7619002),\n",
      "  'initial_close_price': np.float64(7.094454765319824),\n",
      "  'start_date': '2005-07-08',\n",
      "  'symbol': 'WBD',\n",
      "  'years_listed': 20.30958904109589},\n",
      " {'cagr': np.float64(13.243899771247447),\n",
      "  'current_close_price': np.float64(246.52000427246094),\n",
      "  'current_date': '2025-10-24',\n",
      "  'current_volume': np.int64(107372),\n",
      "  'initial_close_price': np.float64(48.689998626708984),\n",
      "  'start_date': '2012-10-12',\n",
      "  'symbol': 'WDAY',\n",
      "  'years_listed': 13.04109589041096},\n",
      " {'cagr': np.float64(4.679809206606111),\n",
      "  'current_close_price': np.float64(80.7699966430664),\n",
      "  'current_date': '2025-10-24',\n",
      "  'current_volume': np.int64(307120),\n",
      "  'initial_close_price': np.float64(7.25),\n",
      "  'start_date': '1973-02-21',\n",
      "  'symbol': 'XEL',\n",
      "  'years_listed': 52.706849315068496},\n",
      " {'cagr': np.float64(35.06676798554569),\n",
      "  'current_close_price': np.float64(325.44000244140625),\n",
      "  'current_date': '2025-10-24',\n",
      "  'current_volume': np.int64(357149),\n",
      "  'initial_close_price': np.float64(33.0),\n",
      "  'start_date': '2018-03-16',\n",
      "  'symbol': 'ZS',\n",
      "  'years_listed': 7.6136986301369864}]\n"
     ]
    }
   ],
   "source": [
    "# CAGR(年平均成長率)のリストを確認\n",
    "print(\"Number of data:\", len(cagr_list))\n",
    "pprint(cagr_list)"
   ]
  },
  {
   "cell_type": "code",
   "execution_count": 8,
   "id": "aceeb7a0-b543-4bd6-87a4-b49915cc8830",
   "metadata": {
    "tags": []
   },
   "outputs": [],
   "source": [
    "# データフレームを作成\n",
    "df = pd.DataFrame(cagr_list)"
   ]
  },
  {
   "cell_type": "code",
   "execution_count": 9,
   "id": "b0e134d5-a6a8-4ea6-a9f2-4afefdde29ce",
   "metadata": {
    "tags": []
   },
   "outputs": [
    {
     "data": {
      "text/html": [
       "<div>\n",
       "<style scoped>\n",
       "    .dataframe tbody tr th:only-of-type {\n",
       "        vertical-align: middle;\n",
       "    }\n",
       "\n",
       "    .dataframe tbody tr th {\n",
       "        vertical-align: top;\n",
       "    }\n",
       "\n",
       "    .dataframe thead th {\n",
       "        text-align: right;\n",
       "    }\n",
       "</style>\n",
       "<table border=\"1\" class=\"dataframe\">\n",
       "  <thead>\n",
       "    <tr style=\"text-align: right;\">\n",
       "      <th></th>\n",
       "      <th>symbol</th>\n",
       "      <th>start_date</th>\n",
       "      <th>current_date</th>\n",
       "      <th>years_listed</th>\n",
       "      <th>initial_close_price</th>\n",
       "      <th>current_close_price</th>\n",
       "      <th>current_volume</th>\n",
       "      <th>cagr</th>\n",
       "    </tr>\n",
       "  </thead>\n",
       "  <tbody>\n",
       "    <tr>\n",
       "      <th>0</th>\n",
       "      <td>ADBE</td>\n",
       "      <td>1986-08-13</td>\n",
       "      <td>2025-10-24</td>\n",
       "      <td>39.224658</td>\n",
       "      <td>0.210938</td>\n",
       "      <td>356.290009</td>\n",
       "      <td>412902</td>\n",
       "      <td>20.861010</td>\n",
       "    </tr>\n",
       "    <tr>\n",
       "      <th>1</th>\n",
       "      <td>AMD</td>\n",
       "      <td>1980-03-17</td>\n",
       "      <td>2025-10-24</td>\n",
       "      <td>45.635616</td>\n",
       "      <td>3.145833</td>\n",
       "      <td>249.960007</td>\n",
       "      <td>23900332</td>\n",
       "      <td>10.061925</td>\n",
       "    </tr>\n",
       "    <tr>\n",
       "      <th>2</th>\n",
       "      <td>ABNB</td>\n",
       "      <td>2020-12-10</td>\n",
       "      <td>2025-10-24</td>\n",
       "      <td>4.873973</td>\n",
       "      <td>144.710007</td>\n",
       "      <td>128.035004</td>\n",
       "      <td>524039</td>\n",
       "      <td>-2.480590</td>\n",
       "    </tr>\n",
       "    <tr>\n",
       "      <th>3</th>\n",
       "      <td>GOOGL</td>\n",
       "      <td>2004-08-19</td>\n",
       "      <td>2025-10-24</td>\n",
       "      <td>21.194521</td>\n",
       "      <td>2.511011</td>\n",
       "      <td>260.214996</td>\n",
       "      <td>7965603</td>\n",
       "      <td>24.478563</td>\n",
       "    </tr>\n",
       "    <tr>\n",
       "      <th>4</th>\n",
       "      <td>GOOG</td>\n",
       "      <td>2004-08-19</td>\n",
       "      <td>2025-10-23</td>\n",
       "      <td>21.191781</td>\n",
       "      <td>2.499133</td>\n",
       "      <td>253.729996</td>\n",
       "      <td>13186600</td>\n",
       "      <td>24.361750</td>\n",
       "    </tr>\n",
       "    <tr>\n",
       "      <th>...</th>\n",
       "      <td>...</td>\n",
       "      <td>...</td>\n",
       "      <td>...</td>\n",
       "      <td>...</td>\n",
       "      <td>...</td>\n",
       "      <td>...</td>\n",
       "      <td>...</td>\n",
       "      <td>...</td>\n",
       "    </tr>\n",
       "    <tr>\n",
       "      <th>96</th>\n",
       "      <td>VRTX</td>\n",
       "      <td>1991-07-24</td>\n",
       "      <td>2025-10-24</td>\n",
       "      <td>34.276712</td>\n",
       "      <td>4.500000</td>\n",
       "      <td>424.579987</td>\n",
       "      <td>94438</td>\n",
       "      <td>14.185751</td>\n",
       "    </tr>\n",
       "    <tr>\n",
       "      <th>97</th>\n",
       "      <td>WBD</td>\n",
       "      <td>2005-07-08</td>\n",
       "      <td>2025-10-24</td>\n",
       "      <td>20.309589</td>\n",
       "      <td>7.094455</td>\n",
       "      <td>21.204100</td>\n",
       "      <td>7619002</td>\n",
       "      <td>5.538915</td>\n",
       "    </tr>\n",
       "    <tr>\n",
       "      <th>98</th>\n",
       "      <td>WDAY</td>\n",
       "      <td>2012-10-12</td>\n",
       "      <td>2025-10-24</td>\n",
       "      <td>13.041096</td>\n",
       "      <td>48.689999</td>\n",
       "      <td>246.520004</td>\n",
       "      <td>107372</td>\n",
       "      <td>13.243900</td>\n",
       "    </tr>\n",
       "    <tr>\n",
       "      <th>99</th>\n",
       "      <td>XEL</td>\n",
       "      <td>1973-02-21</td>\n",
       "      <td>2025-10-24</td>\n",
       "      <td>52.706849</td>\n",
       "      <td>7.250000</td>\n",
       "      <td>80.769997</td>\n",
       "      <td>307120</td>\n",
       "      <td>4.679809</td>\n",
       "    </tr>\n",
       "    <tr>\n",
       "      <th>100</th>\n",
       "      <td>ZS</td>\n",
       "      <td>2018-03-16</td>\n",
       "      <td>2025-10-24</td>\n",
       "      <td>7.613699</td>\n",
       "      <td>33.000000</td>\n",
       "      <td>325.440002</td>\n",
       "      <td>357149</td>\n",
       "      <td>35.066768</td>\n",
       "    </tr>\n",
       "  </tbody>\n",
       "</table>\n",
       "<p>101 rows × 8 columns</p>\n",
       "</div>"
      ],
      "text/plain": [
       "    symbol  start_date current_date  years_listed  initial_close_price  \\\n",
       "0     ADBE  1986-08-13   2025-10-24     39.224658             0.210938   \n",
       "1      AMD  1980-03-17   2025-10-24     45.635616             3.145833   \n",
       "2     ABNB  2020-12-10   2025-10-24      4.873973           144.710007   \n",
       "3    GOOGL  2004-08-19   2025-10-24     21.194521             2.511011   \n",
       "4     GOOG  2004-08-19   2025-10-23     21.191781             2.499133   \n",
       "..     ...         ...          ...           ...                  ...   \n",
       "96    VRTX  1991-07-24   2025-10-24     34.276712             4.500000   \n",
       "97     WBD  2005-07-08   2025-10-24     20.309589             7.094455   \n",
       "98    WDAY  2012-10-12   2025-10-24     13.041096            48.689999   \n",
       "99     XEL  1973-02-21   2025-10-24     52.706849             7.250000   \n",
       "100     ZS  2018-03-16   2025-10-24      7.613699            33.000000   \n",
       "\n",
       "     current_close_price  current_volume       cagr  \n",
       "0             356.290009          412902  20.861010  \n",
       "1             249.960007        23900332  10.061925  \n",
       "2             128.035004          524039  -2.480590  \n",
       "3             260.214996         7965603  24.478563  \n",
       "4             253.729996        13186600  24.361750  \n",
       "..                   ...             ...        ...  \n",
       "96            424.579987           94438  14.185751  \n",
       "97             21.204100         7619002   5.538915  \n",
       "98            246.520004          107372  13.243900  \n",
       "99             80.769997          307120   4.679809  \n",
       "100           325.440002          357149  35.066768  \n",
       "\n",
       "[101 rows x 8 columns]"
      ]
     },
     "metadata": {},
     "output_type": "display_data"
    }
   ],
   "source": [
    "# データフレームを確認\n",
    "display(df)"
   ]
  },
  {
   "cell_type": "code",
   "execution_count": 10,
   "id": "cc231d18-650d-4b0b-b0dc-f7aeb7b62495",
   "metadata": {
    "tags": []
   },
   "outputs": [
    {
     "data": {
      "text/html": [
       "<div>\n",
       "<style scoped>\n",
       "    .dataframe tbody tr th:only-of-type {\n",
       "        vertical-align: middle;\n",
       "    }\n",
       "\n",
       "    .dataframe tbody tr th {\n",
       "        vertical-align: top;\n",
       "    }\n",
       "\n",
       "    .dataframe thead th {\n",
       "        text-align: right;\n",
       "    }\n",
       "</style>\n",
       "<table border=\"1\" class=\"dataframe\">\n",
       "  <thead>\n",
       "    <tr style=\"text-align: right;\">\n",
       "      <th></th>\n",
       "      <th>symbol</th>\n",
       "      <th>start_date</th>\n",
       "      <th>current_date</th>\n",
       "      <th>years_listed</th>\n",
       "      <th>initial_close_price</th>\n",
       "      <th>current_close_price</th>\n",
       "      <th>current_volume</th>\n",
       "      <th>cagr</th>\n",
       "    </tr>\n",
       "  </thead>\n",
       "  <tbody>\n",
       "    <tr>\n",
       "      <th>22</th>\n",
       "      <td>AVGO</td>\n",
       "      <td>2009-08-06</td>\n",
       "      <td>2025-10-24</td>\n",
       "      <td>16.227397</td>\n",
       "      <td>1.618000</td>\n",
       "      <td>353.209991</td>\n",
       "      <td>3338042</td>\n",
       "      <td>39.361337</td>\n",
       "    </tr>\n",
       "    <tr>\n",
       "      <th>70</th>\n",
       "      <td>NVDA</td>\n",
       "      <td>1999-01-22</td>\n",
       "      <td>2025-10-24</td>\n",
       "      <td>26.772603</td>\n",
       "      <td>0.041016</td>\n",
       "      <td>184.384995</td>\n",
       "      <td>34530377</td>\n",
       "      <td>36.910561</td>\n",
       "    </tr>\n",
       "    <tr>\n",
       "      <th>18</th>\n",
       "      <td>AXON</td>\n",
       "      <td>2001-06-19</td>\n",
       "      <td>2025-10-24</td>\n",
       "      <td>24.364384</td>\n",
       "      <td>0.460000</td>\n",
       "      <td>734.960022</td>\n",
       "      <td>49189</td>\n",
       "      <td>35.357757</td>\n",
       "    </tr>\n",
       "    <tr>\n",
       "      <th>69</th>\n",
       "      <td>NFLX</td>\n",
       "      <td>2002-05-23</td>\n",
       "      <td>2025-10-24</td>\n",
       "      <td>23.438356</td>\n",
       "      <td>1.196429</td>\n",
       "      <td>1110.310059</td>\n",
       "      <td>1653906</td>\n",
       "      <td>33.847775</td>\n",
       "    </tr>\n",
       "    <tr>\n",
       "      <th>5</th>\n",
       "      <td>AMZN</td>\n",
       "      <td>1997-05-15</td>\n",
       "      <td>2025-10-24</td>\n",
       "      <td>28.463014</td>\n",
       "      <td>0.097917</td>\n",
       "      <td>223.860001</td>\n",
       "      <td>9037802</td>\n",
       "      <td>31.225115</td>\n",
       "    </tr>\n",
       "    <tr>\n",
       "      <th>61</th>\n",
       "      <td>MELI</td>\n",
       "      <td>2007-08-10</td>\n",
       "      <td>2025-10-24</td>\n",
       "      <td>18.219178</td>\n",
       "      <td>28.500000</td>\n",
       "      <td>2170.735107</td>\n",
       "      <td>57779</td>\n",
       "      <td>26.848308</td>\n",
       "    </tr>\n",
       "    <tr>\n",
       "      <th>52</th>\n",
       "      <td>ISRG</td>\n",
       "      <td>2000-06-16</td>\n",
       "      <td>2025-10-24</td>\n",
       "      <td>25.372603</td>\n",
       "      <td>2.027778</td>\n",
       "      <td>548.510010</td>\n",
       "      <td>742036</td>\n",
       "      <td>24.697541</td>\n",
       "    </tr>\n",
       "    <tr>\n",
       "      <th>3</th>\n",
       "      <td>GOOGL</td>\n",
       "      <td>2004-08-19</td>\n",
       "      <td>2025-10-24</td>\n",
       "      <td>21.194521</td>\n",
       "      <td>2.511011</td>\n",
       "      <td>260.214996</td>\n",
       "      <td>7965603</td>\n",
       "      <td>24.478563</td>\n",
       "    </tr>\n",
       "    <tr>\n",
       "      <th>4</th>\n",
       "      <td>GOOG</td>\n",
       "      <td>2004-08-19</td>\n",
       "      <td>2025-10-23</td>\n",
       "      <td>21.191781</td>\n",
       "      <td>2.499133</td>\n",
       "      <td>253.729996</td>\n",
       "      <td>13186600</td>\n",
       "      <td>24.361750</td>\n",
       "    </tr>\n",
       "    <tr>\n",
       "      <th>65</th>\n",
       "      <td>MSFT</td>\n",
       "      <td>1986-03-13</td>\n",
       "      <td>2025-10-24</td>\n",
       "      <td>39.643836</td>\n",
       "      <td>0.097222</td>\n",
       "      <td>523.099976</td>\n",
       "      <td>3039806</td>\n",
       "      <td>24.196242</td>\n",
       "    </tr>\n",
       "    <tr>\n",
       "      <th>29</th>\n",
       "      <td>CTSH</td>\n",
       "      <td>1998-06-19</td>\n",
       "      <td>2025-10-24</td>\n",
       "      <td>27.367123</td>\n",
       "      <td>0.208333</td>\n",
       "      <td>68.129997</td>\n",
       "      <td>403122</td>\n",
       "      <td>23.561523</td>\n",
       "    </tr>\n",
       "    <tr>\n",
       "      <th>72</th>\n",
       "      <td>ORLY</td>\n",
       "      <td>1993-04-23</td>\n",
       "      <td>2025-10-24</td>\n",
       "      <td>32.526027</td>\n",
       "      <td>0.160417</td>\n",
       "      <td>98.730003</td>\n",
       "      <td>1058251</td>\n",
       "      <td>21.829602</td>\n",
       "    </tr>\n",
       "    <tr>\n",
       "      <th>13</th>\n",
       "      <td>ASML</td>\n",
       "      <td>1995-03-15</td>\n",
       "      <td>2025-10-24</td>\n",
       "      <td>30.632877</td>\n",
       "      <td>2.739448</td>\n",
       "      <td>1042.199951</td>\n",
       "      <td>252768</td>\n",
       "      <td>21.403900</td>\n",
       "    </tr>\n",
       "    <tr>\n",
       "      <th>27</th>\n",
       "      <td>CSCO</td>\n",
       "      <td>1990-02-16</td>\n",
       "      <td>2025-10-24</td>\n",
       "      <td>35.709589</td>\n",
       "      <td>0.077257</td>\n",
       "      <td>70.455002</td>\n",
       "      <td>2036403</td>\n",
       "      <td>21.029203</td>\n",
       "    </tr>\n",
       "    <tr>\n",
       "      <th>49</th>\n",
       "      <td>IDXX</td>\n",
       "      <td>1991-06-21</td>\n",
       "      <td>2025-10-24</td>\n",
       "      <td>34.367123</td>\n",
       "      <td>0.945313</td>\n",
       "      <td>648.599976</td>\n",
       "      <td>35221</td>\n",
       "      <td>20.929541</td>\n",
       "    </tr>\n",
       "    <tr>\n",
       "      <th>0</th>\n",
       "      <td>ADBE</td>\n",
       "      <td>1986-08-13</td>\n",
       "      <td>2025-10-24</td>\n",
       "      <td>39.224658</td>\n",
       "      <td>0.210938</td>\n",
       "      <td>356.290009</td>\n",
       "      <td>412902</td>\n",
       "      <td>20.861010</td>\n",
       "    </tr>\n",
       "    <tr>\n",
       "      <th>43</th>\n",
       "      <td>FAST</td>\n",
       "      <td>1987-08-20</td>\n",
       "      <td>2025-10-24</td>\n",
       "      <td>38.205479</td>\n",
       "      <td>0.031576</td>\n",
       "      <td>43.005001</td>\n",
       "      <td>522738</td>\n",
       "      <td>20.790938</td>\n",
       "    </tr>\n",
       "  </tbody>\n",
       "</table>\n",
       "</div>"
      ],
      "text/plain": [
       "   symbol  start_date current_date  years_listed  initial_close_price  \\\n",
       "22   AVGO  2009-08-06   2025-10-24     16.227397             1.618000   \n",
       "70   NVDA  1999-01-22   2025-10-24     26.772603             0.041016   \n",
       "18   AXON  2001-06-19   2025-10-24     24.364384             0.460000   \n",
       "69   NFLX  2002-05-23   2025-10-24     23.438356             1.196429   \n",
       "5    AMZN  1997-05-15   2025-10-24     28.463014             0.097917   \n",
       "61   MELI  2007-08-10   2025-10-24     18.219178            28.500000   \n",
       "52   ISRG  2000-06-16   2025-10-24     25.372603             2.027778   \n",
       "3   GOOGL  2004-08-19   2025-10-24     21.194521             2.511011   \n",
       "4    GOOG  2004-08-19   2025-10-23     21.191781             2.499133   \n",
       "65   MSFT  1986-03-13   2025-10-24     39.643836             0.097222   \n",
       "29   CTSH  1998-06-19   2025-10-24     27.367123             0.208333   \n",
       "72   ORLY  1993-04-23   2025-10-24     32.526027             0.160417   \n",
       "13   ASML  1995-03-15   2025-10-24     30.632877             2.739448   \n",
       "27   CSCO  1990-02-16   2025-10-24     35.709589             0.077257   \n",
       "49   IDXX  1991-06-21   2025-10-24     34.367123             0.945313   \n",
       "0    ADBE  1986-08-13   2025-10-24     39.224658             0.210938   \n",
       "43   FAST  1987-08-20   2025-10-24     38.205479             0.031576   \n",
       "\n",
       "    current_close_price  current_volume       cagr  \n",
       "22           353.209991         3338042  39.361337  \n",
       "70           184.384995        34530377  36.910561  \n",
       "18           734.960022           49189  35.357757  \n",
       "69          1110.310059         1653906  33.847775  \n",
       "5            223.860001         9037802  31.225115  \n",
       "61          2170.735107           57779  26.848308  \n",
       "52           548.510010          742036  24.697541  \n",
       "3            260.214996         7965603  24.478563  \n",
       "4            253.729996        13186600  24.361750  \n",
       "65           523.099976         3039806  24.196242  \n",
       "29            68.129997          403122  23.561523  \n",
       "72            98.730003         1058251  21.829602  \n",
       "13          1042.199951          252768  21.403900  \n",
       "27            70.455002         2036403  21.029203  \n",
       "49           648.599976           35221  20.929541  \n",
       "0            356.290009          412902  20.861010  \n",
       "43            43.005001          522738  20.790938  "
      ]
     },
     "metadata": {},
     "output_type": "display_data"
    }
   ],
   "source": [
    "# CAGR(年平均成長率)が20以上のデータで上場年数が16年以上のデータを絞り込み\n",
    "df_cagr_filtered = df[(df[\"cagr\"] >= 20) & (df[\"years_listed\"] >= 16)].sort_values(by=\"cagr\", ascending=False)\n",
    "\n",
    "display(df_cagr_filtered)"
   ]
  },
  {
   "cell_type": "code",
   "execution_count": 31,
   "id": "79541888-0712-41ed-92d4-56894bdc7f85",
   "metadata": {
    "scrolled": true,
    "tags": []
   },
   "outputs": [
    {
     "data": {
      "application/vnd.plotly.v1+json": {
       "config": {
        "plotlyServerURL": "https://plot.ly"
       },
       "data": [
        {
         "hovertemplate": "symbol=%{x}<br>cagr=%{y}<extra></extra>",
         "legendgroup": "AVGO",
         "marker": {
          "color": "#636efa",
          "pattern": {
           "shape": ""
          }
         },
         "name": "AVGO",
         "orientation": "v",
         "showlegend": true,
         "textposition": "auto",
         "type": "bar",
         "x": [
          "AVGO"
         ],
         "xaxis": "x",
         "y": {
          "bdata": "QFmeJvYw2T8=",
          "dtype": "f8"
         },
         "yaxis": "y"
        },
        {
         "hovertemplate": "symbol=%{x}<br>cagr=%{y}<extra></extra>",
         "legendgroup": "NVDA",
         "marker": {
          "color": "#EF553B",
          "pattern": {
           "shape": ""
          }
         },
         "name": "NVDA",
         "orientation": "v",
         "showlegend": true,
         "textposition": "auto",
         "type": "bar",
         "x": [
          "NVDA"
         ],
         "xaxis": "x",
         "y": {
          "bdata": "DbBVIm2f1z8=",
          "dtype": "f8"
         },
         "yaxis": "y"
        },
        {
         "hovertemplate": "symbol=%{x}<br>cagr=%{y}<extra></extra>",
         "legendgroup": "AXON",
         "marker": {
          "color": "#00cc96",
          "pattern": {
           "shape": ""
          }
         },
         "name": "AXON",
         "orientation": "v",
         "showlegend": true,
         "textposition": "auto",
         "type": "bar",
         "x": [
          "AXON"
         ],
         "xaxis": "x",
         "y": {
          "bdata": "WLz00AOh1j8=",
          "dtype": "f8"
         },
         "yaxis": "y"
        },
        {
         "hovertemplate": "symbol=%{x}<br>cagr=%{y}<extra></extra>",
         "legendgroup": "NFLX",
         "marker": {
          "color": "#ab63fa",
          "pattern": {
           "shape": ""
          }
         },
         "name": "NFLX",
         "orientation": "v",
         "showlegend": true,
         "textposition": "auto",
         "type": "bar",
         "x": [
          "NFLX"
         ],
         "xaxis": "x",
         "y": {
          "bdata": "7PvPj56p1T8=",
          "dtype": "f8"
         },
         "yaxis": "y"
        },
        {
         "hovertemplate": "symbol=%{x}<br>cagr=%{y}<extra></extra>",
         "legendgroup": "AMZN",
         "marker": {
          "color": "#FFA15A",
          "pattern": {
           "shape": ""
          }
         },
         "name": "AMZN",
         "orientation": "v",
         "showlegend": true,
         "textposition": "auto",
         "type": "bar",
         "x": [
          "AMZN"
         ],
         "xaxis": "x",
         "y": {
          "bdata": "ATm+P+z70z8=",
          "dtype": "f8"
         },
         "yaxis": "y"
        },
        {
         "hovertemplate": "symbol=%{x}<br>cagr=%{y}<extra></extra>",
         "legendgroup": "FTNT",
         "marker": {
          "color": "#19d3f3",
          "pattern": {
           "shape": ""
          }
         },
         "name": "FTNT",
         "orientation": "v",
         "showlegend": true,
         "textposition": "auto",
         "type": "bar",
         "x": [
          "FTNT"
         ],
         "xaxis": "x",
         "y": {
          "bdata": "P54E1e/w0T8=",
          "dtype": "f8"
         },
         "yaxis": "y"
        },
        {
         "hovertemplate": "symbol=%{x}<br>cagr=%{y}<extra></extra>",
         "legendgroup": "MELI",
         "marker": {
          "color": "#FF6692",
          "pattern": {
           "shape": ""
          }
         },
         "name": "MELI",
         "orientation": "v",
         "showlegend": true,
         "textposition": "auto",
         "type": "bar",
         "x": [
          "MELI"
         ],
         "xaxis": "x",
         "y": {
          "bdata": "Y5rsqtMu0T8=",
          "dtype": "f8"
         },
         "yaxis": "y"
        },
        {
         "hovertemplate": "symbol=%{x}<br>cagr=%{y}<extra></extra>",
         "legendgroup": "ISRG",
         "marker": {
          "color": "#B6E880",
          "pattern": {
           "shape": ""
          }
         },
         "name": "ISRG",
         "orientation": "v",
         "showlegend": true,
         "textposition": "auto",
         "type": "bar",
         "x": [
          "ISRG"
         ],
         "xaxis": "x",
         "y": {
          "bdata": "n//m6+Oczz8=",
          "dtype": "f8"
         },
         "yaxis": "y"
        },
        {
         "hovertemplate": "symbol=%{x}<br>cagr=%{y}<extra></extra>",
         "legendgroup": "GOOGL",
         "marker": {
          "color": "#FF97FF",
          "pattern": {
           "shape": ""
          }
         },
         "name": "GOOGL",
         "orientation": "v",
         "showlegend": true,
         "textposition": "auto",
         "type": "bar",
         "x": [
          "GOOGL"
         ],
         "xaxis": "x",
         "y": {
          "bdata": "WroBryJVzz8=",
          "dtype": "f8"
         },
         "yaxis": "y"
        },
        {
         "hovertemplate": "symbol=%{x}<br>cagr=%{y}<extra></extra>",
         "legendgroup": "GOOG",
         "marker": {
          "color": "#FECB52",
          "pattern": {
           "shape": ""
          }
         },
         "name": "GOOG",
         "orientation": "v",
         "showlegend": true,
         "textposition": "auto",
         "type": "bar",
         "x": [
          "GOOG"
         ],
         "xaxis": "x",
         "y": {
          "bdata": "f03ksdsuzz8=",
          "dtype": "f8"
         },
         "yaxis": "y"
        },
        {
         "hovertemplate": "symbol=%{x}<br>cagr=%{y}<extra></extra>",
         "legendgroup": "MSFT",
         "marker": {
          "color": "#636efa",
          "pattern": {
           "shape": ""
          }
         },
         "name": "MSFT",
         "orientation": "v",
         "showlegend": true,
         "textposition": "auto",
         "type": "bar",
         "x": [
          "MSFT"
         ],
         "xaxis": "x",
         "y": {
          "bdata": "6eMe6Z/4zj8=",
          "dtype": "f8"
         },
         "yaxis": "y"
        },
        {
         "hovertemplate": "symbol=%{x}<br>cagr=%{y}<extra></extra>",
         "legendgroup": "CTSH",
         "marker": {
          "color": "#EF553B",
          "pattern": {
           "shape": ""
          }
         },
         "name": "CTSH",
         "orientation": "v",
         "showlegend": true,
         "textposition": "auto",
         "type": "bar",
         "x": [
          "CTSH"
         ],
         "xaxis": "x",
         "y": {
          "bdata": "oJ8czaMozj8=",
          "dtype": "f8"
         },
         "yaxis": "y"
        },
        {
         "hovertemplate": "symbol=%{x}<br>cagr=%{y}<extra></extra>",
         "legendgroup": "ORLY",
         "marker": {
          "color": "#00cc96",
          "pattern": {
           "shape": ""
          }
         },
         "name": "ORLY",
         "orientation": "v",
         "showlegend": true,
         "textposition": "auto",
         "type": "bar",
         "x": [
          "ORLY"
         ],
         "xaxis": "x",
         "y": {
          "bdata": "5vblvB/xyz8=",
          "dtype": "f8"
         },
         "yaxis": "y"
        },
        {
         "hovertemplate": "symbol=%{x}<br>cagr=%{y}<extra></extra>",
         "legendgroup": "ASML",
         "marker": {
          "color": "#ab63fa",
          "pattern": {
           "shape": ""
          }
         },
         "name": "ASML",
         "orientation": "v",
         "showlegend": true,
         "textposition": "auto",
         "type": "bar",
         "x": [
          "ASML"
         ],
         "xaxis": "x",
         "y": {
          "bdata": "MQQKO6Flyz8=",
          "dtype": "f8"
         },
         "yaxis": "y"
        },
        {
         "hovertemplate": "symbol=%{x}<br>cagr=%{y}<extra></extra>",
         "legendgroup": "CSCO",
         "marker": {
          "color": "#FFA15A",
          "pattern": {
           "shape": ""
          }
         },
         "name": "CSCO",
         "orientation": "v",
         "showlegend": true,
         "textposition": "auto",
         "type": "bar",
         "x": [
          "CSCO"
         ],
         "xaxis": "x",
         "y": {
          "bdata": "jmGxYdnqyj8=",
          "dtype": "f8"
         },
         "yaxis": "y"
        },
        {
         "hovertemplate": "symbol=%{x}<br>cagr=%{y}<extra></extra>",
         "legendgroup": "IDXX",
         "marker": {
          "color": "#19d3f3",
          "pattern": {
           "shape": ""
          }
         },
         "name": "IDXX",
         "orientation": "v",
         "showlegend": true,
         "textposition": "auto",
         "type": "bar",
         "x": [
          "IDXX"
         ],
         "xaxis": "x",
         "y": {
          "bdata": "r5eaJDHKyj8=",
          "dtype": "f8"
         },
         "yaxis": "y"
        },
        {
         "hovertemplate": "symbol=%{x}<br>cagr=%{y}<extra></extra>",
         "legendgroup": "ADBE",
         "marker": {
          "color": "#FF6692",
          "pattern": {
           "shape": ""
          }
         },
         "name": "ADBE",
         "orientation": "v",
         "showlegend": true,
         "textposition": "auto",
         "type": "bar",
         "x": [
          "ADBE"
         ],
         "xaxis": "x",
         "y": {
          "bdata": "L3JcYLyzyj8=",
          "dtype": "f8"
         },
         "yaxis": "y"
        },
        {
         "hovertemplate": "symbol=%{x}<br>cagr=%{y}<extra></extra>",
         "legendgroup": "FAST",
         "marker": {
          "color": "#B6E880",
          "pattern": {
           "shape": ""
          }
         },
         "name": "FAST",
         "orientation": "v",
         "showlegend": true,
         "textposition": "auto",
         "type": "bar",
         "x": [
          "FAST"
         ],
         "xaxis": "x",
         "y": {
          "bdata": "b4VmTsacyj8=",
          "dtype": "f8"
         },
         "yaxis": "y"
        }
       ],
       "layout": {
        "barmode": "relative",
        "legend": {
         "title": {
          "text": "symbol"
         },
         "tracegroupgap": 0
        },
        "template": {
         "data": {
          "bar": [
           {
            "error_x": {
             "color": "#2a3f5f"
            },
            "error_y": {
             "color": "#2a3f5f"
            },
            "marker": {
             "line": {
              "color": "#E5ECF6",
              "width": 0.5
             },
             "pattern": {
              "fillmode": "overlay",
              "size": 10,
              "solidity": 0.2
             }
            },
            "type": "bar"
           }
          ],
          "barpolar": [
           {
            "marker": {
             "line": {
              "color": "#E5ECF6",
              "width": 0.5
             },
             "pattern": {
              "fillmode": "overlay",
              "size": 10,
              "solidity": 0.2
             }
            },
            "type": "barpolar"
           }
          ],
          "carpet": [
           {
            "aaxis": {
             "endlinecolor": "#2a3f5f",
             "gridcolor": "white",
             "linecolor": "white",
             "minorgridcolor": "white",
             "startlinecolor": "#2a3f5f"
            },
            "baxis": {
             "endlinecolor": "#2a3f5f",
             "gridcolor": "white",
             "linecolor": "white",
             "minorgridcolor": "white",
             "startlinecolor": "#2a3f5f"
            },
            "type": "carpet"
           }
          ],
          "choropleth": [
           {
            "colorbar": {
             "outlinewidth": 0,
             "ticks": ""
            },
            "type": "choropleth"
           }
          ],
          "contour": [
           {
            "colorbar": {
             "outlinewidth": 0,
             "ticks": ""
            },
            "colorscale": [
             [
              0,
              "#0d0887"
             ],
             [
              0.1111111111111111,
              "#46039f"
             ],
             [
              0.2222222222222222,
              "#7201a8"
             ],
             [
              0.3333333333333333,
              "#9c179e"
             ],
             [
              0.4444444444444444,
              "#bd3786"
             ],
             [
              0.5555555555555556,
              "#d8576b"
             ],
             [
              0.6666666666666666,
              "#ed7953"
             ],
             [
              0.7777777777777778,
              "#fb9f3a"
             ],
             [
              0.8888888888888888,
              "#fdca26"
             ],
             [
              1,
              "#f0f921"
             ]
            ],
            "type": "contour"
           }
          ],
          "contourcarpet": [
           {
            "colorbar": {
             "outlinewidth": 0,
             "ticks": ""
            },
            "type": "contourcarpet"
           }
          ],
          "heatmap": [
           {
            "colorbar": {
             "outlinewidth": 0,
             "ticks": ""
            },
            "colorscale": [
             [
              0,
              "#0d0887"
             ],
             [
              0.1111111111111111,
              "#46039f"
             ],
             [
              0.2222222222222222,
              "#7201a8"
             ],
             [
              0.3333333333333333,
              "#9c179e"
             ],
             [
              0.4444444444444444,
              "#bd3786"
             ],
             [
              0.5555555555555556,
              "#d8576b"
             ],
             [
              0.6666666666666666,
              "#ed7953"
             ],
             [
              0.7777777777777778,
              "#fb9f3a"
             ],
             [
              0.8888888888888888,
              "#fdca26"
             ],
             [
              1,
              "#f0f921"
             ]
            ],
            "type": "heatmap"
           }
          ],
          "histogram": [
           {
            "marker": {
             "pattern": {
              "fillmode": "overlay",
              "size": 10,
              "solidity": 0.2
             }
            },
            "type": "histogram"
           }
          ],
          "histogram2d": [
           {
            "colorbar": {
             "outlinewidth": 0,
             "ticks": ""
            },
            "colorscale": [
             [
              0,
              "#0d0887"
             ],
             [
              0.1111111111111111,
              "#46039f"
             ],
             [
              0.2222222222222222,
              "#7201a8"
             ],
             [
              0.3333333333333333,
              "#9c179e"
             ],
             [
              0.4444444444444444,
              "#bd3786"
             ],
             [
              0.5555555555555556,
              "#d8576b"
             ],
             [
              0.6666666666666666,
              "#ed7953"
             ],
             [
              0.7777777777777778,
              "#fb9f3a"
             ],
             [
              0.8888888888888888,
              "#fdca26"
             ],
             [
              1,
              "#f0f921"
             ]
            ],
            "type": "histogram2d"
           }
          ],
          "histogram2dcontour": [
           {
            "colorbar": {
             "outlinewidth": 0,
             "ticks": ""
            },
            "colorscale": [
             [
              0,
              "#0d0887"
             ],
             [
              0.1111111111111111,
              "#46039f"
             ],
             [
              0.2222222222222222,
              "#7201a8"
             ],
             [
              0.3333333333333333,
              "#9c179e"
             ],
             [
              0.4444444444444444,
              "#bd3786"
             ],
             [
              0.5555555555555556,
              "#d8576b"
             ],
             [
              0.6666666666666666,
              "#ed7953"
             ],
             [
              0.7777777777777778,
              "#fb9f3a"
             ],
             [
              0.8888888888888888,
              "#fdca26"
             ],
             [
              1,
              "#f0f921"
             ]
            ],
            "type": "histogram2dcontour"
           }
          ],
          "mesh3d": [
           {
            "colorbar": {
             "outlinewidth": 0,
             "ticks": ""
            },
            "type": "mesh3d"
           }
          ],
          "parcoords": [
           {
            "line": {
             "colorbar": {
              "outlinewidth": 0,
              "ticks": ""
             }
            },
            "type": "parcoords"
           }
          ],
          "pie": [
           {
            "automargin": true,
            "type": "pie"
           }
          ],
          "scatter": [
           {
            "fillpattern": {
             "fillmode": "overlay",
             "size": 10,
             "solidity": 0.2
            },
            "type": "scatter"
           }
          ],
          "scatter3d": [
           {
            "line": {
             "colorbar": {
              "outlinewidth": 0,
              "ticks": ""
             }
            },
            "marker": {
             "colorbar": {
              "outlinewidth": 0,
              "ticks": ""
             }
            },
            "type": "scatter3d"
           }
          ],
          "scattercarpet": [
           {
            "marker": {
             "colorbar": {
              "outlinewidth": 0,
              "ticks": ""
             }
            },
            "type": "scattercarpet"
           }
          ],
          "scattergeo": [
           {
            "marker": {
             "colorbar": {
              "outlinewidth": 0,
              "ticks": ""
             }
            },
            "type": "scattergeo"
           }
          ],
          "scattergl": [
           {
            "marker": {
             "colorbar": {
              "outlinewidth": 0,
              "ticks": ""
             }
            },
            "type": "scattergl"
           }
          ],
          "scattermap": [
           {
            "marker": {
             "colorbar": {
              "outlinewidth": 0,
              "ticks": ""
             }
            },
            "type": "scattermap"
           }
          ],
          "scattermapbox": [
           {
            "marker": {
             "colorbar": {
              "outlinewidth": 0,
              "ticks": ""
             }
            },
            "type": "scattermapbox"
           }
          ],
          "scatterpolar": [
           {
            "marker": {
             "colorbar": {
              "outlinewidth": 0,
              "ticks": ""
             }
            },
            "type": "scatterpolar"
           }
          ],
          "scatterpolargl": [
           {
            "marker": {
             "colorbar": {
              "outlinewidth": 0,
              "ticks": ""
             }
            },
            "type": "scatterpolargl"
           }
          ],
          "scatterternary": [
           {
            "marker": {
             "colorbar": {
              "outlinewidth": 0,
              "ticks": ""
             }
            },
            "type": "scatterternary"
           }
          ],
          "surface": [
           {
            "colorbar": {
             "outlinewidth": 0,
             "ticks": ""
            },
            "colorscale": [
             [
              0,
              "#0d0887"
             ],
             [
              0.1111111111111111,
              "#46039f"
             ],
             [
              0.2222222222222222,
              "#7201a8"
             ],
             [
              0.3333333333333333,
              "#9c179e"
             ],
             [
              0.4444444444444444,
              "#bd3786"
             ],
             [
              0.5555555555555556,
              "#d8576b"
             ],
             [
              0.6666666666666666,
              "#ed7953"
             ],
             [
              0.7777777777777778,
              "#fb9f3a"
             ],
             [
              0.8888888888888888,
              "#fdca26"
             ],
             [
              1,
              "#f0f921"
             ]
            ],
            "type": "surface"
           }
          ],
          "table": [
           {
            "cells": {
             "fill": {
              "color": "#EBF0F8"
             },
             "line": {
              "color": "white"
             }
            },
            "header": {
             "fill": {
              "color": "#C8D4E3"
             },
             "line": {
              "color": "white"
             }
            },
            "type": "table"
           }
          ]
         },
         "layout": {
          "annotationdefaults": {
           "arrowcolor": "#2a3f5f",
           "arrowhead": 0,
           "arrowwidth": 1
          },
          "autotypenumbers": "strict",
          "coloraxis": {
           "colorbar": {
            "outlinewidth": 0,
            "ticks": ""
           }
          },
          "colorscale": {
           "diverging": [
            [
             0,
             "#8e0152"
            ],
            [
             0.1,
             "#c51b7d"
            ],
            [
             0.2,
             "#de77ae"
            ],
            [
             0.3,
             "#f1b6da"
            ],
            [
             0.4,
             "#fde0ef"
            ],
            [
             0.5,
             "#f7f7f7"
            ],
            [
             0.6,
             "#e6f5d0"
            ],
            [
             0.7,
             "#b8e186"
            ],
            [
             0.8,
             "#7fbc41"
            ],
            [
             0.9,
             "#4d9221"
            ],
            [
             1,
             "#276419"
            ]
           ],
           "sequential": [
            [
             0,
             "#0d0887"
            ],
            [
             0.1111111111111111,
             "#46039f"
            ],
            [
             0.2222222222222222,
             "#7201a8"
            ],
            [
             0.3333333333333333,
             "#9c179e"
            ],
            [
             0.4444444444444444,
             "#bd3786"
            ],
            [
             0.5555555555555556,
             "#d8576b"
            ],
            [
             0.6666666666666666,
             "#ed7953"
            ],
            [
             0.7777777777777778,
             "#fb9f3a"
            ],
            [
             0.8888888888888888,
             "#fdca26"
            ],
            [
             1,
             "#f0f921"
            ]
           ],
           "sequentialminus": [
            [
             0,
             "#0d0887"
            ],
            [
             0.1111111111111111,
             "#46039f"
            ],
            [
             0.2222222222222222,
             "#7201a8"
            ],
            [
             0.3333333333333333,
             "#9c179e"
            ],
            [
             0.4444444444444444,
             "#bd3786"
            ],
            [
             0.5555555555555556,
             "#d8576b"
            ],
            [
             0.6666666666666666,
             "#ed7953"
            ],
            [
             0.7777777777777778,
             "#fb9f3a"
            ],
            [
             0.8888888888888888,
             "#fdca26"
            ],
            [
             1,
             "#f0f921"
            ]
           ]
          },
          "colorway": [
           "#636efa",
           "#EF553B",
           "#00cc96",
           "#ab63fa",
           "#FFA15A",
           "#19d3f3",
           "#FF6692",
           "#B6E880",
           "#FF97FF",
           "#FECB52"
          ],
          "font": {
           "color": "#2a3f5f"
          },
          "geo": {
           "bgcolor": "white",
           "lakecolor": "white",
           "landcolor": "#E5ECF6",
           "showlakes": true,
           "showland": true,
           "subunitcolor": "white"
          },
          "hoverlabel": {
           "align": "left"
          },
          "hovermode": "closest",
          "mapbox": {
           "style": "light"
          },
          "paper_bgcolor": "white",
          "plot_bgcolor": "#E5ECF6",
          "polar": {
           "angularaxis": {
            "gridcolor": "white",
            "linecolor": "white",
            "ticks": ""
           },
           "bgcolor": "#E5ECF6",
           "radialaxis": {
            "gridcolor": "white",
            "linecolor": "white",
            "ticks": ""
           }
          },
          "scene": {
           "xaxis": {
            "backgroundcolor": "#E5ECF6",
            "gridcolor": "white",
            "gridwidth": 2,
            "linecolor": "white",
            "showbackground": true,
            "ticks": "",
            "zerolinecolor": "white"
           },
           "yaxis": {
            "backgroundcolor": "#E5ECF6",
            "gridcolor": "white",
            "gridwidth": 2,
            "linecolor": "white",
            "showbackground": true,
            "ticks": "",
            "zerolinecolor": "white"
           },
           "zaxis": {
            "backgroundcolor": "#E5ECF6",
            "gridcolor": "white",
            "gridwidth": 2,
            "linecolor": "white",
            "showbackground": true,
            "ticks": "",
            "zerolinecolor": "white"
           }
          },
          "shapedefaults": {
           "line": {
            "color": "#2a3f5f"
           }
          },
          "ternary": {
           "aaxis": {
            "gridcolor": "white",
            "linecolor": "white",
            "ticks": ""
           },
           "baxis": {
            "gridcolor": "white",
            "linecolor": "white",
            "ticks": ""
           },
           "bgcolor": "#E5ECF6",
           "caxis": {
            "gridcolor": "white",
            "linecolor": "white",
            "ticks": ""
           }
          },
          "title": {
           "x": 0.05
          },
          "xaxis": {
           "automargin": true,
           "gridcolor": "white",
           "linecolor": "white",
           "ticks": "",
           "title": {
            "standoff": 15
           },
           "zerolinecolor": "white",
           "zerolinewidth": 2
          },
          "yaxis": {
           "automargin": true,
           "gridcolor": "white",
           "linecolor": "white",
           "ticks": "",
           "title": {
            "standoff": 15
           },
           "zerolinecolor": "white",
           "zerolinewidth": 2
          }
         }
        },
        "title": {
         "text": "CAGR of US Stocks"
        },
        "xaxis": {
         "anchor": "y",
         "categoryarray": [
          "AVGO",
          "NVDA",
          "AXON",
          "NFLX",
          "AMZN",
          "FTNT",
          "MELI",
          "ISRG",
          "GOOGL",
          "GOOG",
          "MSFT",
          "CTSH",
          "ORLY",
          "ASML",
          "CSCO",
          "IDXX",
          "ADBE",
          "FAST"
         ],
         "categoryorder": "array",
         "domain": [
          0,
          1
         ],
         "title": {
          "text": "symbol"
         }
        },
        "yaxis": {
         "anchor": "x",
         "domain": [
          0,
          1
         ],
         "title": {
          "text": "cagr"
         }
        }
       }
      }
     },
     "metadata": {},
     "output_type": "display_data"
    }
   ],
   "source": [
    "# 棒グラフでデータを可視化 (CAGR(年平均成長率)が20以上のデータで上場年数が16年以上のデータ)\n",
    "fig = px.bar(df_cagr_filtered, x=\"symbol\", y=\"cagr\", color=\"symbol\", title=\"CAGR of US Stocks\")\n",
    "fig.show()"
   ]
  },
  {
   "cell_type": "code",
   "execution_count": 12,
   "id": "446fe98e-d5b0-4e22-902a-265426341f09",
   "metadata": {
    "tags": []
   },
   "outputs": [],
   "source": [
    "# 抽出したデータをExcelに出力\n",
    "df.to_excel(\"cagr_data.xlsx\", index=False)"
   ]
  },
  {
   "cell_type": "markdown",
   "id": "a51a3290-68e8-4dae-8c81-17f49d87abd1",
   "metadata": {},
   "source": [
    "# 機械学習で銘柄の年平均成長率を予測する"
   ]
  },
  {
   "cell_type": "code",
   "execution_count": 13,
   "id": "01cce25e-6d77-4670-92fb-b71ad5e4d6ef",
   "metadata": {
    "tags": []
   },
   "outputs": [],
   "source": [
    "# ライブラリをインポート\n",
    "from sklearn.ensemble import RandomForestRegressor, GradientBoostingRegressor\n",
    "from sklearn.linear_model import Ridge, LinearRegression\n",
    "from sklearn.preprocessing import StandardScaler\n",
    "from sklearn.model_selection import cross_val_score\n",
    "\n",
    "import plotly.graph_objects as go"
   ]
  },
  {
   "cell_type": "code",
   "execution_count": 14,
   "id": "de1c7ca8-5be9-4dc2-b088-6ae3353794ac",
   "metadata": {},
   "outputs": [],
   "source": [
    "# 将来のCAGRを予測する関数\n",
    "def predict_future_cagr(df, years_ahead=5):\n",
    "    \"\"\"\n",
    "    複数モデルのアンサンブル + クロスバリデーション\n",
    "    \"\"\"\n",
    "    # 特徴量エンジニアリング\n",
    "    X = pd.DataFrame({\n",
    "        \"years_listed\": df[\"years_listed\"],\n",
    "        \"cagr\": df[\"cagr\"],\n",
    "        \"price_ratio\": df[\"current_close_price\"] / df[\"initial_close_price\"],\n",
    "        \"log_price_ratio\": np.log(df[\"current_close_price\"] / df[\"initial_close_price\"]),\n",
    "        \"annual_return\": np.log(df[\"current_close_price\"] / df[\"initial_close_price\"]) / df[\"years_listed\"],\n",
    "        \"volume_normalized\": np.log1p(df[\"current_volume\"]),\n",
    "        \"maturity\": df[\"years_listed\"] / (df[\"years_listed\"].max() + 1),\n",
    "        \"cagr_squared\": df[\"cagr\"] ** 2,\n",
    "        \"cagr_years\": df[\"cagr\"] * df[\"years_listed\"]\n",
    "    })\n",
    "    \n",
    "    # ターゲット: 減衰モデル\n",
    "    decay = 1 - (df[\"years_listed\"] / (df[\"years_listed\"] + years_ahead * 2))\n",
    "    y = df[\"cagr\"] * (1 - decay * 0.4)\n",
    "    \n",
    "    # 標準化\n",
    "    scaler = StandardScaler()\n",
    "    X_scaled = scaler.fit_transform(X)\n",
    "    \n",
    "    # 複数モデルを訓練\n",
    "    models = {\n",
    "        \"rf\": RandomForestRegressor(n_estimators=100, max_depth=10, random_state=42),\n",
    "        \"gb\": GradientBoostingRegressor(n_estimators=100, max_depth=5, random_state=42),\n",
    "        \"ridge\": Ridge(alpha=1.0)\n",
    "    }\n",
    "    \n",
    "    predictions_dict = {}\n",
    "    \n",
    "    for name, model in models.items():\n",
    "        model.fit(X_scaled, y)\n",
    "        predictions_dict[name] = model.predict(X_scaled)\n",
    "        \n",
    "        # クロスバリデーションスコア\n",
    "        cv_score = cross_val_score(model, X_scaled, y, cv=5, scoring=\"r2\").mean()\n",
    "        print(f\"{name} CV R² Score: {cv_score:.3f}\")\n",
    "    \n",
    "    # アンサンブル予測(加重平均)\n",
    "    ensemble_pred = (\n",
    "        predictions_dict[\"rf\"] * 0.5 +      # Random Forestを重視\n",
    "        predictions_dict[\"gb\"] * 0.3 +       # Gradient Boosting\n",
    "        predictions_dict[\"ridge\"] * 0.2      # Ridge回帰\n",
    "    )\n",
    "    \n",
    "    # 異常値を補正\n",
    "    ensemble_pred = np.clip(ensemble_pred, -0.5, 1.0)\n",
    "    \n",
    "    df[\"predicted_cagr\"] = ensemble_pred\n",
    "    \n",
    "    # 特徴量の重要度を表示(Random Forest)\n",
    "    feature_importance = pd.DataFrame({\n",
    "        \"feature\": X.columns,\n",
    "        \"importance\": models[\"rf\"].feature_importances_\n",
    "    }).sort_values(\"importance\", ascending=False)\n",
    "    \n",
    "    print(\"\\n特徴量の重要度:\")\n",
    "    print(feature_importance)\n",
    "    \n",
    "    return df"
   ]
  },
  {
   "cell_type": "code",
   "execution_count": 15,
   "id": "f27f9bdd-555c-499d-bf80-f374e52c5031",
   "metadata": {
    "tags": []
   },
   "outputs": [],
   "source": [
    "# データフレームを作成\n",
    "df_cagr = pd.read_excel(\"cagr_data.xlsx\")"
   ]
  },
  {
   "cell_type": "code",
   "execution_count": 16,
   "id": "0f94aeb7-3460-4791-ac98-cdca3853505c",
   "metadata": {
    "tags": []
   },
   "outputs": [
    {
     "data": {
      "text/html": [
       "<div>\n",
       "<style scoped>\n",
       "    .dataframe tbody tr th:only-of-type {\n",
       "        vertical-align: middle;\n",
       "    }\n",
       "\n",
       "    .dataframe tbody tr th {\n",
       "        vertical-align: top;\n",
       "    }\n",
       "\n",
       "    .dataframe thead th {\n",
       "        text-align: right;\n",
       "    }\n",
       "</style>\n",
       "<table border=\"1\" class=\"dataframe\">\n",
       "  <thead>\n",
       "    <tr style=\"text-align: right;\">\n",
       "      <th></th>\n",
       "      <th>symbol</th>\n",
       "      <th>start_date</th>\n",
       "      <th>current_date</th>\n",
       "      <th>years_listed</th>\n",
       "      <th>initial_close_price</th>\n",
       "      <th>current_close_price</th>\n",
       "      <th>current_volume</th>\n",
       "      <th>cagr</th>\n",
       "    </tr>\n",
       "  </thead>\n",
       "  <tbody>\n",
       "    <tr>\n",
       "      <th>0</th>\n",
       "      <td>ADBE</td>\n",
       "      <td>1986-08-13</td>\n",
       "      <td>2025-10-24</td>\n",
       "      <td>39.224658</td>\n",
       "      <td>0.210938</td>\n",
       "      <td>356.290009</td>\n",
       "      <td>412902</td>\n",
       "      <td>20.861010</td>\n",
       "    </tr>\n",
       "    <tr>\n",
       "      <th>1</th>\n",
       "      <td>AMD</td>\n",
       "      <td>1980-03-17</td>\n",
       "      <td>2025-10-24</td>\n",
       "      <td>45.635616</td>\n",
       "      <td>3.145833</td>\n",
       "      <td>249.960007</td>\n",
       "      <td>23900332</td>\n",
       "      <td>10.061925</td>\n",
       "    </tr>\n",
       "    <tr>\n",
       "      <th>2</th>\n",
       "      <td>ABNB</td>\n",
       "      <td>2020-12-10</td>\n",
       "      <td>2025-10-24</td>\n",
       "      <td>4.873973</td>\n",
       "      <td>144.710007</td>\n",
       "      <td>128.035004</td>\n",
       "      <td>524039</td>\n",
       "      <td>-2.480590</td>\n",
       "    </tr>\n",
       "    <tr>\n",
       "      <th>3</th>\n",
       "      <td>GOOGL</td>\n",
       "      <td>2004-08-19</td>\n",
       "      <td>2025-10-24</td>\n",
       "      <td>21.194521</td>\n",
       "      <td>2.511011</td>\n",
       "      <td>260.214996</td>\n",
       "      <td>7965603</td>\n",
       "      <td>24.478563</td>\n",
       "    </tr>\n",
       "    <tr>\n",
       "      <th>4</th>\n",
       "      <td>GOOG</td>\n",
       "      <td>2004-08-19</td>\n",
       "      <td>2025-10-23</td>\n",
       "      <td>21.191781</td>\n",
       "      <td>2.499133</td>\n",
       "      <td>253.729996</td>\n",
       "      <td>13186600</td>\n",
       "      <td>24.361750</td>\n",
       "    </tr>\n",
       "    <tr>\n",
       "      <th>...</th>\n",
       "      <td>...</td>\n",
       "      <td>...</td>\n",
       "      <td>...</td>\n",
       "      <td>...</td>\n",
       "      <td>...</td>\n",
       "      <td>...</td>\n",
       "      <td>...</td>\n",
       "      <td>...</td>\n",
       "    </tr>\n",
       "    <tr>\n",
       "      <th>96</th>\n",
       "      <td>VRTX</td>\n",
       "      <td>1991-07-24</td>\n",
       "      <td>2025-10-24</td>\n",
       "      <td>34.276712</td>\n",
       "      <td>4.500000</td>\n",
       "      <td>424.579987</td>\n",
       "      <td>94438</td>\n",
       "      <td>14.185751</td>\n",
       "    </tr>\n",
       "    <tr>\n",
       "      <th>97</th>\n",
       "      <td>WBD</td>\n",
       "      <td>2005-07-08</td>\n",
       "      <td>2025-10-24</td>\n",
       "      <td>20.309589</td>\n",
       "      <td>7.094455</td>\n",
       "      <td>21.204100</td>\n",
       "      <td>7619002</td>\n",
       "      <td>5.538915</td>\n",
       "    </tr>\n",
       "    <tr>\n",
       "      <th>98</th>\n",
       "      <td>WDAY</td>\n",
       "      <td>2012-10-12</td>\n",
       "      <td>2025-10-24</td>\n",
       "      <td>13.041096</td>\n",
       "      <td>48.689999</td>\n",
       "      <td>246.520004</td>\n",
       "      <td>107372</td>\n",
       "      <td>13.243900</td>\n",
       "    </tr>\n",
       "    <tr>\n",
       "      <th>99</th>\n",
       "      <td>XEL</td>\n",
       "      <td>1973-02-21</td>\n",
       "      <td>2025-10-24</td>\n",
       "      <td>52.706849</td>\n",
       "      <td>7.250000</td>\n",
       "      <td>80.769997</td>\n",
       "      <td>307120</td>\n",
       "      <td>4.679809</td>\n",
       "    </tr>\n",
       "    <tr>\n",
       "      <th>100</th>\n",
       "      <td>ZS</td>\n",
       "      <td>2018-03-16</td>\n",
       "      <td>2025-10-24</td>\n",
       "      <td>7.613699</td>\n",
       "      <td>33.000000</td>\n",
       "      <td>325.440002</td>\n",
       "      <td>357149</td>\n",
       "      <td>35.066768</td>\n",
       "    </tr>\n",
       "  </tbody>\n",
       "</table>\n",
       "<p>101 rows × 8 columns</p>\n",
       "</div>"
      ],
      "text/plain": [
       "    symbol  start_date current_date  years_listed  initial_close_price  \\\n",
       "0     ADBE  1986-08-13   2025-10-24     39.224658             0.210938   \n",
       "1      AMD  1980-03-17   2025-10-24     45.635616             3.145833   \n",
       "2     ABNB  2020-12-10   2025-10-24      4.873973           144.710007   \n",
       "3    GOOGL  2004-08-19   2025-10-24     21.194521             2.511011   \n",
       "4     GOOG  2004-08-19   2025-10-23     21.191781             2.499133   \n",
       "..     ...         ...          ...           ...                  ...   \n",
       "96    VRTX  1991-07-24   2025-10-24     34.276712             4.500000   \n",
       "97     WBD  2005-07-08   2025-10-24     20.309589             7.094455   \n",
       "98    WDAY  2012-10-12   2025-10-24     13.041096            48.689999   \n",
       "99     XEL  1973-02-21   2025-10-24     52.706849             7.250000   \n",
       "100     ZS  2018-03-16   2025-10-24      7.613699            33.000000   \n",
       "\n",
       "     current_close_price  current_volume       cagr  \n",
       "0             356.290009          412902  20.861010  \n",
       "1             249.960007        23900332  10.061925  \n",
       "2             128.035004          524039  -2.480590  \n",
       "3             260.214996         7965603  24.478563  \n",
       "4             253.729996        13186600  24.361750  \n",
       "..                   ...             ...        ...  \n",
       "96            424.579987           94438  14.185751  \n",
       "97             21.204100         7619002   5.538915  \n",
       "98            246.520004          107372  13.243900  \n",
       "99             80.769997          307120   4.679809  \n",
       "100           325.440002          357149  35.066768  \n",
       "\n",
       "[101 rows x 8 columns]"
      ]
     },
     "metadata": {},
     "output_type": "display_data"
    }
   ],
   "source": [
    "# データフレームを表示\n",
    "display(df_cagr)"
   ]
  },
  {
   "cell_type": "code",
   "execution_count": 17,
   "id": "a301aec7-e58f-448f-9326-dfd5baeb8611",
   "metadata": {
    "tags": []
   },
   "outputs": [],
   "source": [
    "# cagrのカラムを小数点で表示\n",
    "df_cagr[\"cagr\"] = df_cagr[\"cagr\"] / 100"
   ]
  },
  {
   "cell_type": "code",
   "execution_count": 18,
   "id": "2a6c51cc-6627-463f-b3b9-01d119f435ad",
   "metadata": {
    "tags": []
   },
   "outputs": [],
   "source": [
    "# years_listedのカラムを整数に変換\n",
    "df_cagr[\"years_listed\"] = df_cagr[\"years_listed\"].round(0).astype(int)"
   ]
  },
  {
   "cell_type": "code",
   "execution_count": 19,
   "id": "664cde14-5a4b-45da-93e9-612f836ea719",
   "metadata": {
    "tags": []
   },
   "outputs": [
    {
     "data": {
      "text/html": [
       "<div>\n",
       "<style scoped>\n",
       "    .dataframe tbody tr th:only-of-type {\n",
       "        vertical-align: middle;\n",
       "    }\n",
       "\n",
       "    .dataframe tbody tr th {\n",
       "        vertical-align: top;\n",
       "    }\n",
       "\n",
       "    .dataframe thead th {\n",
       "        text-align: right;\n",
       "    }\n",
       "</style>\n",
       "<table border=\"1\" class=\"dataframe\">\n",
       "  <thead>\n",
       "    <tr style=\"text-align: right;\">\n",
       "      <th></th>\n",
       "      <th>symbol</th>\n",
       "      <th>start_date</th>\n",
       "      <th>current_date</th>\n",
       "      <th>years_listed</th>\n",
       "      <th>initial_close_price</th>\n",
       "      <th>current_close_price</th>\n",
       "      <th>current_volume</th>\n",
       "      <th>cagr</th>\n",
       "    </tr>\n",
       "  </thead>\n",
       "  <tbody>\n",
       "    <tr>\n",
       "      <th>0</th>\n",
       "      <td>ADBE</td>\n",
       "      <td>1986-08-13</td>\n",
       "      <td>2025-10-24</td>\n",
       "      <td>39</td>\n",
       "      <td>0.210938</td>\n",
       "      <td>356.290009</td>\n",
       "      <td>412902</td>\n",
       "      <td>0.208610</td>\n",
       "    </tr>\n",
       "    <tr>\n",
       "      <th>1</th>\n",
       "      <td>AMD</td>\n",
       "      <td>1980-03-17</td>\n",
       "      <td>2025-10-24</td>\n",
       "      <td>46</td>\n",
       "      <td>3.145833</td>\n",
       "      <td>249.960007</td>\n",
       "      <td>23900332</td>\n",
       "      <td>0.100619</td>\n",
       "    </tr>\n",
       "    <tr>\n",
       "      <th>2</th>\n",
       "      <td>ABNB</td>\n",
       "      <td>2020-12-10</td>\n",
       "      <td>2025-10-24</td>\n",
       "      <td>5</td>\n",
       "      <td>144.710007</td>\n",
       "      <td>128.035004</td>\n",
       "      <td>524039</td>\n",
       "      <td>-0.024806</td>\n",
       "    </tr>\n",
       "    <tr>\n",
       "      <th>3</th>\n",
       "      <td>GOOGL</td>\n",
       "      <td>2004-08-19</td>\n",
       "      <td>2025-10-24</td>\n",
       "      <td>21</td>\n",
       "      <td>2.511011</td>\n",
       "      <td>260.214996</td>\n",
       "      <td>7965603</td>\n",
       "      <td>0.244786</td>\n",
       "    </tr>\n",
       "    <tr>\n",
       "      <th>4</th>\n",
       "      <td>GOOG</td>\n",
       "      <td>2004-08-19</td>\n",
       "      <td>2025-10-23</td>\n",
       "      <td>21</td>\n",
       "      <td>2.499133</td>\n",
       "      <td>253.729996</td>\n",
       "      <td>13186600</td>\n",
       "      <td>0.243617</td>\n",
       "    </tr>\n",
       "    <tr>\n",
       "      <th>...</th>\n",
       "      <td>...</td>\n",
       "      <td>...</td>\n",
       "      <td>...</td>\n",
       "      <td>...</td>\n",
       "      <td>...</td>\n",
       "      <td>...</td>\n",
       "      <td>...</td>\n",
       "      <td>...</td>\n",
       "    </tr>\n",
       "    <tr>\n",
       "      <th>96</th>\n",
       "      <td>VRTX</td>\n",
       "      <td>1991-07-24</td>\n",
       "      <td>2025-10-24</td>\n",
       "      <td>34</td>\n",
       "      <td>4.500000</td>\n",
       "      <td>424.579987</td>\n",
       "      <td>94438</td>\n",
       "      <td>0.141858</td>\n",
       "    </tr>\n",
       "    <tr>\n",
       "      <th>97</th>\n",
       "      <td>WBD</td>\n",
       "      <td>2005-07-08</td>\n",
       "      <td>2025-10-24</td>\n",
       "      <td>20</td>\n",
       "      <td>7.094455</td>\n",
       "      <td>21.204100</td>\n",
       "      <td>7619002</td>\n",
       "      <td>0.055389</td>\n",
       "    </tr>\n",
       "    <tr>\n",
       "      <th>98</th>\n",
       "      <td>WDAY</td>\n",
       "      <td>2012-10-12</td>\n",
       "      <td>2025-10-24</td>\n",
       "      <td>13</td>\n",
       "      <td>48.689999</td>\n",
       "      <td>246.520004</td>\n",
       "      <td>107372</td>\n",
       "      <td>0.132439</td>\n",
       "    </tr>\n",
       "    <tr>\n",
       "      <th>99</th>\n",
       "      <td>XEL</td>\n",
       "      <td>1973-02-21</td>\n",
       "      <td>2025-10-24</td>\n",
       "      <td>53</td>\n",
       "      <td>7.250000</td>\n",
       "      <td>80.769997</td>\n",
       "      <td>307120</td>\n",
       "      <td>0.046798</td>\n",
       "    </tr>\n",
       "    <tr>\n",
       "      <th>100</th>\n",
       "      <td>ZS</td>\n",
       "      <td>2018-03-16</td>\n",
       "      <td>2025-10-24</td>\n",
       "      <td>8</td>\n",
       "      <td>33.000000</td>\n",
       "      <td>325.440002</td>\n",
       "      <td>357149</td>\n",
       "      <td>0.350668</td>\n",
       "    </tr>\n",
       "  </tbody>\n",
       "</table>\n",
       "<p>101 rows × 8 columns</p>\n",
       "</div>"
      ],
      "text/plain": [
       "    symbol  start_date current_date  years_listed  initial_close_price  \\\n",
       "0     ADBE  1986-08-13   2025-10-24            39             0.210938   \n",
       "1      AMD  1980-03-17   2025-10-24            46             3.145833   \n",
       "2     ABNB  2020-12-10   2025-10-24             5           144.710007   \n",
       "3    GOOGL  2004-08-19   2025-10-24            21             2.511011   \n",
       "4     GOOG  2004-08-19   2025-10-23            21             2.499133   \n",
       "..     ...         ...          ...           ...                  ...   \n",
       "96    VRTX  1991-07-24   2025-10-24            34             4.500000   \n",
       "97     WBD  2005-07-08   2025-10-24            20             7.094455   \n",
       "98    WDAY  2012-10-12   2025-10-24            13            48.689999   \n",
       "99     XEL  1973-02-21   2025-10-24            53             7.250000   \n",
       "100     ZS  2018-03-16   2025-10-24             8            33.000000   \n",
       "\n",
       "     current_close_price  current_volume      cagr  \n",
       "0             356.290009          412902  0.208610  \n",
       "1             249.960007        23900332  0.100619  \n",
       "2             128.035004          524039 -0.024806  \n",
       "3             260.214996         7965603  0.244786  \n",
       "4             253.729996        13186600  0.243617  \n",
       "..                   ...             ...       ...  \n",
       "96            424.579987           94438  0.141858  \n",
       "97             21.204100         7619002  0.055389  \n",
       "98            246.520004          107372  0.132439  \n",
       "99             80.769997          307120  0.046798  \n",
       "100           325.440002          357149  0.350668  \n",
       "\n",
       "[101 rows x 8 columns]"
      ]
     },
     "metadata": {},
     "output_type": "display_data"
    }
   ],
   "source": [
    "# データフレームを確認\n",
    "display(df_cagr)"
   ]
  },
  {
   "cell_type": "code",
   "execution_count": 20,
   "id": "be86dfab-17b1-46e6-bf27-8438b8acc44b",
   "metadata": {
    "tags": []
   },
   "outputs": [
    {
     "data": {
      "text/html": [
       "<div>\n",
       "<style scoped>\n",
       "    .dataframe tbody tr th:only-of-type {\n",
       "        vertical-align: middle;\n",
       "    }\n",
       "\n",
       "    .dataframe tbody tr th {\n",
       "        vertical-align: top;\n",
       "    }\n",
       "\n",
       "    .dataframe thead th {\n",
       "        text-align: right;\n",
       "    }\n",
       "</style>\n",
       "<table border=\"1\" class=\"dataframe\">\n",
       "  <thead>\n",
       "    <tr style=\"text-align: right;\">\n",
       "      <th></th>\n",
       "      <th>symbol</th>\n",
       "      <th>start_date</th>\n",
       "      <th>current_date</th>\n",
       "      <th>years_listed</th>\n",
       "      <th>initial_close_price</th>\n",
       "      <th>current_close_price</th>\n",
       "      <th>current_volume</th>\n",
       "      <th>cagr</th>\n",
       "    </tr>\n",
       "  </thead>\n",
       "  <tbody>\n",
       "  </tbody>\n",
       "</table>\n",
       "</div>"
      ],
      "text/plain": [
       "Empty DataFrame\n",
       "Columns: [symbol, start_date, current_date, years_listed, initial_close_price, current_close_price, current_volume, cagr]\n",
       "Index: []"
      ]
     },
     "execution_count": 20,
     "metadata": {},
     "output_type": "execute_result"
    }
   ],
   "source": [
    "# 「years_listed」のカラムが0のレコードを確認\n",
    "df_cagr[df_cagr[\"years_listed\"] == 0]"
   ]
  },
  {
   "cell_type": "code",
   "execution_count": 21,
   "id": "39f3e845-ec1b-4826-b813-9828e41afc32",
   "metadata": {},
   "outputs": [],
   "source": [
    "# 「years_listed」のカラムが0のレコードを除外する場合\n",
    "df_cagr = df_cagr[df_cagr[\"years_listed\"] != 0]"
   ]
  },
  {
   "cell_type": "code",
   "execution_count": 22,
   "id": "2c5eb6b9-aa2e-442a-8390-8f3838fddf76",
   "metadata": {
    "tags": []
   },
   "outputs": [],
   "source": [
    "# 日付列をdatetime型に変換\n",
    "df_cagr[\"start_date\"] = pd.to_datetime(df_cagr[\"start_date\"])\n",
    "df_cagr[\"current_date\"] = pd.to_datetime(df_cagr[\"current_date\"])"
   ]
  },
  {
   "cell_type": "code",
   "execution_count": 23,
   "id": "c1a986e5-c033-4c3f-9afa-3fe222af3b7b",
   "metadata": {
    "tags": []
   },
   "outputs": [
    {
     "name": "stdout",
     "output_type": "stream",
     "text": [
      "rf CV R² Score: 0.948\n",
      "gb CV R² Score: 0.955\n",
      "ridge CV R² Score: 0.995\n",
      "\n",
      "特徴量の重要度:\n",
      "             feature  importance\n",
      "1               cagr    0.339552\n",
      "4      annual_return    0.319610\n",
      "7       cagr_squared    0.315756\n",
      "6           maturity    0.006704\n",
      "2        price_ratio    0.005124\n",
      "0       years_listed    0.004859\n",
      "8         cagr_years    0.003312\n",
      "5  volume_normalized    0.002774\n",
      "3    log_price_ratio    0.002308\n"
     ]
    }
   ],
   "source": [
    "# モデル評価と特徴量の重要度\n",
    "df_cagr_prediction = predict_future_cagr(df_cagr)"
   ]
  },
  {
   "cell_type": "code",
   "execution_count": 24,
   "id": "7473c6de-9fa9-49bc-98c6-f644a2be75b6",
   "metadata": {},
   "outputs": [
    {
     "data": {
      "text/html": [
       "<div>\n",
       "<style scoped>\n",
       "    .dataframe tbody tr th:only-of-type {\n",
       "        vertical-align: middle;\n",
       "    }\n",
       "\n",
       "    .dataframe tbody tr th {\n",
       "        vertical-align: top;\n",
       "    }\n",
       "\n",
       "    .dataframe thead th {\n",
       "        text-align: right;\n",
       "    }\n",
       "</style>\n",
       "<table border=\"1\" class=\"dataframe\">\n",
       "  <thead>\n",
       "    <tr style=\"text-align: right;\">\n",
       "      <th></th>\n",
       "      <th>symbol</th>\n",
       "      <th>start_date</th>\n",
       "      <th>current_date</th>\n",
       "      <th>years_listed</th>\n",
       "      <th>initial_close_price</th>\n",
       "      <th>current_close_price</th>\n",
       "      <th>current_volume</th>\n",
       "      <th>cagr</th>\n",
       "      <th>predicted_cagr</th>\n",
       "    </tr>\n",
       "  </thead>\n",
       "  <tbody>\n",
       "    <tr>\n",
       "      <th>0</th>\n",
       "      <td>ADBE</td>\n",
       "      <td>1986-08-13</td>\n",
       "      <td>2025-10-24</td>\n",
       "      <td>39</td>\n",
       "      <td>0.210938</td>\n",
       "      <td>356.290009</td>\n",
       "      <td>412902</td>\n",
       "      <td>0.208610</td>\n",
       "      <td>0.192442</td>\n",
       "    </tr>\n",
       "    <tr>\n",
       "      <th>1</th>\n",
       "      <td>AMD</td>\n",
       "      <td>1980-03-17</td>\n",
       "      <td>2025-10-24</td>\n",
       "      <td>46</td>\n",
       "      <td>3.145833</td>\n",
       "      <td>249.960007</td>\n",
       "      <td>23900332</td>\n",
       "      <td>0.100619</td>\n",
       "      <td>0.094364</td>\n",
       "    </tr>\n",
       "    <tr>\n",
       "      <th>2</th>\n",
       "      <td>ABNB</td>\n",
       "      <td>2020-12-10</td>\n",
       "      <td>2025-10-24</td>\n",
       "      <td>5</td>\n",
       "      <td>144.710007</td>\n",
       "      <td>128.035004</td>\n",
       "      <td>524039</td>\n",
       "      <td>-0.024806</td>\n",
       "      <td>-0.015269</td>\n",
       "    </tr>\n",
       "    <tr>\n",
       "      <th>3</th>\n",
       "      <td>GOOGL</td>\n",
       "      <td>2004-08-19</td>\n",
       "      <td>2025-10-24</td>\n",
       "      <td>21</td>\n",
       "      <td>2.511011</td>\n",
       "      <td>260.214996</td>\n",
       "      <td>7965603</td>\n",
       "      <td>0.244786</td>\n",
       "      <td>0.212417</td>\n",
       "    </tr>\n",
       "    <tr>\n",
       "      <th>4</th>\n",
       "      <td>GOOG</td>\n",
       "      <td>2004-08-19</td>\n",
       "      <td>2025-10-23</td>\n",
       "      <td>21</td>\n",
       "      <td>2.499133</td>\n",
       "      <td>253.729996</td>\n",
       "      <td>13186600</td>\n",
       "      <td>0.243617</td>\n",
       "      <td>0.211831</td>\n",
       "    </tr>\n",
       "    <tr>\n",
       "      <th>...</th>\n",
       "      <td>...</td>\n",
       "      <td>...</td>\n",
       "      <td>...</td>\n",
       "      <td>...</td>\n",
       "      <td>...</td>\n",
       "      <td>...</td>\n",
       "      <td>...</td>\n",
       "      <td>...</td>\n",
       "      <td>...</td>\n",
       "    </tr>\n",
       "    <tr>\n",
       "      <th>96</th>\n",
       "      <td>VRTX</td>\n",
       "      <td>1991-07-24</td>\n",
       "      <td>2025-10-24</td>\n",
       "      <td>34</td>\n",
       "      <td>4.500000</td>\n",
       "      <td>424.579987</td>\n",
       "      <td>94438</td>\n",
       "      <td>0.141858</td>\n",
       "      <td>0.128446</td>\n",
       "    </tr>\n",
       "    <tr>\n",
       "      <th>97</th>\n",
       "      <td>WBD</td>\n",
       "      <td>2005-07-08</td>\n",
       "      <td>2025-10-24</td>\n",
       "      <td>20</td>\n",
       "      <td>7.094455</td>\n",
       "      <td>21.204100</td>\n",
       "      <td>7619002</td>\n",
       "      <td>0.055389</td>\n",
       "      <td>0.048246</td>\n",
       "    </tr>\n",
       "    <tr>\n",
       "      <th>98</th>\n",
       "      <td>WDAY</td>\n",
       "      <td>2012-10-12</td>\n",
       "      <td>2025-10-24</td>\n",
       "      <td>13</td>\n",
       "      <td>48.689999</td>\n",
       "      <td>246.520004</td>\n",
       "      <td>107372</td>\n",
       "      <td>0.132439</td>\n",
       "      <td>0.111497</td>\n",
       "    </tr>\n",
       "    <tr>\n",
       "      <th>99</th>\n",
       "      <td>XEL</td>\n",
       "      <td>1973-02-21</td>\n",
       "      <td>2025-10-24</td>\n",
       "      <td>53</td>\n",
       "      <td>7.250000</td>\n",
       "      <td>80.769997</td>\n",
       "      <td>307120</td>\n",
       "      <td>0.046798</td>\n",
       "      <td>0.042837</td>\n",
       "    </tr>\n",
       "    <tr>\n",
       "      <th>100</th>\n",
       "      <td>ZS</td>\n",
       "      <td>2018-03-16</td>\n",
       "      <td>2025-10-24</td>\n",
       "      <td>8</td>\n",
       "      <td>33.000000</td>\n",
       "      <td>325.440002</td>\n",
       "      <td>357149</td>\n",
       "      <td>0.350668</td>\n",
       "      <td>0.277136</td>\n",
       "    </tr>\n",
       "  </tbody>\n",
       "</table>\n",
       "<p>101 rows × 9 columns</p>\n",
       "</div>"
      ],
      "text/plain": [
       "    symbol start_date current_date  years_listed  initial_close_price  \\\n",
       "0     ADBE 1986-08-13   2025-10-24            39             0.210938   \n",
       "1      AMD 1980-03-17   2025-10-24            46             3.145833   \n",
       "2     ABNB 2020-12-10   2025-10-24             5           144.710007   \n",
       "3    GOOGL 2004-08-19   2025-10-24            21             2.511011   \n",
       "4     GOOG 2004-08-19   2025-10-23            21             2.499133   \n",
       "..     ...        ...          ...           ...                  ...   \n",
       "96    VRTX 1991-07-24   2025-10-24            34             4.500000   \n",
       "97     WBD 2005-07-08   2025-10-24            20             7.094455   \n",
       "98    WDAY 2012-10-12   2025-10-24            13            48.689999   \n",
       "99     XEL 1973-02-21   2025-10-24            53             7.250000   \n",
       "100     ZS 2018-03-16   2025-10-24             8            33.000000   \n",
       "\n",
       "     current_close_price  current_volume      cagr  predicted_cagr  \n",
       "0             356.290009          412902  0.208610        0.192442  \n",
       "1             249.960007        23900332  0.100619        0.094364  \n",
       "2             128.035004          524039 -0.024806       -0.015269  \n",
       "3             260.214996         7965603  0.244786        0.212417  \n",
       "4             253.729996        13186600  0.243617        0.211831  \n",
       "..                   ...             ...       ...             ...  \n",
       "96            424.579987           94438  0.141858        0.128446  \n",
       "97             21.204100         7619002  0.055389        0.048246  \n",
       "98            246.520004          107372  0.132439        0.111497  \n",
       "99             80.769997          307120  0.046798        0.042837  \n",
       "100           325.440002          357149  0.350668        0.277136  \n",
       "\n",
       "[101 rows x 9 columns]"
      ]
     },
     "metadata": {},
     "output_type": "display_data"
    }
   ],
   "source": [
    "# データフレームを確認\n",
    "display(df_cagr_prediction)"
   ]
  },
  {
   "cell_type": "code",
   "execution_count": 25,
   "id": "57f03890-e066-437a-a1fd-e6ad8e76e0d8",
   "metadata": {},
   "outputs": [
    {
     "data": {
      "text/html": [
       "<div>\n",
       "<style scoped>\n",
       "    .dataframe tbody tr th:only-of-type {\n",
       "        vertical-align: middle;\n",
       "    }\n",
       "\n",
       "    .dataframe tbody tr th {\n",
       "        vertical-align: top;\n",
       "    }\n",
       "\n",
       "    .dataframe thead th {\n",
       "        text-align: right;\n",
       "    }\n",
       "</style>\n",
       "<table border=\"1\" class=\"dataframe\">\n",
       "  <thead>\n",
       "    <tr style=\"text-align: right;\">\n",
       "      <th></th>\n",
       "      <th>symbol</th>\n",
       "      <th>start_date</th>\n",
       "      <th>current_date</th>\n",
       "      <th>years_listed</th>\n",
       "      <th>initial_close_price</th>\n",
       "      <th>current_close_price</th>\n",
       "      <th>current_volume</th>\n",
       "      <th>cagr</th>\n",
       "      <th>predicted_cagr</th>\n",
       "    </tr>\n",
       "  </thead>\n",
       "  <tbody>\n",
       "    <tr>\n",
       "      <th>22</th>\n",
       "      <td>AVGO</td>\n",
       "      <td>2009-08-06</td>\n",
       "      <td>2025-10-24</td>\n",
       "      <td>16</td>\n",
       "      <td>1.618000</td>\n",
       "      <td>353.209991</td>\n",
       "      <td>3338042</td>\n",
       "      <td>0.393613</td>\n",
       "      <td>0.328079</td>\n",
       "    </tr>\n",
       "    <tr>\n",
       "      <th>70</th>\n",
       "      <td>NVDA</td>\n",
       "      <td>1999-01-22</td>\n",
       "      <td>2025-10-24</td>\n",
       "      <td>27</td>\n",
       "      <td>0.041016</td>\n",
       "      <td>184.384995</td>\n",
       "      <td>34530377</td>\n",
       "      <td>0.369106</td>\n",
       "      <td>0.323773</td>\n",
       "    </tr>\n",
       "    <tr>\n",
       "      <th>18</th>\n",
       "      <td>AXON</td>\n",
       "      <td>2001-06-19</td>\n",
       "      <td>2025-10-24</td>\n",
       "      <td>24</td>\n",
       "      <td>0.460000</td>\n",
       "      <td>734.960022</td>\n",
       "      <td>49189</td>\n",
       "      <td>0.353578</td>\n",
       "      <td>0.307272</td>\n",
       "    </tr>\n",
       "    <tr>\n",
       "      <th>69</th>\n",
       "      <td>NFLX</td>\n",
       "      <td>2002-05-23</td>\n",
       "      <td>2025-10-24</td>\n",
       "      <td>23</td>\n",
       "      <td>1.196429</td>\n",
       "      <td>1110.310059</td>\n",
       "      <td>1653906</td>\n",
       "      <td>0.338478</td>\n",
       "      <td>0.294722</td>\n",
       "    </tr>\n",
       "    <tr>\n",
       "      <th>5</th>\n",
       "      <td>AMZN</td>\n",
       "      <td>1997-05-15</td>\n",
       "      <td>2025-10-24</td>\n",
       "      <td>28</td>\n",
       "      <td>0.097917</td>\n",
       "      <td>223.860001</td>\n",
       "      <td>9037802</td>\n",
       "      <td>0.312251</td>\n",
       "      <td>0.281257</td>\n",
       "    </tr>\n",
       "    <tr>\n",
       "      <th>44</th>\n",
       "      <td>FTNT</td>\n",
       "      <td>2009-11-18</td>\n",
       "      <td>2025-10-24</td>\n",
       "      <td>16</td>\n",
       "      <td>1.662000</td>\n",
       "      <td>85.430000</td>\n",
       "      <td>425926</td>\n",
       "      <td>0.280331</td>\n",
       "      <td>0.232450</td>\n",
       "    </tr>\n",
       "    <tr>\n",
       "      <th>61</th>\n",
       "      <td>MELI</td>\n",
       "      <td>2007-08-10</td>\n",
       "      <td>2025-10-24</td>\n",
       "      <td>18</td>\n",
       "      <td>28.500000</td>\n",
       "      <td>2170.735107</td>\n",
       "      <td>57779</td>\n",
       "      <td>0.268483</td>\n",
       "      <td>0.226765</td>\n",
       "    </tr>\n",
       "    <tr>\n",
       "      <th>52</th>\n",
       "      <td>ISRG</td>\n",
       "      <td>2000-06-16</td>\n",
       "      <td>2025-10-24</td>\n",
       "      <td>25</td>\n",
       "      <td>2.027778</td>\n",
       "      <td>548.510010</td>\n",
       "      <td>742036</td>\n",
       "      <td>0.246975</td>\n",
       "      <td>0.215969</td>\n",
       "    </tr>\n",
       "    <tr>\n",
       "      <th>3</th>\n",
       "      <td>GOOGL</td>\n",
       "      <td>2004-08-19</td>\n",
       "      <td>2025-10-24</td>\n",
       "      <td>21</td>\n",
       "      <td>2.511011</td>\n",
       "      <td>260.214996</td>\n",
       "      <td>7965603</td>\n",
       "      <td>0.244786</td>\n",
       "      <td>0.212417</td>\n",
       "    </tr>\n",
       "    <tr>\n",
       "      <th>4</th>\n",
       "      <td>GOOG</td>\n",
       "      <td>2004-08-19</td>\n",
       "      <td>2025-10-23</td>\n",
       "      <td>21</td>\n",
       "      <td>2.499133</td>\n",
       "      <td>253.729996</td>\n",
       "      <td>13186600</td>\n",
       "      <td>0.243617</td>\n",
       "      <td>0.211831</td>\n",
       "    </tr>\n",
       "    <tr>\n",
       "      <th>65</th>\n",
       "      <td>MSFT</td>\n",
       "      <td>1986-03-13</td>\n",
       "      <td>2025-10-24</td>\n",
       "      <td>40</td>\n",
       "      <td>0.097222</td>\n",
       "      <td>523.099976</td>\n",
       "      <td>3039806</td>\n",
       "      <td>0.241962</td>\n",
       "      <td>0.219622</td>\n",
       "    </tr>\n",
       "    <tr>\n",
       "      <th>29</th>\n",
       "      <td>CTSH</td>\n",
       "      <td>1998-06-19</td>\n",
       "      <td>2025-10-24</td>\n",
       "      <td>27</td>\n",
       "      <td>0.208333</td>\n",
       "      <td>68.129997</td>\n",
       "      <td>403122</td>\n",
       "      <td>0.235615</td>\n",
       "      <td>0.207588</td>\n",
       "    </tr>\n",
       "    <tr>\n",
       "      <th>72</th>\n",
       "      <td>ORLY</td>\n",
       "      <td>1993-04-23</td>\n",
       "      <td>2025-10-24</td>\n",
       "      <td>33</td>\n",
       "      <td>0.160417</td>\n",
       "      <td>98.730003</td>\n",
       "      <td>1058251</td>\n",
       "      <td>0.218296</td>\n",
       "      <td>0.197078</td>\n",
       "    </tr>\n",
       "    <tr>\n",
       "      <th>13</th>\n",
       "      <td>ASML</td>\n",
       "      <td>1995-03-15</td>\n",
       "      <td>2025-10-24</td>\n",
       "      <td>31</td>\n",
       "      <td>2.739448</td>\n",
       "      <td>1042.199951</td>\n",
       "      <td>252768</td>\n",
       "      <td>0.214039</td>\n",
       "      <td>0.193174</td>\n",
       "    </tr>\n",
       "    <tr>\n",
       "      <th>27</th>\n",
       "      <td>CSCO</td>\n",
       "      <td>1990-02-16</td>\n",
       "      <td>2025-10-24</td>\n",
       "      <td>36</td>\n",
       "      <td>0.077257</td>\n",
       "      <td>70.455002</td>\n",
       "      <td>2036403</td>\n",
       "      <td>0.210292</td>\n",
       "      <td>0.193470</td>\n",
       "    </tr>\n",
       "    <tr>\n",
       "      <th>49</th>\n",
       "      <td>IDXX</td>\n",
       "      <td>1991-06-21</td>\n",
       "      <td>2025-10-24</td>\n",
       "      <td>34</td>\n",
       "      <td>0.945313</td>\n",
       "      <td>648.599976</td>\n",
       "      <td>35221</td>\n",
       "      <td>0.209295</td>\n",
       "      <td>0.190955</td>\n",
       "    </tr>\n",
       "    <tr>\n",
       "      <th>0</th>\n",
       "      <td>ADBE</td>\n",
       "      <td>1986-08-13</td>\n",
       "      <td>2025-10-24</td>\n",
       "      <td>39</td>\n",
       "      <td>0.210938</td>\n",
       "      <td>356.290009</td>\n",
       "      <td>412902</td>\n",
       "      <td>0.208610</td>\n",
       "      <td>0.192442</td>\n",
       "    </tr>\n",
       "    <tr>\n",
       "      <th>43</th>\n",
       "      <td>FAST</td>\n",
       "      <td>1987-08-20</td>\n",
       "      <td>2025-10-24</td>\n",
       "      <td>38</td>\n",
       "      <td>0.031576</td>\n",
       "      <td>43.005001</td>\n",
       "      <td>522738</td>\n",
       "      <td>0.207909</td>\n",
       "      <td>0.191776</td>\n",
       "    </tr>\n",
       "  </tbody>\n",
       "</table>\n",
       "</div>"
      ],
      "text/plain": [
       "   symbol start_date current_date  years_listed  initial_close_price  \\\n",
       "22   AVGO 2009-08-06   2025-10-24            16             1.618000   \n",
       "70   NVDA 1999-01-22   2025-10-24            27             0.041016   \n",
       "18   AXON 2001-06-19   2025-10-24            24             0.460000   \n",
       "69   NFLX 2002-05-23   2025-10-24            23             1.196429   \n",
       "5    AMZN 1997-05-15   2025-10-24            28             0.097917   \n",
       "44   FTNT 2009-11-18   2025-10-24            16             1.662000   \n",
       "61   MELI 2007-08-10   2025-10-24            18            28.500000   \n",
       "52   ISRG 2000-06-16   2025-10-24            25             2.027778   \n",
       "3   GOOGL 2004-08-19   2025-10-24            21             2.511011   \n",
       "4    GOOG 2004-08-19   2025-10-23            21             2.499133   \n",
       "65   MSFT 1986-03-13   2025-10-24            40             0.097222   \n",
       "29   CTSH 1998-06-19   2025-10-24            27             0.208333   \n",
       "72   ORLY 1993-04-23   2025-10-24            33             0.160417   \n",
       "13   ASML 1995-03-15   2025-10-24            31             2.739448   \n",
       "27   CSCO 1990-02-16   2025-10-24            36             0.077257   \n",
       "49   IDXX 1991-06-21   2025-10-24            34             0.945313   \n",
       "0    ADBE 1986-08-13   2025-10-24            39             0.210938   \n",
       "43   FAST 1987-08-20   2025-10-24            38             0.031576   \n",
       "\n",
       "    current_close_price  current_volume      cagr  predicted_cagr  \n",
       "22           353.209991         3338042  0.393613        0.328079  \n",
       "70           184.384995        34530377  0.369106        0.323773  \n",
       "18           734.960022           49189  0.353578        0.307272  \n",
       "69          1110.310059         1653906  0.338478        0.294722  \n",
       "5            223.860001         9037802  0.312251        0.281257  \n",
       "44            85.430000          425926  0.280331        0.232450  \n",
       "61          2170.735107           57779  0.268483        0.226765  \n",
       "52           548.510010          742036  0.246975        0.215969  \n",
       "3            260.214996         7965603  0.244786        0.212417  \n",
       "4            253.729996        13186600  0.243617        0.211831  \n",
       "65           523.099976         3039806  0.241962        0.219622  \n",
       "29            68.129997          403122  0.235615        0.207588  \n",
       "72            98.730003         1058251  0.218296        0.197078  \n",
       "13          1042.199951          252768  0.214039        0.193174  \n",
       "27            70.455002         2036403  0.210292        0.193470  \n",
       "49           648.599976           35221  0.209295        0.190955  \n",
       "0            356.290009          412902  0.208610        0.192442  \n",
       "43            43.005001          522738  0.207909        0.191776  "
      ]
     },
     "metadata": {},
     "output_type": "display_data"
    }
   ],
   "source": [
    "# CAGR(年平均成長率)が20以上のデータで上場年数が16年以上のデータを絞りこみ\n",
    "df_cagr_filtered = df_cagr_prediction[(df_cagr_prediction[\"cagr\"] >= 0.2) & (df_cagr_prediction[\"years_listed\"] >= 16)].sort_values(by=\"cagr\", ascending=False)\n",
    "\n",
    "display(df_cagr_filtered)"
   ]
  },
  {
   "cell_type": "code",
   "execution_count": 26,
   "id": "77046ab1-9679-4609-8233-de8f86533849",
   "metadata": {
    "tags": []
   },
   "outputs": [],
   "source": [
    "# Figureを作成\n",
    "fig = go.Figure()"
   ]
  },
  {
   "cell_type": "code",
   "execution_count": 27,
   "id": "24cde180-72ba-4903-b3ed-870bd6b72aa0",
   "metadata": {
    "tags": []
   },
   "outputs": [
    {
     "data": {
      "application/vnd.plotly.v1+json": {
       "config": {
        "plotlyServerURL": "https://plot.ly"
       },
       "data": [
        {
         "marker": {
          "color": "skyblue"
         },
         "name": "Current CAGR",
         "type": "bar",
         "x": [
          "AVGO",
          "NVDA",
          "AXON",
          "NFLX",
          "AMZN",
          "FTNT",
          "MELI",
          "ISRG",
          "GOOGL",
          "GOOG",
          "MSFT",
          "CTSH",
          "ORLY",
          "ASML",
          "CSCO",
          "IDXX",
          "ADBE",
          "FAST"
         ],
         "y": {
          "bdata": "QFmeJvYw2T8NsFUibZ/XP1i89NADodY/7PvPj56p1T8BOb4/7PvTPz+eBNXv8NE/Y5rsqtMu0T+f/+br45zPP1q6Aa8iVc8/f03ksdsuzz/p4x7pn/jOP6CfHM2jKM4/5vblvB/xyz8xBAo7oWXLP45hsWHZ6so/r5eaJDHKyj8vclxgvLPKP2+FZk7GnMo/",
          "dtype": "f8"
         }
        }
       ],
       "layout": {
        "template": {
         "data": {
          "bar": [
           {
            "error_x": {
             "color": "#2a3f5f"
            },
            "error_y": {
             "color": "#2a3f5f"
            },
            "marker": {
             "line": {
              "color": "#E5ECF6",
              "width": 0.5
             },
             "pattern": {
              "fillmode": "overlay",
              "size": 10,
              "solidity": 0.2
             }
            },
            "type": "bar"
           }
          ],
          "barpolar": [
           {
            "marker": {
             "line": {
              "color": "#E5ECF6",
              "width": 0.5
             },
             "pattern": {
              "fillmode": "overlay",
              "size": 10,
              "solidity": 0.2
             }
            },
            "type": "barpolar"
           }
          ],
          "carpet": [
           {
            "aaxis": {
             "endlinecolor": "#2a3f5f",
             "gridcolor": "white",
             "linecolor": "white",
             "minorgridcolor": "white",
             "startlinecolor": "#2a3f5f"
            },
            "baxis": {
             "endlinecolor": "#2a3f5f",
             "gridcolor": "white",
             "linecolor": "white",
             "minorgridcolor": "white",
             "startlinecolor": "#2a3f5f"
            },
            "type": "carpet"
           }
          ],
          "choropleth": [
           {
            "colorbar": {
             "outlinewidth": 0,
             "ticks": ""
            },
            "type": "choropleth"
           }
          ],
          "contour": [
           {
            "colorbar": {
             "outlinewidth": 0,
             "ticks": ""
            },
            "colorscale": [
             [
              0,
              "#0d0887"
             ],
             [
              0.1111111111111111,
              "#46039f"
             ],
             [
              0.2222222222222222,
              "#7201a8"
             ],
             [
              0.3333333333333333,
              "#9c179e"
             ],
             [
              0.4444444444444444,
              "#bd3786"
             ],
             [
              0.5555555555555556,
              "#d8576b"
             ],
             [
              0.6666666666666666,
              "#ed7953"
             ],
             [
              0.7777777777777778,
              "#fb9f3a"
             ],
             [
              0.8888888888888888,
              "#fdca26"
             ],
             [
              1,
              "#f0f921"
             ]
            ],
            "type": "contour"
           }
          ],
          "contourcarpet": [
           {
            "colorbar": {
             "outlinewidth": 0,
             "ticks": ""
            },
            "type": "contourcarpet"
           }
          ],
          "heatmap": [
           {
            "colorbar": {
             "outlinewidth": 0,
             "ticks": ""
            },
            "colorscale": [
             [
              0,
              "#0d0887"
             ],
             [
              0.1111111111111111,
              "#46039f"
             ],
             [
              0.2222222222222222,
              "#7201a8"
             ],
             [
              0.3333333333333333,
              "#9c179e"
             ],
             [
              0.4444444444444444,
              "#bd3786"
             ],
             [
              0.5555555555555556,
              "#d8576b"
             ],
             [
              0.6666666666666666,
              "#ed7953"
             ],
             [
              0.7777777777777778,
              "#fb9f3a"
             ],
             [
              0.8888888888888888,
              "#fdca26"
             ],
             [
              1,
              "#f0f921"
             ]
            ],
            "type": "heatmap"
           }
          ],
          "histogram": [
           {
            "marker": {
             "pattern": {
              "fillmode": "overlay",
              "size": 10,
              "solidity": 0.2
             }
            },
            "type": "histogram"
           }
          ],
          "histogram2d": [
           {
            "colorbar": {
             "outlinewidth": 0,
             "ticks": ""
            },
            "colorscale": [
             [
              0,
              "#0d0887"
             ],
             [
              0.1111111111111111,
              "#46039f"
             ],
             [
              0.2222222222222222,
              "#7201a8"
             ],
             [
              0.3333333333333333,
              "#9c179e"
             ],
             [
              0.4444444444444444,
              "#bd3786"
             ],
             [
              0.5555555555555556,
              "#d8576b"
             ],
             [
              0.6666666666666666,
              "#ed7953"
             ],
             [
              0.7777777777777778,
              "#fb9f3a"
             ],
             [
              0.8888888888888888,
              "#fdca26"
             ],
             [
              1,
              "#f0f921"
             ]
            ],
            "type": "histogram2d"
           }
          ],
          "histogram2dcontour": [
           {
            "colorbar": {
             "outlinewidth": 0,
             "ticks": ""
            },
            "colorscale": [
             [
              0,
              "#0d0887"
             ],
             [
              0.1111111111111111,
              "#46039f"
             ],
             [
              0.2222222222222222,
              "#7201a8"
             ],
             [
              0.3333333333333333,
              "#9c179e"
             ],
             [
              0.4444444444444444,
              "#bd3786"
             ],
             [
              0.5555555555555556,
              "#d8576b"
             ],
             [
              0.6666666666666666,
              "#ed7953"
             ],
             [
              0.7777777777777778,
              "#fb9f3a"
             ],
             [
              0.8888888888888888,
              "#fdca26"
             ],
             [
              1,
              "#f0f921"
             ]
            ],
            "type": "histogram2dcontour"
           }
          ],
          "mesh3d": [
           {
            "colorbar": {
             "outlinewidth": 0,
             "ticks": ""
            },
            "type": "mesh3d"
           }
          ],
          "parcoords": [
           {
            "line": {
             "colorbar": {
              "outlinewidth": 0,
              "ticks": ""
             }
            },
            "type": "parcoords"
           }
          ],
          "pie": [
           {
            "automargin": true,
            "type": "pie"
           }
          ],
          "scatter": [
           {
            "fillpattern": {
             "fillmode": "overlay",
             "size": 10,
             "solidity": 0.2
            },
            "type": "scatter"
           }
          ],
          "scatter3d": [
           {
            "line": {
             "colorbar": {
              "outlinewidth": 0,
              "ticks": ""
             }
            },
            "marker": {
             "colorbar": {
              "outlinewidth": 0,
              "ticks": ""
             }
            },
            "type": "scatter3d"
           }
          ],
          "scattercarpet": [
           {
            "marker": {
             "colorbar": {
              "outlinewidth": 0,
              "ticks": ""
             }
            },
            "type": "scattercarpet"
           }
          ],
          "scattergeo": [
           {
            "marker": {
             "colorbar": {
              "outlinewidth": 0,
              "ticks": ""
             }
            },
            "type": "scattergeo"
           }
          ],
          "scattergl": [
           {
            "marker": {
             "colorbar": {
              "outlinewidth": 0,
              "ticks": ""
             }
            },
            "type": "scattergl"
           }
          ],
          "scattermap": [
           {
            "marker": {
             "colorbar": {
              "outlinewidth": 0,
              "ticks": ""
             }
            },
            "type": "scattermap"
           }
          ],
          "scattermapbox": [
           {
            "marker": {
             "colorbar": {
              "outlinewidth": 0,
              "ticks": ""
             }
            },
            "type": "scattermapbox"
           }
          ],
          "scatterpolar": [
           {
            "marker": {
             "colorbar": {
              "outlinewidth": 0,
              "ticks": ""
             }
            },
            "type": "scatterpolar"
           }
          ],
          "scatterpolargl": [
           {
            "marker": {
             "colorbar": {
              "outlinewidth": 0,
              "ticks": ""
             }
            },
            "type": "scatterpolargl"
           }
          ],
          "scatterternary": [
           {
            "marker": {
             "colorbar": {
              "outlinewidth": 0,
              "ticks": ""
             }
            },
            "type": "scatterternary"
           }
          ],
          "surface": [
           {
            "colorbar": {
             "outlinewidth": 0,
             "ticks": ""
            },
            "colorscale": [
             [
              0,
              "#0d0887"
             ],
             [
              0.1111111111111111,
              "#46039f"
             ],
             [
              0.2222222222222222,
              "#7201a8"
             ],
             [
              0.3333333333333333,
              "#9c179e"
             ],
             [
              0.4444444444444444,
              "#bd3786"
             ],
             [
              0.5555555555555556,
              "#d8576b"
             ],
             [
              0.6666666666666666,
              "#ed7953"
             ],
             [
              0.7777777777777778,
              "#fb9f3a"
             ],
             [
              0.8888888888888888,
              "#fdca26"
             ],
             [
              1,
              "#f0f921"
             ]
            ],
            "type": "surface"
           }
          ],
          "table": [
           {
            "cells": {
             "fill": {
              "color": "#EBF0F8"
             },
             "line": {
              "color": "white"
             }
            },
            "header": {
             "fill": {
              "color": "#C8D4E3"
             },
             "line": {
              "color": "white"
             }
            },
            "type": "table"
           }
          ]
         },
         "layout": {
          "annotationdefaults": {
           "arrowcolor": "#2a3f5f",
           "arrowhead": 0,
           "arrowwidth": 1
          },
          "autotypenumbers": "strict",
          "coloraxis": {
           "colorbar": {
            "outlinewidth": 0,
            "ticks": ""
           }
          },
          "colorscale": {
           "diverging": [
            [
             0,
             "#8e0152"
            ],
            [
             0.1,
             "#c51b7d"
            ],
            [
             0.2,
             "#de77ae"
            ],
            [
             0.3,
             "#f1b6da"
            ],
            [
             0.4,
             "#fde0ef"
            ],
            [
             0.5,
             "#f7f7f7"
            ],
            [
             0.6,
             "#e6f5d0"
            ],
            [
             0.7,
             "#b8e186"
            ],
            [
             0.8,
             "#7fbc41"
            ],
            [
             0.9,
             "#4d9221"
            ],
            [
             1,
             "#276419"
            ]
           ],
           "sequential": [
            [
             0,
             "#0d0887"
            ],
            [
             0.1111111111111111,
             "#46039f"
            ],
            [
             0.2222222222222222,
             "#7201a8"
            ],
            [
             0.3333333333333333,
             "#9c179e"
            ],
            [
             0.4444444444444444,
             "#bd3786"
            ],
            [
             0.5555555555555556,
             "#d8576b"
            ],
            [
             0.6666666666666666,
             "#ed7953"
            ],
            [
             0.7777777777777778,
             "#fb9f3a"
            ],
            [
             0.8888888888888888,
             "#fdca26"
            ],
            [
             1,
             "#f0f921"
            ]
           ],
           "sequentialminus": [
            [
             0,
             "#0d0887"
            ],
            [
             0.1111111111111111,
             "#46039f"
            ],
            [
             0.2222222222222222,
             "#7201a8"
            ],
            [
             0.3333333333333333,
             "#9c179e"
            ],
            [
             0.4444444444444444,
             "#bd3786"
            ],
            [
             0.5555555555555556,
             "#d8576b"
            ],
            [
             0.6666666666666666,
             "#ed7953"
            ],
            [
             0.7777777777777778,
             "#fb9f3a"
            ],
            [
             0.8888888888888888,
             "#fdca26"
            ],
            [
             1,
             "#f0f921"
            ]
           ]
          },
          "colorway": [
           "#636efa",
           "#EF553B",
           "#00cc96",
           "#ab63fa",
           "#FFA15A",
           "#19d3f3",
           "#FF6692",
           "#B6E880",
           "#FF97FF",
           "#FECB52"
          ],
          "font": {
           "color": "#2a3f5f"
          },
          "geo": {
           "bgcolor": "white",
           "lakecolor": "white",
           "landcolor": "#E5ECF6",
           "showlakes": true,
           "showland": true,
           "subunitcolor": "white"
          },
          "hoverlabel": {
           "align": "left"
          },
          "hovermode": "closest",
          "mapbox": {
           "style": "light"
          },
          "paper_bgcolor": "white",
          "plot_bgcolor": "#E5ECF6",
          "polar": {
           "angularaxis": {
            "gridcolor": "white",
            "linecolor": "white",
            "ticks": ""
           },
           "bgcolor": "#E5ECF6",
           "radialaxis": {
            "gridcolor": "white",
            "linecolor": "white",
            "ticks": ""
           }
          },
          "scene": {
           "xaxis": {
            "backgroundcolor": "#E5ECF6",
            "gridcolor": "white",
            "gridwidth": 2,
            "linecolor": "white",
            "showbackground": true,
            "ticks": "",
            "zerolinecolor": "white"
           },
           "yaxis": {
            "backgroundcolor": "#E5ECF6",
            "gridcolor": "white",
            "gridwidth": 2,
            "linecolor": "white",
            "showbackground": true,
            "ticks": "",
            "zerolinecolor": "white"
           },
           "zaxis": {
            "backgroundcolor": "#E5ECF6",
            "gridcolor": "white",
            "gridwidth": 2,
            "linecolor": "white",
            "showbackground": true,
            "ticks": "",
            "zerolinecolor": "white"
           }
          },
          "shapedefaults": {
           "line": {
            "color": "#2a3f5f"
           }
          },
          "ternary": {
           "aaxis": {
            "gridcolor": "white",
            "linecolor": "white",
            "ticks": ""
           },
           "baxis": {
            "gridcolor": "white",
            "linecolor": "white",
            "ticks": ""
           },
           "bgcolor": "#E5ECF6",
           "caxis": {
            "gridcolor": "white",
            "linecolor": "white",
            "ticks": ""
           }
          },
          "title": {
           "x": 0.05
          },
          "xaxis": {
           "automargin": true,
           "gridcolor": "white",
           "linecolor": "white",
           "ticks": "",
           "title": {
            "standoff": 15
           },
           "zerolinecolor": "white",
           "zerolinewidth": 2
          },
          "yaxis": {
           "automargin": true,
           "gridcolor": "white",
           "linecolor": "white",
           "ticks": "",
           "title": {
            "standoff": 15
           },
           "zerolinecolor": "white",
           "zerolinewidth": 2
          }
         }
        }
       }
      }
     },
     "metadata": {},
     "output_type": "display_data"
    }
   ],
   "source": [
    "# 棒グラフを追加\n",
    "fig.add_trace(go.Bar(\n",
    "    x=df_cagr_filtered[\"symbol\"],\n",
    "    y=df_cagr_filtered[\"cagr\"],\n",
    "    name=\"Current CAGR\",\n",
    "    marker_color=\"skyblue\"\n",
    "))"
   ]
  },
  {
   "cell_type": "code",
   "execution_count": 28,
   "id": "57f19805-8d0b-448f-ba2f-8f11c809aa88",
   "metadata": {
    "tags": []
   },
   "outputs": [
    {
     "data": {
      "application/vnd.plotly.v1+json": {
       "config": {
        "plotlyServerURL": "https://plot.ly"
       },
       "data": [
        {
         "marker": {
          "color": "skyblue"
         },
         "name": "Current CAGR",
         "type": "bar",
         "x": [
          "AVGO",
          "NVDA",
          "AXON",
          "NFLX",
          "AMZN",
          "FTNT",
          "MELI",
          "ISRG",
          "GOOGL",
          "GOOG",
          "MSFT",
          "CTSH",
          "ORLY",
          "ASML",
          "CSCO",
          "IDXX",
          "ADBE",
          "FAST"
         ],
         "y": {
          "bdata": "QFmeJvYw2T8NsFUibZ/XP1i89NADodY/7PvPj56p1T8BOb4/7PvTPz+eBNXv8NE/Y5rsqtMu0T+f/+br45zPP1q6Aa8iVc8/f03ksdsuzz/p4x7pn/jOP6CfHM2jKM4/5vblvB/xyz8xBAo7oWXLP45hsWHZ6so/r5eaJDHKyj8vclxgvLPKP2+FZk7GnMo/",
          "dtype": "f8"
         }
        },
        {
         "line": {
          "color": "orange",
          "width": 2
         },
         "marker": {
          "size": 8
         },
         "mode": "lines+markers",
         "name": "Prediction of CAGR",
         "type": "scatter",
         "x": [
          "AVGO",
          "NVDA",
          "AXON",
          "NFLX",
          "AMZN",
          "FTNT",
          "MELI",
          "ISRG",
          "GOOGL",
          "GOOG",
          "MSFT",
          "CTSH",
          "ORLY",
          "ASML",
          "CSCO",
          "IDXX",
          "ADBE",
          "FAST"
         ],
         "y": {
          "bdata": "D54XiT7/1D/EKFltsrjUP9o4ZRJaqtM/gzZkcrnc0j+BmPEkHQDSP2+UZwTrwM0/ZNdQUqUGzT9NNMsC4aTLPypjtPx8MMs/XMIusEUdyz+QbxZCkBzMP8NjFIQ8kso/V/i/B9s5yT8+PBva6bnIPx75EBqkw8g/axH68jdxyD+Fjh9f7KHIP9WYm44gjMg/",
          "dtype": "f8"
         }
        }
       ],
       "layout": {
        "template": {
         "data": {
          "bar": [
           {
            "error_x": {
             "color": "#2a3f5f"
            },
            "error_y": {
             "color": "#2a3f5f"
            },
            "marker": {
             "line": {
              "color": "#E5ECF6",
              "width": 0.5
             },
             "pattern": {
              "fillmode": "overlay",
              "size": 10,
              "solidity": 0.2
             }
            },
            "type": "bar"
           }
          ],
          "barpolar": [
           {
            "marker": {
             "line": {
              "color": "#E5ECF6",
              "width": 0.5
             },
             "pattern": {
              "fillmode": "overlay",
              "size": 10,
              "solidity": 0.2
             }
            },
            "type": "barpolar"
           }
          ],
          "carpet": [
           {
            "aaxis": {
             "endlinecolor": "#2a3f5f",
             "gridcolor": "white",
             "linecolor": "white",
             "minorgridcolor": "white",
             "startlinecolor": "#2a3f5f"
            },
            "baxis": {
             "endlinecolor": "#2a3f5f",
             "gridcolor": "white",
             "linecolor": "white",
             "minorgridcolor": "white",
             "startlinecolor": "#2a3f5f"
            },
            "type": "carpet"
           }
          ],
          "choropleth": [
           {
            "colorbar": {
             "outlinewidth": 0,
             "ticks": ""
            },
            "type": "choropleth"
           }
          ],
          "contour": [
           {
            "colorbar": {
             "outlinewidth": 0,
             "ticks": ""
            },
            "colorscale": [
             [
              0,
              "#0d0887"
             ],
             [
              0.1111111111111111,
              "#46039f"
             ],
             [
              0.2222222222222222,
              "#7201a8"
             ],
             [
              0.3333333333333333,
              "#9c179e"
             ],
             [
              0.4444444444444444,
              "#bd3786"
             ],
             [
              0.5555555555555556,
              "#d8576b"
             ],
             [
              0.6666666666666666,
              "#ed7953"
             ],
             [
              0.7777777777777778,
              "#fb9f3a"
             ],
             [
              0.8888888888888888,
              "#fdca26"
             ],
             [
              1,
              "#f0f921"
             ]
            ],
            "type": "contour"
           }
          ],
          "contourcarpet": [
           {
            "colorbar": {
             "outlinewidth": 0,
             "ticks": ""
            },
            "type": "contourcarpet"
           }
          ],
          "heatmap": [
           {
            "colorbar": {
             "outlinewidth": 0,
             "ticks": ""
            },
            "colorscale": [
             [
              0,
              "#0d0887"
             ],
             [
              0.1111111111111111,
              "#46039f"
             ],
             [
              0.2222222222222222,
              "#7201a8"
             ],
             [
              0.3333333333333333,
              "#9c179e"
             ],
             [
              0.4444444444444444,
              "#bd3786"
             ],
             [
              0.5555555555555556,
              "#d8576b"
             ],
             [
              0.6666666666666666,
              "#ed7953"
             ],
             [
              0.7777777777777778,
              "#fb9f3a"
             ],
             [
              0.8888888888888888,
              "#fdca26"
             ],
             [
              1,
              "#f0f921"
             ]
            ],
            "type": "heatmap"
           }
          ],
          "histogram": [
           {
            "marker": {
             "pattern": {
              "fillmode": "overlay",
              "size": 10,
              "solidity": 0.2
             }
            },
            "type": "histogram"
           }
          ],
          "histogram2d": [
           {
            "colorbar": {
             "outlinewidth": 0,
             "ticks": ""
            },
            "colorscale": [
             [
              0,
              "#0d0887"
             ],
             [
              0.1111111111111111,
              "#46039f"
             ],
             [
              0.2222222222222222,
              "#7201a8"
             ],
             [
              0.3333333333333333,
              "#9c179e"
             ],
             [
              0.4444444444444444,
              "#bd3786"
             ],
             [
              0.5555555555555556,
              "#d8576b"
             ],
             [
              0.6666666666666666,
              "#ed7953"
             ],
             [
              0.7777777777777778,
              "#fb9f3a"
             ],
             [
              0.8888888888888888,
              "#fdca26"
             ],
             [
              1,
              "#f0f921"
             ]
            ],
            "type": "histogram2d"
           }
          ],
          "histogram2dcontour": [
           {
            "colorbar": {
             "outlinewidth": 0,
             "ticks": ""
            },
            "colorscale": [
             [
              0,
              "#0d0887"
             ],
             [
              0.1111111111111111,
              "#46039f"
             ],
             [
              0.2222222222222222,
              "#7201a8"
             ],
             [
              0.3333333333333333,
              "#9c179e"
             ],
             [
              0.4444444444444444,
              "#bd3786"
             ],
             [
              0.5555555555555556,
              "#d8576b"
             ],
             [
              0.6666666666666666,
              "#ed7953"
             ],
             [
              0.7777777777777778,
              "#fb9f3a"
             ],
             [
              0.8888888888888888,
              "#fdca26"
             ],
             [
              1,
              "#f0f921"
             ]
            ],
            "type": "histogram2dcontour"
           }
          ],
          "mesh3d": [
           {
            "colorbar": {
             "outlinewidth": 0,
             "ticks": ""
            },
            "type": "mesh3d"
           }
          ],
          "parcoords": [
           {
            "line": {
             "colorbar": {
              "outlinewidth": 0,
              "ticks": ""
             }
            },
            "type": "parcoords"
           }
          ],
          "pie": [
           {
            "automargin": true,
            "type": "pie"
           }
          ],
          "scatter": [
           {
            "fillpattern": {
             "fillmode": "overlay",
             "size": 10,
             "solidity": 0.2
            },
            "type": "scatter"
           }
          ],
          "scatter3d": [
           {
            "line": {
             "colorbar": {
              "outlinewidth": 0,
              "ticks": ""
             }
            },
            "marker": {
             "colorbar": {
              "outlinewidth": 0,
              "ticks": ""
             }
            },
            "type": "scatter3d"
           }
          ],
          "scattercarpet": [
           {
            "marker": {
             "colorbar": {
              "outlinewidth": 0,
              "ticks": ""
             }
            },
            "type": "scattercarpet"
           }
          ],
          "scattergeo": [
           {
            "marker": {
             "colorbar": {
              "outlinewidth": 0,
              "ticks": ""
             }
            },
            "type": "scattergeo"
           }
          ],
          "scattergl": [
           {
            "marker": {
             "colorbar": {
              "outlinewidth": 0,
              "ticks": ""
             }
            },
            "type": "scattergl"
           }
          ],
          "scattermap": [
           {
            "marker": {
             "colorbar": {
              "outlinewidth": 0,
              "ticks": ""
             }
            },
            "type": "scattermap"
           }
          ],
          "scattermapbox": [
           {
            "marker": {
             "colorbar": {
              "outlinewidth": 0,
              "ticks": ""
             }
            },
            "type": "scattermapbox"
           }
          ],
          "scatterpolar": [
           {
            "marker": {
             "colorbar": {
              "outlinewidth": 0,
              "ticks": ""
             }
            },
            "type": "scatterpolar"
           }
          ],
          "scatterpolargl": [
           {
            "marker": {
             "colorbar": {
              "outlinewidth": 0,
              "ticks": ""
             }
            },
            "type": "scatterpolargl"
           }
          ],
          "scatterternary": [
           {
            "marker": {
             "colorbar": {
              "outlinewidth": 0,
              "ticks": ""
             }
            },
            "type": "scatterternary"
           }
          ],
          "surface": [
           {
            "colorbar": {
             "outlinewidth": 0,
             "ticks": ""
            },
            "colorscale": [
             [
              0,
              "#0d0887"
             ],
             [
              0.1111111111111111,
              "#46039f"
             ],
             [
              0.2222222222222222,
              "#7201a8"
             ],
             [
              0.3333333333333333,
              "#9c179e"
             ],
             [
              0.4444444444444444,
              "#bd3786"
             ],
             [
              0.5555555555555556,
              "#d8576b"
             ],
             [
              0.6666666666666666,
              "#ed7953"
             ],
             [
              0.7777777777777778,
              "#fb9f3a"
             ],
             [
              0.8888888888888888,
              "#fdca26"
             ],
             [
              1,
              "#f0f921"
             ]
            ],
            "type": "surface"
           }
          ],
          "table": [
           {
            "cells": {
             "fill": {
              "color": "#EBF0F8"
             },
             "line": {
              "color": "white"
             }
            },
            "header": {
             "fill": {
              "color": "#C8D4E3"
             },
             "line": {
              "color": "white"
             }
            },
            "type": "table"
           }
          ]
         },
         "layout": {
          "annotationdefaults": {
           "arrowcolor": "#2a3f5f",
           "arrowhead": 0,
           "arrowwidth": 1
          },
          "autotypenumbers": "strict",
          "coloraxis": {
           "colorbar": {
            "outlinewidth": 0,
            "ticks": ""
           }
          },
          "colorscale": {
           "diverging": [
            [
             0,
             "#8e0152"
            ],
            [
             0.1,
             "#c51b7d"
            ],
            [
             0.2,
             "#de77ae"
            ],
            [
             0.3,
             "#f1b6da"
            ],
            [
             0.4,
             "#fde0ef"
            ],
            [
             0.5,
             "#f7f7f7"
            ],
            [
             0.6,
             "#e6f5d0"
            ],
            [
             0.7,
             "#b8e186"
            ],
            [
             0.8,
             "#7fbc41"
            ],
            [
             0.9,
             "#4d9221"
            ],
            [
             1,
             "#276419"
            ]
           ],
           "sequential": [
            [
             0,
             "#0d0887"
            ],
            [
             0.1111111111111111,
             "#46039f"
            ],
            [
             0.2222222222222222,
             "#7201a8"
            ],
            [
             0.3333333333333333,
             "#9c179e"
            ],
            [
             0.4444444444444444,
             "#bd3786"
            ],
            [
             0.5555555555555556,
             "#d8576b"
            ],
            [
             0.6666666666666666,
             "#ed7953"
            ],
            [
             0.7777777777777778,
             "#fb9f3a"
            ],
            [
             0.8888888888888888,
             "#fdca26"
            ],
            [
             1,
             "#f0f921"
            ]
           ],
           "sequentialminus": [
            [
             0,
             "#0d0887"
            ],
            [
             0.1111111111111111,
             "#46039f"
            ],
            [
             0.2222222222222222,
             "#7201a8"
            ],
            [
             0.3333333333333333,
             "#9c179e"
            ],
            [
             0.4444444444444444,
             "#bd3786"
            ],
            [
             0.5555555555555556,
             "#d8576b"
            ],
            [
             0.6666666666666666,
             "#ed7953"
            ],
            [
             0.7777777777777778,
             "#fb9f3a"
            ],
            [
             0.8888888888888888,
             "#fdca26"
            ],
            [
             1,
             "#f0f921"
            ]
           ]
          },
          "colorway": [
           "#636efa",
           "#EF553B",
           "#00cc96",
           "#ab63fa",
           "#FFA15A",
           "#19d3f3",
           "#FF6692",
           "#B6E880",
           "#FF97FF",
           "#FECB52"
          ],
          "font": {
           "color": "#2a3f5f"
          },
          "geo": {
           "bgcolor": "white",
           "lakecolor": "white",
           "landcolor": "#E5ECF6",
           "showlakes": true,
           "showland": true,
           "subunitcolor": "white"
          },
          "hoverlabel": {
           "align": "left"
          },
          "hovermode": "closest",
          "mapbox": {
           "style": "light"
          },
          "paper_bgcolor": "white",
          "plot_bgcolor": "#E5ECF6",
          "polar": {
           "angularaxis": {
            "gridcolor": "white",
            "linecolor": "white",
            "ticks": ""
           },
           "bgcolor": "#E5ECF6",
           "radialaxis": {
            "gridcolor": "white",
            "linecolor": "white",
            "ticks": ""
           }
          },
          "scene": {
           "xaxis": {
            "backgroundcolor": "#E5ECF6",
            "gridcolor": "white",
            "gridwidth": 2,
            "linecolor": "white",
            "showbackground": true,
            "ticks": "",
            "zerolinecolor": "white"
           },
           "yaxis": {
            "backgroundcolor": "#E5ECF6",
            "gridcolor": "white",
            "gridwidth": 2,
            "linecolor": "white",
            "showbackground": true,
            "ticks": "",
            "zerolinecolor": "white"
           },
           "zaxis": {
            "backgroundcolor": "#E5ECF6",
            "gridcolor": "white",
            "gridwidth": 2,
            "linecolor": "white",
            "showbackground": true,
            "ticks": "",
            "zerolinecolor": "white"
           }
          },
          "shapedefaults": {
           "line": {
            "color": "#2a3f5f"
           }
          },
          "ternary": {
           "aaxis": {
            "gridcolor": "white",
            "linecolor": "white",
            "ticks": ""
           },
           "baxis": {
            "gridcolor": "white",
            "linecolor": "white",
            "ticks": ""
           },
           "bgcolor": "#E5ECF6",
           "caxis": {
            "gridcolor": "white",
            "linecolor": "white",
            "ticks": ""
           }
          },
          "title": {
           "x": 0.05
          },
          "xaxis": {
           "automargin": true,
           "gridcolor": "white",
           "linecolor": "white",
           "ticks": "",
           "title": {
            "standoff": 15
           },
           "zerolinecolor": "white",
           "zerolinewidth": 2
          },
          "yaxis": {
           "automargin": true,
           "gridcolor": "white",
           "linecolor": "white",
           "ticks": "",
           "title": {
            "standoff": 15
           },
           "zerolinecolor": "white",
           "zerolinewidth": 2
          }
         }
        }
       }
      }
     },
     "metadata": {},
     "output_type": "display_data"
    }
   ],
   "source": [
    "# 折れ線グラフを追加\n",
    "fig.add_trace(go.Scatter(\n",
    "    x=df_cagr_filtered[\"symbol\"],\n",
    "    y=df_cagr_filtered[\"predicted_cagr\"],\n",
    "    name=\"Prediction of CAGR\",\n",
    "    mode=\"lines+markers\",\n",
    "    line=dict(color=\"orange\", width=2),\n",
    "    marker=dict(size=8)\n",
    "))"
   ]
  },
  {
   "cell_type": "code",
   "execution_count": 29,
   "id": "ddafe9d7-13bc-477f-9b0a-b95eef2241fc",
   "metadata": {
    "scrolled": true,
    "tags": []
   },
   "outputs": [
    {
     "data": {
      "application/vnd.plotly.v1+json": {
       "config": {
        "plotlyServerURL": "https://plot.ly"
       },
       "data": [
        {
         "marker": {
          "color": "skyblue"
         },
         "name": "Current CAGR",
         "type": "bar",
         "x": [
          "AVGO",
          "NVDA",
          "AXON",
          "NFLX",
          "AMZN",
          "FTNT",
          "MELI",
          "ISRG",
          "GOOGL",
          "GOOG",
          "MSFT",
          "CTSH",
          "ORLY",
          "ASML",
          "CSCO",
          "IDXX",
          "ADBE",
          "FAST"
         ],
         "y": {
          "bdata": "QFmeJvYw2T8NsFUibZ/XP1i89NADodY/7PvPj56p1T8BOb4/7PvTPz+eBNXv8NE/Y5rsqtMu0T+f/+br45zPP1q6Aa8iVc8/f03ksdsuzz/p4x7pn/jOP6CfHM2jKM4/5vblvB/xyz8xBAo7oWXLP45hsWHZ6so/r5eaJDHKyj8vclxgvLPKP2+FZk7GnMo/",
          "dtype": "f8"
         }
        },
        {
         "line": {
          "color": "orange",
          "width": 2
         },
         "marker": {
          "size": 8
         },
         "mode": "lines+markers",
         "name": "Prediction of CAGR",
         "type": "scatter",
         "x": [
          "AVGO",
          "NVDA",
          "AXON",
          "NFLX",
          "AMZN",
          "FTNT",
          "MELI",
          "ISRG",
          "GOOGL",
          "GOOG",
          "MSFT",
          "CTSH",
          "ORLY",
          "ASML",
          "CSCO",
          "IDXX",
          "ADBE",
          "FAST"
         ],
         "y": {
          "bdata": "D54XiT7/1D/EKFltsrjUP9o4ZRJaqtM/gzZkcrnc0j+BmPEkHQDSP2+UZwTrwM0/ZNdQUqUGzT9NNMsC4aTLPypjtPx8MMs/XMIusEUdyz+QbxZCkBzMP8NjFIQ8kso/V/i/B9s5yT8+PBva6bnIPx75EBqkw8g/axH68jdxyD+Fjh9f7KHIP9WYm44gjMg/",
          "dtype": "f8"
         }
        }
       ],
       "layout": {
        "template": {
         "data": {
          "bar": [
           {
            "error_x": {
             "color": "#2a3f5f"
            },
            "error_y": {
             "color": "#2a3f5f"
            },
            "marker": {
             "line": {
              "color": "white",
              "width": 0.5
             },
             "pattern": {
              "fillmode": "overlay",
              "size": 10,
              "solidity": 0.2
             }
            },
            "type": "bar"
           }
          ],
          "barpolar": [
           {
            "marker": {
             "line": {
              "color": "white",
              "width": 0.5
             },
             "pattern": {
              "fillmode": "overlay",
              "size": 10,
              "solidity": 0.2
             }
            },
            "type": "barpolar"
           }
          ],
          "carpet": [
           {
            "aaxis": {
             "endlinecolor": "#2a3f5f",
             "gridcolor": "#C8D4E3",
             "linecolor": "#C8D4E3",
             "minorgridcolor": "#C8D4E3",
             "startlinecolor": "#2a3f5f"
            },
            "baxis": {
             "endlinecolor": "#2a3f5f",
             "gridcolor": "#C8D4E3",
             "linecolor": "#C8D4E3",
             "minorgridcolor": "#C8D4E3",
             "startlinecolor": "#2a3f5f"
            },
            "type": "carpet"
           }
          ],
          "choropleth": [
           {
            "colorbar": {
             "outlinewidth": 0,
             "ticks": ""
            },
            "type": "choropleth"
           }
          ],
          "contour": [
           {
            "colorbar": {
             "outlinewidth": 0,
             "ticks": ""
            },
            "colorscale": [
             [
              0,
              "#0d0887"
             ],
             [
              0.1111111111111111,
              "#46039f"
             ],
             [
              0.2222222222222222,
              "#7201a8"
             ],
             [
              0.3333333333333333,
              "#9c179e"
             ],
             [
              0.4444444444444444,
              "#bd3786"
             ],
             [
              0.5555555555555556,
              "#d8576b"
             ],
             [
              0.6666666666666666,
              "#ed7953"
             ],
             [
              0.7777777777777778,
              "#fb9f3a"
             ],
             [
              0.8888888888888888,
              "#fdca26"
             ],
             [
              1,
              "#f0f921"
             ]
            ],
            "type": "contour"
           }
          ],
          "contourcarpet": [
           {
            "colorbar": {
             "outlinewidth": 0,
             "ticks": ""
            },
            "type": "contourcarpet"
           }
          ],
          "heatmap": [
           {
            "colorbar": {
             "outlinewidth": 0,
             "ticks": ""
            },
            "colorscale": [
             [
              0,
              "#0d0887"
             ],
             [
              0.1111111111111111,
              "#46039f"
             ],
             [
              0.2222222222222222,
              "#7201a8"
             ],
             [
              0.3333333333333333,
              "#9c179e"
             ],
             [
              0.4444444444444444,
              "#bd3786"
             ],
             [
              0.5555555555555556,
              "#d8576b"
             ],
             [
              0.6666666666666666,
              "#ed7953"
             ],
             [
              0.7777777777777778,
              "#fb9f3a"
             ],
             [
              0.8888888888888888,
              "#fdca26"
             ],
             [
              1,
              "#f0f921"
             ]
            ],
            "type": "heatmap"
           }
          ],
          "histogram": [
           {
            "marker": {
             "pattern": {
              "fillmode": "overlay",
              "size": 10,
              "solidity": 0.2
             }
            },
            "type": "histogram"
           }
          ],
          "histogram2d": [
           {
            "colorbar": {
             "outlinewidth": 0,
             "ticks": ""
            },
            "colorscale": [
             [
              0,
              "#0d0887"
             ],
             [
              0.1111111111111111,
              "#46039f"
             ],
             [
              0.2222222222222222,
              "#7201a8"
             ],
             [
              0.3333333333333333,
              "#9c179e"
             ],
             [
              0.4444444444444444,
              "#bd3786"
             ],
             [
              0.5555555555555556,
              "#d8576b"
             ],
             [
              0.6666666666666666,
              "#ed7953"
             ],
             [
              0.7777777777777778,
              "#fb9f3a"
             ],
             [
              0.8888888888888888,
              "#fdca26"
             ],
             [
              1,
              "#f0f921"
             ]
            ],
            "type": "histogram2d"
           }
          ],
          "histogram2dcontour": [
           {
            "colorbar": {
             "outlinewidth": 0,
             "ticks": ""
            },
            "colorscale": [
             [
              0,
              "#0d0887"
             ],
             [
              0.1111111111111111,
              "#46039f"
             ],
             [
              0.2222222222222222,
              "#7201a8"
             ],
             [
              0.3333333333333333,
              "#9c179e"
             ],
             [
              0.4444444444444444,
              "#bd3786"
             ],
             [
              0.5555555555555556,
              "#d8576b"
             ],
             [
              0.6666666666666666,
              "#ed7953"
             ],
             [
              0.7777777777777778,
              "#fb9f3a"
             ],
             [
              0.8888888888888888,
              "#fdca26"
             ],
             [
              1,
              "#f0f921"
             ]
            ],
            "type": "histogram2dcontour"
           }
          ],
          "mesh3d": [
           {
            "colorbar": {
             "outlinewidth": 0,
             "ticks": ""
            },
            "type": "mesh3d"
           }
          ],
          "parcoords": [
           {
            "line": {
             "colorbar": {
              "outlinewidth": 0,
              "ticks": ""
             }
            },
            "type": "parcoords"
           }
          ],
          "pie": [
           {
            "automargin": true,
            "type": "pie"
           }
          ],
          "scatter": [
           {
            "fillpattern": {
             "fillmode": "overlay",
             "size": 10,
             "solidity": 0.2
            },
            "type": "scatter"
           }
          ],
          "scatter3d": [
           {
            "line": {
             "colorbar": {
              "outlinewidth": 0,
              "ticks": ""
             }
            },
            "marker": {
             "colorbar": {
              "outlinewidth": 0,
              "ticks": ""
             }
            },
            "type": "scatter3d"
           }
          ],
          "scattercarpet": [
           {
            "marker": {
             "colorbar": {
              "outlinewidth": 0,
              "ticks": ""
             }
            },
            "type": "scattercarpet"
           }
          ],
          "scattergeo": [
           {
            "marker": {
             "colorbar": {
              "outlinewidth": 0,
              "ticks": ""
             }
            },
            "type": "scattergeo"
           }
          ],
          "scattergl": [
           {
            "marker": {
             "colorbar": {
              "outlinewidth": 0,
              "ticks": ""
             }
            },
            "type": "scattergl"
           }
          ],
          "scattermap": [
           {
            "marker": {
             "colorbar": {
              "outlinewidth": 0,
              "ticks": ""
             }
            },
            "type": "scattermap"
           }
          ],
          "scattermapbox": [
           {
            "marker": {
             "colorbar": {
              "outlinewidth": 0,
              "ticks": ""
             }
            },
            "type": "scattermapbox"
           }
          ],
          "scatterpolar": [
           {
            "marker": {
             "colorbar": {
              "outlinewidth": 0,
              "ticks": ""
             }
            },
            "type": "scatterpolar"
           }
          ],
          "scatterpolargl": [
           {
            "marker": {
             "colorbar": {
              "outlinewidth": 0,
              "ticks": ""
             }
            },
            "type": "scatterpolargl"
           }
          ],
          "scatterternary": [
           {
            "marker": {
             "colorbar": {
              "outlinewidth": 0,
              "ticks": ""
             }
            },
            "type": "scatterternary"
           }
          ],
          "surface": [
           {
            "colorbar": {
             "outlinewidth": 0,
             "ticks": ""
            },
            "colorscale": [
             [
              0,
              "#0d0887"
             ],
             [
              0.1111111111111111,
              "#46039f"
             ],
             [
              0.2222222222222222,
              "#7201a8"
             ],
             [
              0.3333333333333333,
              "#9c179e"
             ],
             [
              0.4444444444444444,
              "#bd3786"
             ],
             [
              0.5555555555555556,
              "#d8576b"
             ],
             [
              0.6666666666666666,
              "#ed7953"
             ],
             [
              0.7777777777777778,
              "#fb9f3a"
             ],
             [
              0.8888888888888888,
              "#fdca26"
             ],
             [
              1,
              "#f0f921"
             ]
            ],
            "type": "surface"
           }
          ],
          "table": [
           {
            "cells": {
             "fill": {
              "color": "#EBF0F8"
             },
             "line": {
              "color": "white"
             }
            },
            "header": {
             "fill": {
              "color": "#C8D4E3"
             },
             "line": {
              "color": "white"
             }
            },
            "type": "table"
           }
          ]
         },
         "layout": {
          "annotationdefaults": {
           "arrowcolor": "#2a3f5f",
           "arrowhead": 0,
           "arrowwidth": 1
          },
          "autotypenumbers": "strict",
          "coloraxis": {
           "colorbar": {
            "outlinewidth": 0,
            "ticks": ""
           }
          },
          "colorscale": {
           "diverging": [
            [
             0,
             "#8e0152"
            ],
            [
             0.1,
             "#c51b7d"
            ],
            [
             0.2,
             "#de77ae"
            ],
            [
             0.3,
             "#f1b6da"
            ],
            [
             0.4,
             "#fde0ef"
            ],
            [
             0.5,
             "#f7f7f7"
            ],
            [
             0.6,
             "#e6f5d0"
            ],
            [
             0.7,
             "#b8e186"
            ],
            [
             0.8,
             "#7fbc41"
            ],
            [
             0.9,
             "#4d9221"
            ],
            [
             1,
             "#276419"
            ]
           ],
           "sequential": [
            [
             0,
             "#0d0887"
            ],
            [
             0.1111111111111111,
             "#46039f"
            ],
            [
             0.2222222222222222,
             "#7201a8"
            ],
            [
             0.3333333333333333,
             "#9c179e"
            ],
            [
             0.4444444444444444,
             "#bd3786"
            ],
            [
             0.5555555555555556,
             "#d8576b"
            ],
            [
             0.6666666666666666,
             "#ed7953"
            ],
            [
             0.7777777777777778,
             "#fb9f3a"
            ],
            [
             0.8888888888888888,
             "#fdca26"
            ],
            [
             1,
             "#f0f921"
            ]
           ],
           "sequentialminus": [
            [
             0,
             "#0d0887"
            ],
            [
             0.1111111111111111,
             "#46039f"
            ],
            [
             0.2222222222222222,
             "#7201a8"
            ],
            [
             0.3333333333333333,
             "#9c179e"
            ],
            [
             0.4444444444444444,
             "#bd3786"
            ],
            [
             0.5555555555555556,
             "#d8576b"
            ],
            [
             0.6666666666666666,
             "#ed7953"
            ],
            [
             0.7777777777777778,
             "#fb9f3a"
            ],
            [
             0.8888888888888888,
             "#fdca26"
            ],
            [
             1,
             "#f0f921"
            ]
           ]
          },
          "colorway": [
           "#636efa",
           "#EF553B",
           "#00cc96",
           "#ab63fa",
           "#FFA15A",
           "#19d3f3",
           "#FF6692",
           "#B6E880",
           "#FF97FF",
           "#FECB52"
          ],
          "font": {
           "color": "#2a3f5f"
          },
          "geo": {
           "bgcolor": "white",
           "lakecolor": "white",
           "landcolor": "white",
           "showlakes": true,
           "showland": true,
           "subunitcolor": "#C8D4E3"
          },
          "hoverlabel": {
           "align": "left"
          },
          "hovermode": "closest",
          "mapbox": {
           "style": "light"
          },
          "paper_bgcolor": "white",
          "plot_bgcolor": "white",
          "polar": {
           "angularaxis": {
            "gridcolor": "#EBF0F8",
            "linecolor": "#EBF0F8",
            "ticks": ""
           },
           "bgcolor": "white",
           "radialaxis": {
            "gridcolor": "#EBF0F8",
            "linecolor": "#EBF0F8",
            "ticks": ""
           }
          },
          "scene": {
           "xaxis": {
            "backgroundcolor": "white",
            "gridcolor": "#DFE8F3",
            "gridwidth": 2,
            "linecolor": "#EBF0F8",
            "showbackground": true,
            "ticks": "",
            "zerolinecolor": "#EBF0F8"
           },
           "yaxis": {
            "backgroundcolor": "white",
            "gridcolor": "#DFE8F3",
            "gridwidth": 2,
            "linecolor": "#EBF0F8",
            "showbackground": true,
            "ticks": "",
            "zerolinecolor": "#EBF0F8"
           },
           "zaxis": {
            "backgroundcolor": "white",
            "gridcolor": "#DFE8F3",
            "gridwidth": 2,
            "linecolor": "#EBF0F8",
            "showbackground": true,
            "ticks": "",
            "zerolinecolor": "#EBF0F8"
           }
          },
          "shapedefaults": {
           "line": {
            "color": "#2a3f5f"
           }
          },
          "ternary": {
           "aaxis": {
            "gridcolor": "#DFE8F3",
            "linecolor": "#A2B1C6",
            "ticks": ""
           },
           "baxis": {
            "gridcolor": "#DFE8F3",
            "linecolor": "#A2B1C6",
            "ticks": ""
           },
           "bgcolor": "white",
           "caxis": {
            "gridcolor": "#DFE8F3",
            "linecolor": "#A2B1C6",
            "ticks": ""
           }
          },
          "title": {
           "x": 0.05
          },
          "xaxis": {
           "automargin": true,
           "gridcolor": "#EBF0F8",
           "linecolor": "#EBF0F8",
           "ticks": "",
           "title": {
            "standoff": 15
           },
           "zerolinecolor": "#EBF0F8",
           "zerolinewidth": 2
          },
          "yaxis": {
           "automargin": true,
           "gridcolor": "#EBF0F8",
           "linecolor": "#EBF0F8",
           "ticks": "",
           "title": {
            "standoff": 15
           },
           "zerolinecolor": "#EBF0F8",
           "zerolinewidth": 2
          }
         }
        },
        "title": {
         "text": "Current CAGR and Prediction"
        },
        "xaxis": {
         "title": {
          "text": "Symbol"
         }
        },
        "yaxis": {
         "tickvals": [
          0,
          0.1,
          0.2,
          0.3,
          0.4,
          0.5
         ],
         "title": {
          "text": "CAGR"
         }
        }
       }
      }
     },
     "metadata": {},
     "output_type": "display_data"
    }
   ],
   "source": [
    "# レイアウトを調整\n",
    "fig.update_layout(\n",
    "    title=\"Current CAGR and Prediction\",\n",
    "    xaxis=dict(title=\"Symbol\"),\n",
    "    yaxis=dict(\n",
    "        tickvals=[0, 0.1, 0.2, 0.3, 0.4, 0.5],\n",
    "        title=\"CAGR\"\n",
    "    ),\n",
    "    template=\"plotly_white\"\n",
    ")"
   ]
  },
  {
   "cell_type": "code",
   "execution_count": 30,
   "id": "c55a0a80-8648-4df5-b4b6-3cbd3f84f495",
   "metadata": {
    "tags": []
   },
   "outputs": [],
   "source": [
    "# データをExcelに出力\n",
    "df_cagr_prediction.to_excel(\"cagr_prediction_data.xlsx\", index=False)"
   ]
  },
  {
   "cell_type": "code",
   "execution_count": null,
   "id": "caac5bfc-2f9b-4b40-ae4a-073c38598753",
   "metadata": {},
   "outputs": [],
   "source": []
  }
 ],
 "metadata": {
  "kernelspec": {
   "display_name": "calculate-cagr",
   "language": "python",
   "name": "python3"
  },
  "language_info": {
   "codemirror_mode": {
    "name": "ipython",
    "version": 3
   },
   "file_extension": ".py",
   "mimetype": "text/x-python",
   "name": "python",
   "nbconvert_exporter": "python",
   "pygments_lexer": "ipython3",
   "version": "3.13.8"
  }
 },
 "nbformat": 4,
 "nbformat_minor": 5
}
